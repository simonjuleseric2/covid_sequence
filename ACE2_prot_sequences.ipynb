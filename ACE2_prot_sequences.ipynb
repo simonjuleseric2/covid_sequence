{
 "cells": [
  {
   "cell_type": "code",
   "execution_count": 42,
   "metadata": {},
   "outputs": [],
   "source": [
    "import pandas as pd\n",
    "import numpy as np\n",
    "\n",
    "from Bio import SeqIO\n",
    "from Bio import Entrez\n",
    "import os\n",
    "from Bio.Align.Applications import ClustalOmegaCommandline\n",
    "from Bio import Phylo, AlignIO\n",
    "\n",
    "from Bio.Phylo.TreeConstruction import DistanceCalculator, DistanceTreeConstructor\n",
    "from Bio.Phylo import draw\n",
    "\n",
    "import matplotlib.pyplot as plt\n",
    "\n",
    "Entrez.email='simon.burgermeister@gmail.com'"
   ]
  },
  {
   "cell_type": "markdown",
   "metadata": {},
   "source": [
    "## Exploration on genbank data:\n",
    "<br>\n",
    "<br>"
   ]
  },
  {
   "cell_type": "markdown",
   "metadata": {},
   "source": [
    "### Human ACE2 protein sequence:\n",
    "<br>\n",
    "<br>"
   ]
  },
  {
   "cell_type": "code",
   "execution_count": 87,
   "metadata": {},
   "outputs": [
    {
     "name": "stdout",
     "output_type": "stream",
     "text": [
      "LOCUS       ABW16956                 804 aa            linear   MAM 21-OCT-2009\n",
      "DEFINITION  angiotensin converting enzyme 2 [Nyctereutes procyonoides].\n",
      "ACCESSION   ABW16956\n",
      "VERSION     ABW16956.1\n",
      "DBSOURCE    accession EU024940.1\n",
      "KEYWORDS    .\n",
      "SOURCE      Nyctereutes procyonoides (raccoon dog)\n",
      "  ORGANISM  Nyctereutes procyonoides\n",
      "            Eukaryota; Metazoa; Chordata; Craniata; Vertebrata; Euteleostomi;\n",
      "            Mammalia; Eutheria; Laurasiatheria; Carnivora; Caniformia; Canidae;\n",
      "            Nyctereutes.\n",
      "REFERENCE   1  (residues 1 to 804)\n",
      "  AUTHORS   Xu,L., Zhang,Y., Liu,Y., Chen,Z., Deng,H., Ma,Z., Wang,H., Hu,Z.\n",
      "            and Deng,F.\n",
      "  TITLE     Angiotensin-converting enzyme 2 (ACE2) from raccoon dog can serve\n",
      "            as an efficient receptor for the spike protein of severe acute\n",
      "            respiratory syndrome coronavirus\n",
      "  JOURNAL   J. Gen. Virol. 90 (PT 11), 2695-2703 (2009)\n",
      "   PUBMED   19625462\n",
      "REFERENCE   2  (residues 1 to 804)\n",
      "  AUTHORS   Xu,L., Ma,Z., Hu,Z., Wang,H. and Deng,F.\n",
      "  TITLE     Direct Submission\n",
      "  JOURNAL   Submitted (10-JUL-2007) Chinese Academy of Sciences, Wuhan\n",
      "            Institute of Virology, 44 Xiao Hongshan Middle Strict, Wuhan, Hubei\n",
      "            430071, China\n",
      "COMMENT     Method: conceptual translation supplied by author.\n",
      "FEATURES             Location/Qualifiers\n",
      "     source          1..804\n",
      "                     /organism=\"Nyctereutes procyonoides\"\n",
      "                     /db_xref=\"taxon:34880\"\n",
      "     Protein         1..804\n",
      "                     /product=\"angiotensin converting enzyme 2\"\n",
      "     Region          20..605\n",
      "                     /region_name=\"Peptidase_M2\"\n",
      "                     /note=\"Angiotensin-converting enzyme; pfam01401\"\n",
      "                     /db_xref=\"CDD:396123\"\n",
      "     Region          616..769\n",
      "                     /region_name=\"Collectrin\"\n",
      "                     /note=\"Renal amino acid transporter; pfam16959\"\n",
      "                     /db_xref=\"CDD:407175\"\n",
      "     CDS             1..804\n",
      "                     /gene=\"ACE2\"\n",
      "                     /coded_by=\"EU024940.1:1..2415\"\n",
      "ORIGIN      \n",
      "        1 msgsswllls laaltaaqst edlvntflek fnyeaeelsy qsslaswnyn tnitdenlqk\n",
      "       61 mnnagakwsa fyeeqsklak typleeiqds tvkrqlralq hsgssvlsad knqrlntiln\n",
      "      121 smstiystgk acnpsnpqec lllepglddi menskdyner lwawegwrse vgkqlrplye\n",
      "      181 eyvalknema rannyedygd ywrgdyeeew engynysrnq liddvehtft qimplyqhlh\n",
      "      241 ayvrtklmdt ypsyisptgc lpahllgdmw grfwtnlypl tvpfgqkpni dvtnamvnqs\n",
      "      301 wdarkifkea ekffvsvglp nmtqgfwens mltepsdswk vvchptawdl grgdfrikmc\n",
      "      361 tkvtmddflt ahhemghiqy dmayaaqpfl lrnganegfh eavgeimsls aatpnhlkni\n",
      "      421 gllppsffed seteinfllk qaltivgtlp ftymlekwrw mvfkgeipkd qwmktwwemk\n",
      "      481 rnivgvvepv phdetycdpa slfhvandys firyytrtiy qfqfqealcq iakhegplhk\n",
      "      541 cdisnsseag qkllemlklg kskpwtyale ivvgaknmdv rpllnyfepl ftwlkeqnrn\n",
      "      601 sfvgwntdws pyadqsikvr islksalgek ayewnnnemy lfrssiayam rqyfsevknq\n",
      "      661 tipfvednvw vsdlkprisf nffvtspgnv sdiiprteve eairmyrsri ndvfrlddns\n",
      "      721 leflgiqptl gppyeppvti wlivfgvvmg vvvvgivlli fsgirnrrkn dqargeenpy\n",
      "      781 asvdlskgen npgfqnvdda qtsf\n",
      "//\n",
      "\n",
      "\n"
     ]
    }
   ],
   "source": [
    "ref_id='BAB40370'\n",
    "\n",
    "#BAB40370\n",
    "handle = Entrez.efetch(db='protein', id=ref_id, rettype='gb')\n",
    "print(handle.read())\n",
    "handle.close()"
   ]
  },
  {
   "cell_type": "markdown",
   "metadata": {},
   "source": [
    "### Rhinopithecus roxellana ACE2:\n",
    "<br>\n",
    "<br>"
   ]
  },
  {
   "cell_type": "code",
   "execution_count": 31,
   "metadata": {},
   "outputs": [
    {
     "name": "stdout",
     "output_type": "stream",
     "text": [
      "LOCUS       XP_010364367             805 aa            linear   PRI 25-SEP-2019\n",
      "DEFINITION  angiotensin-converting enzyme 2 [Rhinopithecus roxellana].\n",
      "ACCESSION   XP_010364367\n",
      "VERSION     XP_010364367.2\n",
      "DBLINK      BioProject: PRJNA565017\n",
      "DBSOURCE    REFSEQ: accession XM_010366065.2\n",
      "KEYWORDS    RefSeq.\n",
      "SOURCE      Rhinopithecus roxellana (golden snub-nosed monkey)\n",
      "  ORGANISM  Rhinopithecus roxellana\n",
      "            Eukaryota; Metazoa; Chordata; Craniata; Vertebrata; Euteleostomi;\n",
      "            Mammalia; Eutheria; Euarchontoglires; Primates; Haplorrhini;\n",
      "            Catarrhini; Cercopithecidae; Colobinae; Rhinopithecus.\n",
      "COMMENT     MODEL REFSEQ:  This record is predicted by automated computational\n",
      "            analysis. This record is derived from a genomic sequence\n",
      "            (NC_044555.1) annotated using gene prediction method: Gnomon,\n",
      "            supported by mRNA and EST evidence.\n",
      "            Also see:\n",
      "                Documentation of NCBI's Annotation Process\n",
      "            \n",
      "            On Sep 25, 2019 this sequence version replaced XP_010364367.1.\n",
      "            \n",
      "            ##Genome-Annotation-Data-START##\n",
      "            Annotation Provider         :: NCBI\n",
      "            Annotation Status           :: Full annotation\n",
      "            Annotation Name             :: Rhinopithecus roxellana Annotation\n",
      "                                           Release 101\n",
      "            Annotation Version          :: 101\n",
      "            Annotation Pipeline         :: NCBI eukaryotic genome annotation\n",
      "                                           pipeline\n",
      "            Annotation Software Version :: 8.2\n",
      "            Annotation Method           :: Best-placed RefSeq; Gnomon\n",
      "            Features Annotated          :: Gene; mRNA; CDS; ncRNA\n",
      "            ##Genome-Annotation-Data-END##\n",
      "            COMPLETENESS: full length.\n",
      "FEATURES             Location/Qualifiers\n",
      "     source          1..805\n",
      "                     /organism=\"Rhinopithecus roxellana\"\n",
      "                     /isolate=\"Shanxi Qingling\"\n",
      "                     /db_xref=\"taxon:61622\"\n",
      "                     /chromosome=\"7\"\n",
      "                     /sex=\"male\"\n",
      "                     /tissue_type=\"heart\"\n",
      "                     /dev_stage=\"adult\"\n",
      "     Protein         1..805\n",
      "                     /product=\"angiotensin-converting enzyme 2\"\n",
      "                     /calculated_mol_wt=92555\n",
      "     Region          19..606\n",
      "                     /region_name=\"Peptidase_M2\"\n",
      "                     /note=\"Angiotensin-converting enzyme; pfam01401\"\n",
      "                     /db_xref=\"CDD:366618\"\n",
      "     Site            order(374,378,402)\n",
      "                     /site_type=\"other\"\n",
      "                     /note=\"Zn binding site [ion binding]\"\n",
      "                     /db_xref=\"CDD:341055\"\n",
      "     Region          617..770\n",
      "                     /region_name=\"Collectrin\"\n",
      "                     /note=\"Renal amino acid transporter; pfam16959\"\n",
      "                     /db_xref=\"CDD:374904\"\n",
      "     CDS             1..805\n",
      "                     /gene=\"ACE2\"\n",
      "                     /coded_by=\"XM_010366065.2:307..2724\"\n",
      "                     /db_xref=\"GeneID:104664530\"\n",
      "ORIGIN      \n",
      "        1 msgsswllls lvavtaaqst ieeqaktfld kfnheaedlf yqsslaswny ntniteenvq\n",
      "       61 nmnnagdkws aflkeqstla qmyplqeiqn ltvklqlqal qqngssvlse dkskrlntil\n",
      "      121 ntmstiystg kvcnpnnsqe cllldpglne imeksldyne rlwawegwrs evgkqlrply\n",
      "      181 eeyvvlknem aranhykdyg dywrgdyevn gvdgydynrd qliedvehtf eeikplyehl\n",
      "      241 hayvraklmn aypsyisptg clpahllgdm wgrfwtnlys ltvpfgqkpn idvtdamvnq\n",
      "      301 awnaqrifke aekffvsigl pnmtrgfwen smltdpgnvq kvvchptawd lgkgdfriim\n",
      "      361 ctkvtmddfl tahhemghiq ydmayaaqpf llrnganegf heavgeimsl saatpkhlks\n",
      "      421 igllspdfqe dneteinfll kqaltivgtl pftymlekwr wmvfkgeipk dqwmkkwwem\n",
      "      481 kreivgvvep vphdetycdp aslfhvsndy sfiryytrtl yqfqfhealc qaakhegplh\n",
      "      541 kcdisnstea gqkllnmlkl gksepwtlal envvgaknmn vrpllnyfep lftwlkdqnk\n",
      "      601 nsfvgwstdw spyadqsikv rislksalgd kayewndnem ylfrssvaya mrkyfleikh\n",
      "      661 qtilfgeedv rvadfkpris fnfyvtapkn vsdiiprtev eeairisrsr indafrlndn\n",
      "      721 sleflgiqpt lappyqppvt iwlivfgvvm gvivagivvl iftgirdrkk knqarseenp\n",
      "      781 yasidisqge nnpgfqntdd vqtsf\n",
      "//\n",
      "\n",
      "\n"
     ]
    }
   ],
   "source": [
    "\n",
    "ref_id='XP_010364367'\n",
    "\n",
    "handle = Entrez.efetch(db='protein', id=ref_id, rettype='gb')\n",
    "print(handle.read())\n",
    "handle.close()"
   ]
  },
  {
   "cell_type": "markdown",
   "metadata": {},
   "source": [
    "## Combine sequences of interest from different organisms:\n",
    "<br>\n",
    "<br>"
   ]
  },
  {
   "cell_type": "code",
   "execution_count": 78,
   "metadata": {},
   "outputs": [],
   "source": [
    "## Code for uniprot extraction:\n",
    "\n",
    "#from Bio import ExPASy\n",
    "#from Bio import SwissProt\n",
    "#handle = ExPASy.get_sprot_raw('B4XEP4')\n",
    "#record = SwissProt.read(handle)\n",
    "#print(str(record.sequence))\n",
    "#print(type(record.sequence))record = SeqRecord(Seq(record.sequence, IUPAC.protein), id=\"YP_025292.1\", name=record.accessions[0], description=record.organism)\n",
    "#handle = Entrez.efetch(db='protein', id='B4XEP4_NYCPR', rettype='gb')"
   ]
  },
  {
   "cell_type": "code",
   "execution_count": 94,
   "metadata": {},
   "outputs": [
    {
     "name": "stdout",
     "output_type": "stream",
     "text": [
      "BAB40370\n",
      "ADN93471\n",
      "BAH02663\n",
      "Q5EGZ1\n",
      "XP_017505752\n",
      "ADN93472\n",
      "ABW16956\n",
      "XP_032187679\n"
     ]
    },
    {
     "data": {
      "text/plain": [
       "8"
      ]
     },
     "execution_count": 94,
     "metadata": {},
     "output_type": "execute_result"
    }
   ],
   "source": [
    "## Uniprot ID:\n",
    "#lst_id=['Q9BYF1', 'E2DHI3', 'B6ZGN7', 'B4XEP4', 'J9P7Y2']\n",
    "#lst_sp=['homo sapiens', 'Rhinolophus macrotis', 'Rhinolophus ferrumequinum', 'Nyctereutes procyonoides', 'Canis lupus familiaris']\n",
    "\n",
    "##Genbank ID:\n",
    "\n",
    "lst_id=['BAB40370', 'ADN93471', 'BAH02663', 'Q5EGZ1', 'XP_017505752', 'ADN93472', 'ABW16956', 'XP_032187679']\n",
    "lst_sp=['Homo sapiens', 'Rhinolophus macrotis', 'Rhinolophus ferrumequinum', 'Rattus Norvegicus', 'Manis javanica', 'Rhinolophus sinicus', 'Nyctereutes procyonoides', 'Mustela erminea']\n",
    "\n",
    "#Q9BYF1\n",
    "#Mustela erminea\n",
    "#cid='XP_032187679'\n",
    "\n",
    "#Mustela putorius furo\n",
    "#cid='BAE53380'\n",
    "\n",
    "lst_record=[]\n",
    "for iid in lst_id:\n",
    "    print(iid)\n",
    "    handle = Entrez.efetch(db='protein', id=iid, rettype='gb')\n",
    "    record = SeqIO.read(handle, \"genbank\")\n",
    "    \n",
    "    ## Swissprot\n",
    "    #handle = ExPASy.get_sprot_raw(iid)\n",
    "    #record = SwissProt.read(handle)\n",
    "    \n",
    "    handle.close()\n",
    "    lst_record.append(record)\n",
    "    \n",
    "SeqIO.write(lst_record, \"sequences/ACE2_all.fasta\", \"fasta\")\n",
    "    "
   ]
  },
  {
   "cell_type": "markdown",
   "metadata": {},
   "source": [
    "## Align and make tree:\n",
    "<br>\n",
    "<br>"
   ]
  },
  {
   "cell_type": "code",
   "execution_count": 95,
   "metadata": {},
   "outputs": [
    {
     "name": "stdout",
     "output_type": "stream",
     "text": [
      "clustalo -i sequences/ACE2_all.fasta -o sequences/ace2_aligned.fasta --auto -v --force\n"
     ]
    },
    {
     "data": {
      "text/plain": [
       "('Using 8 threads\\nRead 8 sequences (type: Protein) from sequences/ACE2_all.fasta\\nnot more sequences (8) than cluster-size (100), turn off mBed\\nSetting options automatically based on input sequence characteristics (might overwrite some of your options).\\nAuto settings: Enabling mBed.\\nAuto settings: Setting iteration to 1.\\nUsing 7 seeds (chosen with constant stride from length sorted seqs) for mBed (from a total of 8 sequences)\\nCalculating pairwise ktuple-distances...\\nKtuple-distance calculation progress: 0 % (0 out of 35)\\nKtuple-distance calculation progress: 2 % (1 out of 35)\\nKtuple-distance calculation progress: 5 % (2 out of 35)\\nKtuple-distance calculation progress: 8 % (3 out of 35)\\nKtuple-distance calculation progress: 11 % (4 out of 35)\\nKtuple-distance calculation progress: 14 % (5 out of 35)\\nKtuple-distance calculation progress: 17 % (6 out of 35)\\nKtuple-distance calculation progress done. CPU time: 0.01u 0.00s 00:00:00.01 Elapsed: 00:00:00\\nmBed created 1 cluster/s (with a minimum of 1 and a soft maximum of 100 sequences each)\\nDistance calculation within sub-clusters: 0 % (0 out of 1)\\nDistance calculation within sub-clusters done. CPU time: 0.01u 0.00s 00:00:00.01 Elapsed: 00:00:00\\nGuide-tree computation (mBed) done.\\nProgressive alignment progress: 14 % (1 out of 7)\\nProgressive alignment progress: 28 % (2 out of 7)\\nProgressive alignment progress: 42 % (3 out of 7)\\nProgressive alignment progress: 57 % (4 out of 7)\\nProgressive alignment progress: 71 % (5 out of 7)\\nProgressive alignment progress: 85 % (6 out of 7)\\nProgressive alignment progress: 100 % (7 out of 7)\\nProgressive alignment progress done. CPU time: 0.93u 0.03s 00:00:00.96 Elapsed: 00:00:00\\nIteration step 1 out of 1\\nComputing new guide tree (iteration step 2)\\nCalculating pairwise aligned identity distances...\\nPairwise distance calculation progress: 0 % (0 out of 36)\\nPairwise distance calculation progress: 0 % (0 out of 36)\\nPairwise distance calculation progress: 2 % (1 out of 36)\\nPairwise distance calculation progress: 5 % (2 out of 36)\\nPairwise distance calculation progress: 13 % (5 out of 36)\\nPairwise distance calculation progress: 16 % (6 out of 36)\\nPairwise distance calculation progress: 22 % (8 out of 36)\\nPairwise distance calculation progress: 30 % (11 out of 36)\\nPairwise identity calculation progress done. CPU time: 0.00u 0.00s 00:00:00.00 Elapsed: 00:00:00\\nGuide-tree computation done.\\nComputing HMM from alignment\\nProgressive alignment progress: 14 % (1 out of 7)\\nProgressive alignment progress: 28 % (2 out of 7)\\nProgressive alignment progress: 42 % (3 out of 7)\\nProgressive alignment progress: 57 % (4 out of 7)\\nProgressive alignment progress: 71 % (5 out of 7)\\nProgressive alignment progress: 85 % (6 out of 7)\\nProgressive alignment progress: 100 % (7 out of 7)\\nProgressive alignment progress done. CPU time: 1.59u 0.01s 00:00:01.60 Elapsed: 00:00:01\\nAlignment written to sequences/ace2_aligned.fasta\\n',\n",
       " '')"
      ]
     },
     "execution_count": 95,
     "metadata": {},
     "output_type": "execute_result"
    }
   ],
   "source": [
    "# Define input file\n",
    "in_file = \"sequences/ACE2_all.fasta\"\n",
    "\n",
    "# Define output file\n",
    "out_file = \"sequences/ace2_aligned.fasta\"\n",
    "\n",
    "# Get the command for Clustal Omega\n",
    "###sudo apt-get install -y clustalo\n",
    "clustalomega_cline = ClustalOmegaCommandline(infile=in_file, outfile=out_file, verbose=True, auto=True,  force=True)\n",
    "\n",
    "# Print the executable command\n",
    "print(clustalomega_cline)\n",
    "clustalomega_cline()"
   ]
  },
  {
   "cell_type": "code",
   "execution_count": 96,
   "metadata": {},
   "outputs": [
    {
     "name": "stdout",
     "output_type": "stream",
     "text": [
      "Alignment with 8 rows and 805 columns\n",
      "MSSSSWLLLSLVAVTAAQSTIEEQAKTFLDKFNHEAEDLFYQSS...TSF BAB40370.1\n",
      "MSGSFWLLLSLVAVTAAQSTTEDEAKKFLDKFNSKAEDLSYESS...TSF ADN93471.1\n",
      "MSGSSWLLLSLVAVTAAQSTTEDLAKKFLDDFNSEAENLSHQSS...TSF BAH02663.1\n",
      "MSSSCWLLLSLVAVATAQSLIEEKAESFLNKFNQEAEDLSYQSS...TSF Q5EGZ1.1\n",
      "MSGSSWLLLSLVAVTAAQSTSDEEAKTFLEKFNSEAEELSYQSS...TSF XP_017505752.1\n",
      "MSGSFWFLLSLVAVTTAQSTTEDEAKIFLDKFNTKAEDLSHQSS...TSF ADN93472.1\n",
      "MSGSSWLLLSLAALTAAQST-EDLVNTFLEKFNYEAEELSYQSS...TSF ABW16956.1\n",
      "MLGSSWLLLSLAALTAAQSTTEDLAKTFLEKFNYEAEELSYQNS...TSF XP_032187679.1\n"
     ]
    }
   ],
   "source": [
    "align = AlignIO.read(\"sequences/ace2_aligned.fasta\", \"fasta\")\n",
    "print(align)\n",
    "\n",
    "calculator = DistanceCalculator('identity')\n",
    "dm = calculator.get_distance(align)"
   ]
  },
  {
   "cell_type": "code",
   "execution_count": 97,
   "metadata": {},
   "outputs": [
    {
     "name": "stdout",
     "output_type": "stream",
     "text": [
      "\n",
      "Distance Matrix:\n",
      "-----------------------\n",
      "BAB40370.1\t0\n",
      "ADN93471.1\t0.1925465838509317\t0\n",
      "BAH02663.1\t0.18881987577639747\t0.07453416149068326\t0\n",
      "Q5EGZ1.1\t0.1751552795031056\t0.2211180124223603\t0.21614906832298142\t0\n",
      "XP_017505752.1\t0.15279503105590064\t0.16273291925465838\t0.17018633540372674\t0.17391304347826086\t0\n",
      "ADN93472.1\t0.19875776397515532\t0.047204968944099424\t0.075776397515528\t0.2273291925465839\t0.177639751552795\t0\n",
      "ABW16956.1\t0.16149068322981364\t0.1838509316770186\t0.18509316770186335\t0.1863354037267081\t0.13291925465838506\t0.19378881987577645\t0\n",
      "XP_032187679.1\t0.17142857142857137\t0.1863354037267081\t0.18881987577639747\t0.19751552795031058\t0.1341614906832298\t0.1950310559006211\t0.09813664596273297\t0\n",
      "\tBAB40370.1\tADN93471.1\tBAH02663.1\tQ5EGZ1.1\tXP_017505752.1\tADN93472.1\tABW16956.1\tXP_032187679.1\n",
      "\n",
      "Phylogenetic Tree:\n",
      "-----------------------\n"
     ]
    },
    {
     "data": {
      "image/png": "[encoded data removed]",
      "text/plain": [
       "<Figure size 1500x1000 with 1 Axes>"
      ]
     },
     "metadata": {
      "needs_background": "light"
     },
     "output_type": "display_data"
    }
   ],
   "source": [
    "code=lst_id\n",
    "host=lst_sp\n",
    "\n",
    "\n",
    "def get_label(leaf):\n",
    "    #code=['JQ065048', 'MN996528', 'NC_034972', 'NC_019843', 'KX389094', 'MG772934', 'MT084071']\n",
    "    #host=['Wigeon', 'H. Sapiens, COVID-19', 'Rodent', 'H. Sapiens, MERS', 'Red junglefowl', 'Horseshoe bat', 'Pangolin']\n",
    "    \n",
    "    if leaf.name.startswith('Inner'):\n",
    "        name=''\n",
    "        return name\n",
    "    else:\n",
    "        \n",
    "        for i in range(0, len(code)):\n",
    "            if leaf.name.startswith(code[i]):\n",
    "                name=host[i]\n",
    "                return name\n",
    "            \n",
    "            #return ''\n",
    "        #name=leaf.name\n",
    "\n",
    "    #return name\n",
    "\n",
    "\n",
    "print('\\nDistance Matrix:\\n-----------------------')\n",
    "print(dm)\n",
    "\n",
    "# Phylogenetic tree using UPGMA algorithm\n",
    "constructor = DistanceTreeConstructor()\n",
    "tree = constructor.upgma(dm) # We color the human strain, SARS and SARS-CoV-2 in blue\n",
    "#tree.clade[1, 1, 0].color = \"black\"\n",
    "#mrca = tree.common_ancestor({'name':  'MG772934'}, {'name': 'MN996528'})\n",
    "#mrca.color = \"red\"\n",
    "\n",
    "fig = plt.figure(figsize=(15, 10), dpi=100)\n",
    "axes = fig.add_subplot(1, 1, 1)\n",
    "#Phylo.draw(tree, axes=axes)\n",
    "Phylo.draw(tree, axes=axes, label_func=get_label, branch_labels=lambda c: round(c.branch_length, 2), do_show=False)\n",
    "plt.title('ACE2 Tree')\n",
    "plt.savefig('tree.png')\n",
    "\n",
    "print('\\nPhylogenetic Tree:\\n-----------------------')\n",
    "#Phylo.draw_ascii(tree)"
   ]
  },
  {
   "cell_type": "markdown",
   "metadata": {},
   "source": [
    "## key amino acids:\n",
    "\n",
    "<br>\n",
    "<br>"
   ]
  },
  {
   "cell_type": "code",
   "execution_count": 121,
   "metadata": {},
   "outputs": [],
   "source": [
    "# key amino acid (1 indexing)\n",
    "#key_AA=[24, 27, 28, 30, 31, 34, 35, 37, 38, 41, 42, 45, 82, 83, 330, 353, 354, 355, 357, 393]\n",
    "\n",
    "# key amino acid (0 indexing)\n",
    "key_AA=[23, 26, 27, 29, 30, 33, 34, 36, 37, 40, 41, 44, 81, 82, 329, 352, 353, 354, 356, 392]\n",
    "\n",
    "    "
   ]
  },
  {
   "cell_type": "code",
   "execution_count": 125,
   "metadata": {},
   "outputs": [
    {
     "name": "stdout",
     "output_type": "stream",
     "text": [
      "QTFDKHEEDYQLMYNKGDRR  :  Homo sapiens\n",
      "EKFDKSKEDYELNYKKGDRR  :  Rhinolophus macrotis\n",
      "LKFDDSEENHQLNFNKGDRR  :  Rhinolophus ferrumequinum\n",
      "KSFNKQEEDYQLNFNHGDRR  :  Rattus Norvegicus\n",
      "ETFEKSEEEYQLNYNKHDRR  :  Manis javanica\n",
      "EIFDKTKEDHQLNYNKGDRR  :  Rhinolophus sinicus\n",
      "VFLKFEAELQSAYPSGDFIN  :  Nyctereutes procyonoides\n",
      "LTFEKYEEEYQLTYNKRDRR  :  Mustela erminea\n"
     ]
    }
   ],
   "source": [
    "lst_kaa=[]\n",
    "for i, rec in enumerate(lst_record):\n",
    "    sseq=str(rec.seq)\n",
    "    kaa_seq=''\n",
    "    for kaa in key_AA:\n",
    "        kaa_seq=kaa_seq+sseq[kaa]\n",
    "    \n",
    "    lst_kaa.append(kaa_seq)\n",
    "    print(kaa_seq, ' : ', lst_sp[i])\n",
    "#print(lst_kaa)"
   ]
  },
  {
   "cell_type": "code",
   "execution_count": null,
   "metadata": {},
   "outputs": [],
   "source": []
  }
 ],
 "metadata": {
  "kernelspec": {
   "display_name": "Python (simenv)",
   "language": "python",
   "name": "simenv"
  },
  "language_info": {
   "codemirror_mode": {
    "name": "ipython",
    "version": 3
   },
   "file_extension": ".py",
   "mimetype": "text/x-python",
   "name": "python",
   "nbconvert_exporter": "python",
   "pygments_lexer": "ipython3",
   "version": "3.8.5"
  }
 },
 "nbformat": 4,
 "nbformat_minor": 4
}
