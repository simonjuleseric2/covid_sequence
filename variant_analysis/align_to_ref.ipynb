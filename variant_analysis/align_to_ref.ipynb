{
 "cells": [
  {
   "cell_type": "code",
   "execution_count": 1,
   "metadata": {},
   "outputs": [],
   "source": [
    "from Bio import Entrez, SeqIO\n",
    "from Bio.Seq import Seq\n",
    "\n",
    "from Bio.SeqRecord import SeqRecord\n",
    "from Bio import Entrez\n",
    "\n",
    "import pysam\n",
    "import vcf\n",
    "from collections import defaultdict\n",
    "import seaborn as sns\n",
    "import matplotlib.pyplot as plt\n",
    "import functools\n",
    "import re\n",
    "\n",
    "import numpy as np\n",
    "import pandas as pd\n",
    "import math\n",
    "\n",
    "Entrez.email = \"simon.burgermeister@gmail.com\"\n",
    "\n"
   ]
  },
  {
   "cell_type": "markdown",
   "metadata": {},
   "source": [
    "## Create SAM (sequence alignement map):\n",
    "<br>\n",
    "Store sequences alifgnement to ref sequence:\n",
    "<br>\n",
    "Use bowtie2, install with: conda install -c bioconda bowtie2\n",
    "<br>\n",
    " \n",
    "###  Create ref se (index)\n",
    "\n",
    "<br>\n",
    "We use NC_045512.2\n",
    "<br>"
   ]
  },
  {
   "cell_type": "code",
   "execution_count": 8,
   "metadata": {},
   "outputs": [
    {
     "name": "stdout",
     "output_type": "stream",
     "text": [
      "[bwa_index] Pack FASTA... 0.00 sec\r\n",
      "[bwa_index] Construct BWT for the packed sequence...\r\n",
      "[bwa_index] 0.00 seconds elapse.\r\n",
      "[bwa_index] Update BWT... 0.00 sec\r\n",
      "[bwa_index] Pack forward-only FASTA... 0.00 sec\r\n",
      "[bwa_index] Construct SA from BWT and Occ... 0.00 sec\r\n",
      "[main] Version: 0.7.17-r1188\r\n",
      "[main] CMD: bwa index sequences3/ref/ref_sequence.fasta\r\n",
      "[main] Real time: 0.016 sec; CPU: 0.010 sec\r\n"
     ]
    }
   ],
   "source": [
    "!bwa index sequences3/ref/ref_sequence.fasta"
   ]
  },
  {
   "cell_type": "code",
   "execution_count": 10,
   "metadata": {},
   "outputs": [
    {
     "name": "stdout",
     "output_type": "stream",
     "text": [
      "[M::bwa_idx_load_from_disk] read 0 ALT contigs\n",
      "[M::process] read 11 sequences (327935 bp)...\n",
      "[M::mem_process_seqs] Processed 11 reads in 0.272 CPU sec, 0.272 real sec\n",
      "[main] Version: 0.7.17-r1188\n",
      "[main] CMD: bwa mem sequences3/ref/ref_sequence.fasta sequences3/all.fasta\n",
      "[main] Real time: 0.274 sec; CPU: 0.273 sec\n"
     ]
    }
   ],
   "source": [
    "#Align to ref:\n",
    "#!bowtie2 -x test_seq/ref_seq/ref -f sequences2/sequences.fasta -S sequences2/aligned.sam\n",
    "!bwa mem sequences3/ref/ref_sequence.fasta sequences3/all.fasta > sequences3/aligned.sam"
   ]
  },
  {
   "cell_type": "markdown",
   "metadata": {},
   "source": [
    "### Create BAM file and VCF:\n",
    "<br>\n",
    "When using fasta we do not utilize the quality score.\n",
    "<br>\n",
    "<br>"
   ]
  },
  {
   "cell_type": "code",
   "execution_count": 11,
   "metadata": {},
   "outputs": [],
   "source": [
    "!samtools view -S -b sequences3/aligned.sam > sequences3/aligned.bam\n",
    "!samtools sort sequences3/aligned.bam -o sequences3/sorted.bam"
   ]
  },
  {
   "cell_type": "code",
   "execution_count": 12,
   "metadata": {},
   "outputs": [],
   "source": [
    "!samtools index sequences3/sorted.bam"
   ]
  },
  {
   "cell_type": "code",
   "execution_count": 13,
   "metadata": {},
   "outputs": [
    {
     "name": "stdout",
     "output_type": "stream",
     "text": [
      "Note: none of --samples-file, --ploidy or --ploidy-file given, assuming all sites are diploid\n",
      "[mpileup] 1 samples in 1 input files\n",
      "<mpileup> Set max per-file depth to 8000\n"
     ]
    }
   ],
   "source": [
    "!samtools mpileup -uf sequences3/ref/ref_sequence.fasta sequences3/sorted.bam | bcftools call -mv  --multiallelic-caller --variants-only  > sequences3/var.raw.vcf"
   ]
  },
  {
   "cell_type": "markdown",
   "metadata": {},
   "source": [
    "## Check VCF:\n",
    "\n",
    "<br>\n",
    "<br>"
   ]
  },
  {
   "cell_type": "code",
   "execution_count": 14,
   "metadata": {},
   "outputs": [
    {
     "name": "stdout",
     "output_type": "stream",
     "text": [
      "snp\n",
      "snp\n",
      "snp\n",
      "snp\n",
      "snp\n",
      "snp\n",
      "snp\n",
      "snp\n",
      "snp\n",
      "snp\n",
      "indel\n",
      "Record(CHROM=NC_045512.2, POS=11287, REF=GTCTGGTTTT, ALT=[G])\n",
      "snp\n",
      "snp\n",
      "snp\n",
      "snp\n",
      "snp\n",
      "snp\n",
      "indel\n",
      "Record(CHROM=NC_045512.2, POS=21764, REF=ATACATGT, ALT=[AT])\n",
      "indel\n",
      "Record(CHROM=NC_045512.2, POS=21990, REF=TTTATTA, ALT=[TTTA])\n",
      "snp\n",
      "snp\n",
      "snp\n",
      "snp\n",
      "snp\n",
      "snp\n",
      "snp\n",
      "snp\n",
      "snp\n",
      "snp\n",
      "snp\n",
      "snp\n",
      "snp\n",
      "indel\n",
      "Record(CHROM=NC_045512.2, POS=28270, REF=TAAAA, ALT=[TAAA])\n",
      "snp\n",
      "snp\n",
      "snp\n",
      "snp\n",
      "snp\n",
      "snp\n",
      "snp\n",
      "defaultdict(<class 'int'>, {('snp', 'ts'): 21, ('snp', 'tv'): 15, ('indel', 'del'): 4})\n",
      "defaultdict(<class 'int'>, {1: 36})\n"
     ]
    }
   ],
   "source": [
    "import vcf\n",
    "from collections import defaultdict\n",
    "\n",
    "f = vcf.Reader(filename='sequences3/var.raw.vcf')\n",
    "\n",
    "my_type = defaultdict(int)\n",
    "num_alts = defaultdict(int)\n",
    "\n",
    "for rec in f:\n",
    "    my_type[rec.var_type, rec.var_subtype] += 1\n",
    "    print(rec.var_type)\n",
    "    if rec.is_snp:\n",
    "        num_alts[len(rec.ALT)] += 1\n",
    "    else:\n",
    "        print(rec)\n",
    "print(my_type)\n",
    "print(num_alts)"
   ]
  }
 ],
 "metadata": {
  "kernelspec": {
   "display_name": "Python (simenv)",
   "language": "python",
   "name": "simenv"
  },
  "language_info": {
   "codemirror_mode": {
    "name": "ipython",
    "version": 3
   },
   "file_extension": ".py",
   "mimetype": "text/x-python",
   "name": "python",
   "nbconvert_exporter": "python",
   "pygments_lexer": "ipython3",
   "version": "3.8.5"
  }
 },
 "nbformat": 4,
 "nbformat_minor": 4
}
