{
 "cells": [
  {
   "cell_type": "code",
   "execution_count": 57,
   "metadata": {},
   "outputs": [],
   "source": [
    "from Bio import Entrez, SeqIO\n",
    "from Bio.Seq import Seq\n",
    "\n",
    "from Bio.SeqRecord import SeqRecord\n",
    "\n",
    "\n",
    "import vcf\n",
    "from collections import defaultdict\n",
    "import seaborn as sns\n",
    "import matplotlib.pyplot as plt\n",
    "import functools\n",
    "\n",
    "import numpy as np\n",
    "import pandas as pd\n",
    "\n",
    "Entrez.email = \"simon.burgermeister@gmail.com\"\n"
   ]
  },
  {
   "cell_type": "code",
   "execution_count": 19,
   "metadata": {},
   "outputs": [
    {
     "name": "stdout",
     "output_type": "stream",
     "text": [
      "178834\n"
     ]
    }
   ],
   "source": [
    "search_info=\"S[Gene Name] AND Severe acute respiratory syndrome coronavirus 2[Organism] AND Homo sapiens[Host] AND complete[genome]\"\n",
    "\n",
    "handle = Entrez.esearch(db='nucleotide', term=search_info, usehistory=\"y\", idtype=\"acc\")\n",
    "search_results = Entrez.read(handle)\n",
    "handle.close()\n",
    "print(search_results['Count'])\n",
    "len_rec=search_results['Count']\n",
    "\n",
    "acc_list = search_results[\"IdList\"]\n",
    "count = int(search_results[\"Count\"])\n",
    "count == len(acc_list)\n",
    "\n",
    "webenv = search_results[\"WebEnv\"]\n",
    "query_key = search_results[\"QueryKey\"]"
   ]
  },
  {
   "cell_type": "code",
   "execution_count": 20,
   "metadata": {},
   "outputs": [],
   "source": [
    "#count=3"
   ]
  },
  {
   "cell_type": "code",
   "execution_count": 60,
   "metadata": {},
   "outputs": [
    {
     "name": "stdout",
     "output_type": "stream",
     "text": [
      "Going to download record 1 to 1\n",
      "Going to download record 2 to 2\n",
      "Going to download record 3 to 3\n"
     ]
    }
   ],
   "source": [
    "#rettype=\"fasta\"\n",
    "\n",
    "batch_size = 1\n",
    "out_handle = open(\"sequences/samples_test.fasta\", \"w\")\n",
    "data_array=[]\n",
    "\n",
    "for start in range(0, count, batch_size):\n",
    "    end = min(count, start + batch_size)\n",
    "    print(\"Going to download record %i to %i\" % (start + 1, end))\n",
    "    fetch_handle = Entrez.efetch(\n",
    "        db=\"nucleotide\",\n",
    "        rettype=\"gb\",\n",
    "        retmode=\"text\",\n",
    "        retstart=start,\n",
    "        retmax=batch_size,\n",
    "        webenv=webenv,\n",
    "        query_key=query_key,\n",
    "        idtype=\"acc\",\n",
    "    )\n",
    "    \n",
    "    \n",
    "    record = SeqIO.read(fetch_handle, \"genbank\")\n",
    "    sseq=record.seq\n",
    "    iid=record.id\n",
    "    name=record.name\n",
    "    date=record.annotations['date']\n",
    "    \n",
    "    sseqx='>'+name+'\\n'+str(sseq)+'\\n\\n'\n",
    "    \n",
    "    for feat in record.features:\n",
    "        if feat.type=='source':\n",
    "            col_date=feat.qualifiers['collection_date'][0]\n",
    "            country=feat.qualifiers['country'][0]\n",
    "            source=feat.qualifiers['isolation_source'][0]\n",
    "    \n",
    "    \n",
    "    \n",
    "    \n",
    "    data_array.append([name, col_date, country, source])\n",
    "    del name, col_date, country, source\n",
    "    \n",
    "    #data = fetch_handle.read()\n",
    "    fetch_handle.close()\n",
    "    fetch_handle = Entrez.efetch(\n",
    "        db=\"nucleotide\",\n",
    "        rettype=\"fasta\",\n",
    "        retmode=\"text\",\n",
    "        retstart=start,\n",
    "        retmax=batch_size,\n",
    "        webenv=webenv,\n",
    "        query_key=query_key,\n",
    "        idtype=\"acc\",\n",
    "    )\n",
    "    data = fetch_handle.read()\n",
    "    fetch_handle.close()\n",
    "    out_handle.write(data)\n",
    "    #out_handle.write(sseqx)\n",
    "\n",
    "    \n",
    "out_handle.close()"
   ]
  },
  {
   "cell_type": "code",
   "execution_count": 59,
   "metadata": {},
   "outputs": [
    {
     "data": {
      "text/html": [
       "<div>\n",
       "<style scoped>\n",
       "    .dataframe tbody tr th:only-of-type {\n",
       "        vertical-align: middle;\n",
       "    }\n",
       "\n",
       "    .dataframe tbody tr th {\n",
       "        vertical-align: top;\n",
       "    }\n",
       "\n",
       "    .dataframe thead th {\n",
       "        text-align: right;\n",
       "    }\n",
       "</style>\n",
       "<table border=\"1\" class=\"dataframe\">\n",
       "  <thead>\n",
       "    <tr style=\"text-align: right;\">\n",
       "      <th></th>\n",
       "      <th>ID</th>\n",
       "      <th>date</th>\n",
       "      <th>country</th>\n",
       "      <th>source</th>\n",
       "    </tr>\n",
       "  </thead>\n",
       "  <tbody>\n",
       "    <tr>\n",
       "      <th>0</th>\n",
       "      <td>MW989490</td>\n",
       "      <td>2021-02-27</td>\n",
       "      <td>USA: New Mexico</td>\n",
       "      <td>saliva</td>\n",
       "    </tr>\n",
       "    <tr>\n",
       "      <th>1</th>\n",
       "      <td>MW989489</td>\n",
       "      <td>2021-02-27</td>\n",
       "      <td>USA: New Mexico</td>\n",
       "      <td>saliva</td>\n",
       "    </tr>\n",
       "    <tr>\n",
       "      <th>2</th>\n",
       "      <td>MW989488</td>\n",
       "      <td>2021-02-25</td>\n",
       "      <td>USA: New Mexico</td>\n",
       "      <td>saliva</td>\n",
       "    </tr>\n",
       "  </tbody>\n",
       "</table>\n",
       "</div>"
      ],
      "text/plain": [
       "         ID        date          country  source\n",
       "0  MW989490  2021-02-27  USA: New Mexico  saliva\n",
       "1  MW989489  2021-02-27  USA: New Mexico  saliva\n",
       "2  MW989488  2021-02-25  USA: New Mexico  saliva"
      ]
     },
     "execution_count": 59,
     "metadata": {},
     "output_type": "execute_result"
    }
   ],
   "source": [
    "dataframe=pd.DataFrame(data_array, columns=['ID', 'date', 'country', 'source'])\n",
    "dataframe.head()"
   ]
  }
 ],
 "metadata": {
  "kernelspec": {
   "display_name": "smenv",
   "language": "python",
   "name": "smenv"
  },
  "language_info": {
   "codemirror_mode": {
    "name": "ipython",
    "version": 3
   },
   "file_extension": ".py",
   "mimetype": "text/x-python",
   "name": "python",
   "nbconvert_exporter": "python",
   "pygments_lexer": "ipython3",
   "version": "3.8.5"
  }
 },
 "nbformat": 4,
 "nbformat_minor": 4
}
