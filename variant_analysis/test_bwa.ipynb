{
 "cells": [
  {
   "cell_type": "code",
   "execution_count": 1,
   "metadata": {},
   "outputs": [],
   "source": [
    "from Bio import Entrez, SeqIO\n",
    "from Bio.Seq import Seq\n",
    "\n",
    "from Bio.SeqRecord import SeqRecord\n",
    "\n",
    "\n",
    "import vcf\n",
    "from collections import defaultdict\n",
    "import seaborn as sns\n",
    "import matplotlib.pyplot as plt\n",
    "import functools\n",
    "\n",
    "import pysam\n",
    "import pandas as pd\n",
    "import numpy as np\n",
    "\n",
    "Entrez.email = \"simon.burgermeister@gmail.com\"\n"
   ]
  },
  {
   "cell_type": "markdown",
   "metadata": {},
   "source": [
    "## Install with:\n",
    "<br>\n",
    "conda install -c bioconda bwa\n",
    "<br>"
   ]
  },
  {
   "cell_type": "markdown",
   "metadata": {},
   "source": [
    "## Build index:\n",
    "<br>\n",
    "<br>"
   ]
  },
  {
   "cell_type": "code",
   "execution_count": 3,
   "metadata": {},
   "outputs": [
    {
     "name": "stdout",
     "output_type": "stream",
     "text": [
      "[bwa_index] Pack FASTA... 0.00 sec\r\n",
      "[bwa_index] Construct BWT for the packed sequence...\r\n",
      "[bwa_index] 0.00 seconds elapse.\r\n",
      "[bwa_index] Update BWT... 0.00 sec\r\n",
      "[bwa_index] Pack forward-only FASTA... 0.00 sec\r\n",
      "[bwa_index] Construct SA from BWT and Occ... 0.00 sec\r\n",
      "[main] Version: 0.7.17-r1188\r\n",
      "[main] CMD: bwa index sequences4/ref/ref_sequence.fasta\r\n",
      "[main] Real time: 0.014 sec; CPU: 0.011 sec\r\n"
     ]
    }
   ],
   "source": [
    "!bwa index sequences4/ref/ref_sequence.fasta"
   ]
  },
  {
   "cell_type": "code",
   "execution_count": 4,
   "metadata": {},
   "outputs": [
    {
     "name": "stdout",
     "output_type": "stream",
     "text": [
      "[M::bwa_idx_load_from_disk] read 0 ALT contigs\n",
      "[M::process] read 11 sequences (327935 bp)...\n",
      "[M::mem_process_seqs] Processed 11 reads in 0.272 CPU sec, 0.272 real sec\n",
      "[main] Version: 0.7.17-r1188\n",
      "[main] CMD: bwa mem sequences4/ref/ref_sequence.fasta sequences4/all.fasta\n",
      "[main] Real time: 0.274 sec; CPU: 0.273 sec\n"
     ]
    }
   ],
   "source": [
    "!bwa mem sequences4/ref/ref_sequence.fasta sequences4/all.fasta > sequences4/aln.sam "
   ]
  },
  {
   "cell_type": "code",
   "execution_count": 5,
   "metadata": {},
   "outputs": [],
   "source": [
    "!samtools view -S -b sequences4/aln.sam > sequences4/aligned.bam\n",
    "#!samtools view -1 sequences4/aln.sam > sequences3/aln.bam\n",
    "!samtools sort sequences4/aligned.bam -o sequences4/sorted.bam\n",
    "!samtools index sequences4/sorted.bam"
   ]
  },
  {
   "cell_type": "code",
   "execution_count": 6,
   "metadata": {},
   "outputs": [
    {
     "name": "stdout",
     "output_type": "stream",
     "text": [
      "Note: none of --samples-file, --ploidy or --ploidy-file given, assuming all sites are diploid\n",
      "[mpileup] 1 samples in 1 input files\n",
      "<mpileup> Set max per-file depth to 8000\n"
     ]
    }
   ],
   "source": [
    "!samtools mpileup -uf sequences4/ref/ref_sequence.fasta sequences4/sorted.bam | bcftools call -mv  --multiallelic-caller --variants-only  > sequences4/var.raw.vcf"
   ]
  },
  {
   "cell_type": "code",
   "execution_count": 7,
   "metadata": {},
   "outputs": [
    {
     "name": "stdout",
     "output_type": "stream",
     "text": [
      "defaultdict(<class 'int'>, {('snp', 'ts'): 21, ('snp', 'tv'): 15, ('indel', 'del'): 4})\n",
      "defaultdict(<class 'int'>, {1: 36})\n"
     ]
    }
   ],
   "source": [
    "f = vcf.Reader(filename='sequences4/var.raw.vcf')\n",
    "\n",
    "my_type = defaultdict(int)\n",
    "num_alts = defaultdict(int)\n",
    "\n",
    "for rec in f:\n",
    "    #print(rec.var_type)\n",
    "\n",
    "    my_type[rec.var_type, rec.var_subtype] += 1\n",
    "    if rec.is_snp:\n",
    "        num_alts[len(rec.ALT)] += 1\n",
    "print(my_type)\n",
    "print(num_alts)"
   ]
  },
  {
   "cell_type": "code",
   "execution_count": 9,
   "metadata": {},
   "outputs": [
    {
     "name": "stdout",
     "output_type": "stream",
     "text": [
      "NC_045512.2\n",
      "GGCTGCATGCTTAGTGCACT\n",
      "29903M\n",
      " \n",
      "MW911846.1\n",
      "GGCTGCATGCTTAGTGCACT\n",
      "11257M9D10468M6D220M3D6277M1D1588M\n",
      " \n",
      "MW911847.1\n",
      "GGCTGCATGCTTAGTGCACT\n",
      "11257M9D10468M6D220M3D6277M1D1590M\n",
      " \n",
      "MW911849.1\n",
      "GGCTGCATGCTTAGTGCACT\n",
      "11257M9D10468M6D220M3D6277M1D1590M\n",
      " \n",
      "MW911850.1\n",
      "GGCTGCATGCTTAGTGCACT\n",
      "11256M9D10468M6D220M3D6277M1D1586M\n",
      " \n",
      "MW911860.1\n",
      "GGCTGCATGCTTAGTGCACT\n",
      "11257M9D10468M6D220M3D6277M1D1586M\n",
      " \n",
      "MW911870.1\n",
      "GGCTGCATGCTTAGTGCACT\n",
      "11257M9D10468M6D220M3D6277M1D1590M\n",
      " \n",
      "MW912051.1\n",
      "GGCTGCATGCTTAGTGCACT\n",
      "11257M9D10468M6D220M3D6277M1D1590M\n",
      " \n",
      "MW913363.1\n",
      "GGCTGCATGCTTAGTGCACT\n",
      "11233M9D10468M6D220M3D6277M1D1565M\n",
      " \n",
      "MW593784.1\n",
      "GGCTGCATGCTTAGTGCACT\n",
      "29798M\n",
      " \n",
      "MW593785.1\n",
      "GGCTGCATGCTTAGTGCACT\n",
      "29798M\n",
      " \n"
     ]
    }
   ],
   "source": [
    "import re\n",
    "\n",
    "#samfile = pysam.AlignmentFile(\"sequences/sorted.bam\", \"rb\")\n",
    "samfile = pysam.AlignmentFile(\"sequences4/aligned.bam\", \"rb\")\n",
    "jj=0\n",
    "for read in samfile:\n",
    "    read_seq=str(read.seq)\n",
    "    \n",
    "    tt=str(read)\n",
    "    rr=tt.split('\\t0\\t0')\n",
    "    read_ID=rr[0]\n",
    "    \n",
    "    cig=read.cigarstring\n",
    "    #print(read.cigarstring)\n",
    "        \n",
    "    match = re.findall(r'(\\d+)(\\w)',cig)\n",
    "    \n",
    "    s_start=read.reference_start\n",
    "    print(read_ID)\n",
    "    print(read_seq[100-s_start:120-s_start])\n",
    "    print(read.cigarstring)\n",
    "    print(' ')\n",
    "    \n",
    "    "
   ]
  }
 ],
 "metadata": {
  "kernelspec": {
   "display_name": "Python (simenv)",
   "language": "python",
   "name": "simenv"
  },
  "language_info": {
   "codemirror_mode": {
    "name": "ipython",
    "version": 3
   },
   "file_extension": ".py",
   "mimetype": "text/x-python",
   "name": "python",
   "nbconvert_exporter": "python",
   "pygments_lexer": "ipython3",
   "version": "3.8.5"
  }
 },
 "nbformat": 4,
 "nbformat_minor": 4
}
