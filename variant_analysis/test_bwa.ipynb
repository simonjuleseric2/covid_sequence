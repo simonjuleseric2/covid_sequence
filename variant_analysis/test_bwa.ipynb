{
 "cells": [
  {
   "cell_type": "code",
   "execution_count": 19,
   "metadata": {},
   "outputs": [],
   "source": [
    "from Bio import Entrez, SeqIO\n",
    "from Bio.Seq import Seq\n",
    "\n",
    "from Bio.SeqRecord import SeqRecord\n",
    "\n",
    "\n",
    "import vcf\n",
    "from collections import defaultdict\n",
    "import seaborn as sns\n",
    "import matplotlib.pyplot as plt\n",
    "from matplotlib.patches import Rectangle\n",
    "import functools\n",
    "\n",
    "import pysam\n",
    "import pandas as pd\n",
    "import numpy as np\n",
    "\n",
    "\n",
    "Entrez.email = \"simon.burgermeister@gmail.com\"\n"
   ]
  },
  {
   "cell_type": "markdown",
   "metadata": {},
   "source": [
    "## Install with:\n",
    "<br>\n",
    "conda install -c bioconda bwa\n",
    "<br>"
   ]
  },
  {
   "cell_type": "markdown",
   "metadata": {},
   "source": [
    "## Build index:\n",
    "<br>\n",
    "<br>"
   ]
  },
  {
   "cell_type": "code",
   "execution_count": 10,
   "metadata": {},
   "outputs": [
    {
     "name": "stdout",
     "output_type": "stream",
     "text": [
      "[bwa_index] Pack FASTA... 0.00 sec\r\n",
      "[bwa_index] Construct BWT for the packed sequence...\r\n",
      "[bwa_index] 0.00 seconds elapse.\r\n",
      "[bwa_index] Update BWT... 0.00 sec\r\n",
      "[bwa_index] Pack forward-only FASTA... 0.00 sec\r\n",
      "[bwa_index] Construct SA from BWT and Occ... 0.00 sec\r\n",
      "[main] Version: 0.7.17-r1188\r\n",
      "[main] CMD: bwa index sequences4/ref/ref_sequence.fasta\r\n",
      "[main] Real time: 0.014 sec; CPU: 0.011 sec\r\n"
     ]
    }
   ],
   "source": [
    "!bwa index sequences4/ref/ref_sequence.fasta"
   ]
  },
  {
   "cell_type": "code",
   "execution_count": 11,
   "metadata": {},
   "outputs": [
    {
     "name": "stdout",
     "output_type": "stream",
     "text": [
      "[M::bwa_idx_load_from_disk] read 0 ALT contigs\n",
      "[M::process] read 11 sequences (327935 bp)...\n",
      "[M::mem_process_seqs] Processed 11 reads in 0.273 CPU sec, 0.273 real sec\n",
      "[main] Version: 0.7.17-r1188\n",
      "[main] CMD: bwa mem sequences4/ref/ref_sequence.fasta sequences4/all.fasta\n",
      "[main] Real time: 0.275 sec; CPU: 0.274 sec\n"
     ]
    }
   ],
   "source": [
    "!bwa mem sequences4/ref/ref_sequence.fasta sequences4/all.fasta > sequences4/aln.sam "
   ]
  },
  {
   "cell_type": "code",
   "execution_count": 12,
   "metadata": {},
   "outputs": [],
   "source": [
    "!samtools view -S -b sequences4/aln.sam > sequences4/aligned.bam\n",
    "#!samtools view -1 sequences4/aln.sam > sequences3/aln.bam\n",
    "!samtools sort sequences4/aligned.bam -o sequences4/sorted.bam\n",
    "!samtools index sequences4/sorted.bam"
   ]
  },
  {
   "cell_type": "code",
   "execution_count": 91,
   "metadata": {},
   "outputs": [
    {
     "name": "stdout",
     "output_type": "stream",
     "text": [
      "11\n"
     ]
    }
   ],
   "source": [
    "samfile = pysam.AlignmentFile(\"sequences4/sorted.bam\", \"r\")\n",
    "j=0\n",
    "for x in samfile:\n",
    "    j=j+1\n",
    "    #print(x.cigarstring)\n",
    "print(j)"
   ]
  },
  {
   "cell_type": "code",
   "execution_count": 13,
   "metadata": {},
   "outputs": [
    {
     "name": "stdout",
     "output_type": "stream",
     "text": [
      "Note: none of --samples-file, --ploidy or --ploidy-file given, assuming all sites are diploid\n",
      "[mpileup] 1 samples in 1 input files\n",
      "<mpileup> Set max per-file depth to 8000\n"
     ]
    }
   ],
   "source": [
    "!samtools mpileup -uf sequences4/ref/ref_sequence.fasta sequences4/sorted.bam | bcftools call -mv  --multiallelic-caller --variants-only  > sequences4/var.raw.vcf"
   ]
  },
  {
   "cell_type": "code",
   "execution_count": 48,
   "metadata": {},
   "outputs": [
    {
     "name": "stdout",
     "output_type": "stream",
     "text": [
      "defaultdict(<class 'int'>, {('snp', 'ts'): 21, ('snp', 'tv'): 15, ('indel', 'del'): 4})\n"
     ]
    },
    {
     "data": {
      "text/html": [
       "<div>\n",
       "<style scoped>\n",
       "    .dataframe tbody tr th:only-of-type {\n",
       "        vertical-align: middle;\n",
       "    }\n",
       "\n",
       "    .dataframe tbody tr th {\n",
       "        vertical-align: top;\n",
       "    }\n",
       "\n",
       "    .dataframe thead th {\n",
       "        text-align: right;\n",
       "    }\n",
       "</style>\n",
       "<table border=\"1\" class=\"dataframe\">\n",
       "  <thead>\n",
       "    <tr style=\"text-align: right;\">\n",
       "      <th></th>\n",
       "      <th>type</th>\n",
       "      <th>position</th>\n",
       "    </tr>\n",
       "  </thead>\n",
       "  <tbody>\n",
       "    <tr>\n",
       "      <th>0</th>\n",
       "      <td>snp</td>\n",
       "      <td>241</td>\n",
       "    </tr>\n",
       "    <tr>\n",
       "      <th>1</th>\n",
       "      <td>snp</td>\n",
       "      <td>913</td>\n",
       "    </tr>\n",
       "    <tr>\n",
       "      <th>2</th>\n",
       "      <td>snp</td>\n",
       "      <td>1059</td>\n",
       "    </tr>\n",
       "    <tr>\n",
       "      <th>3</th>\n",
       "      <td>snp</td>\n",
       "      <td>2110</td>\n",
       "    </tr>\n",
       "    <tr>\n",
       "      <th>4</th>\n",
       "      <td>snp</td>\n",
       "      <td>3037</td>\n",
       "    </tr>\n",
       "  </tbody>\n",
       "</table>\n",
       "</div>"
      ],
      "text/plain": [
       "  type  position\n",
       "0  snp       241\n",
       "1  snp       913\n",
       "2  snp      1059\n",
       "3  snp      2110\n",
       "4  snp      3037"
      ]
     },
     "execution_count": 48,
     "metadata": {},
     "output_type": "execute_result"
    }
   ],
   "source": [
    "f = vcf.Reader(filename='sequences4/var.raw.vcf')\n",
    "\n",
    "my_type = defaultdict(int)\n",
    "num_alts = defaultdict(int)\n",
    "\n",
    "mut_data=[]\n",
    "for rec in f:\n",
    "    #print(rec.var_type)\n",
    "    #print(rec)\n",
    "    my_type[rec.var_type, rec.var_subtype] += 1\n",
    "    mut_data.append([rec.var_type, rec.POS])\n",
    "    if rec.is_snp:\n",
    "        num_alts[len(rec.ALT)] += 1\n",
    "print(my_type)\n",
    "#print(num_alts)\n",
    "mut_df=pd.DataFrame(mut_data, columns=['type', 'position'])\n",
    "mut_df.head()"
   ]
  },
  {
   "cell_type": "markdown",
   "metadata": {},
   "source": [
    "## Info from Ref Seq:\n",
    "<br>\n",
    "<br>"
   ]
  },
  {
   "cell_type": "code",
   "execution_count": 40,
   "metadata": {},
   "outputs": [
    {
     "name": "stdout",
     "output_type": "stream",
     "text": [
      "{'ORF1ab': [265, 21555], 'S': [21562, 25384], 'ORF3a': [25392, 26220], 'E': [26244, 26472], 'M': [26522, 27191], 'ORF6': [27201, 27387], 'ORF7a': [27393, 27759], 'ORF7b': [27755, 27887], 'ORF8': [27893, 28259], 'N': [28273, 29533], 'ORF10': [29557, 29674]}\n"
     ]
    },
    {
     "data": {
      "text/html": [
       "<div>\n",
       "<style scoped>\n",
       "    .dataframe tbody tr th:only-of-type {\n",
       "        vertical-align: middle;\n",
       "    }\n",
       "\n",
       "    .dataframe tbody tr th {\n",
       "        vertical-align: top;\n",
       "    }\n",
       "\n",
       "    .dataframe thead th {\n",
       "        text-align: right;\n",
       "    }\n",
       "</style>\n",
       "<table border=\"1\" class=\"dataframe\">\n",
       "  <thead>\n",
       "    <tr style=\"text-align: right;\">\n",
       "      <th></th>\n",
       "      <th>gene</th>\n",
       "      <th>start</th>\n",
       "      <th>stop</th>\n",
       "      <th>length</th>\n",
       "    </tr>\n",
       "  </thead>\n",
       "  <tbody>\n",
       "    <tr>\n",
       "      <th>0</th>\n",
       "      <td>ORF1ab</td>\n",
       "      <td>265</td>\n",
       "      <td>21555</td>\n",
       "      <td>21290</td>\n",
       "    </tr>\n",
       "    <tr>\n",
       "      <th>1</th>\n",
       "      <td>S</td>\n",
       "      <td>21562</td>\n",
       "      <td>25384</td>\n",
       "      <td>3822</td>\n",
       "    </tr>\n",
       "    <tr>\n",
       "      <th>2</th>\n",
       "      <td>ORF3a</td>\n",
       "      <td>25392</td>\n",
       "      <td>26220</td>\n",
       "      <td>828</td>\n",
       "    </tr>\n",
       "    <tr>\n",
       "      <th>3</th>\n",
       "      <td>E</td>\n",
       "      <td>26244</td>\n",
       "      <td>26472</td>\n",
       "      <td>228</td>\n",
       "    </tr>\n",
       "    <tr>\n",
       "      <th>4</th>\n",
       "      <td>M</td>\n",
       "      <td>26522</td>\n",
       "      <td>27191</td>\n",
       "      <td>669</td>\n",
       "    </tr>\n",
       "  </tbody>\n",
       "</table>\n",
       "</div>"
      ],
      "text/plain": [
       "     gene  start   stop  length\n",
       "0  ORF1ab    265  21555   21290\n",
       "1       S  21562  25384    3822\n",
       "2   ORF3a  25392  26220     828\n",
       "3       E  26244  26472     228\n",
       "4       M  26522  27191     669"
      ]
     },
     "execution_count": 40,
     "metadata": {},
     "output_type": "execute_result"
    }
   ],
   "source": [
    "ref_id='NC_045512'\n",
    "Entrez.email='simon.burgermeister@gmail.com'\n",
    "\n",
    "handle = Entrez.efetch(db='nucleotide', id=ref_id, rettype='gb')\n",
    "record = SeqIO.read(handle, \"genbank\")\n",
    "handle.close()\n",
    "ref_seq_str=str(record.seq)\n",
    "\n",
    "dic_map={}\n",
    "dic_seq={}\n",
    "ref_df=[]\n",
    "for feat in record.features:\n",
    "    #print(feat.type)\n",
    "    if feat.type=='CDS': #'gene'\n",
    "        #print(feat.qualifiers['gene'][0])\n",
    "        if feat.qualifiers['gene'][0] not in dic_map.keys():\n",
    "            dic_map[feat.qualifiers['gene'][0]]=[int(feat.location.start), int(feat.location.end)]\n",
    "\n",
    "            prot_seq=feat.qualifiers['translation'][0]\n",
    "            rna_seq=str(record.seq)[int(feat.location.start): int(feat.location.end)]\n",
    "            dic_seq[feat.qualifiers['gene'][0]]=rna_seq\n",
    "            cds_start=int(feat.location.start)\n",
    "            cds_stop=int(feat.location.end)\n",
    "            ref_df.append([feat.qualifiers['gene'][0], cds_start, cds_stop, cds_stop-cds_start])\n",
    "        #break\n",
    "   \n",
    "    #Mature peptides:    \n",
    "    elif feat.type=='mat_peptide':\n",
    "        \n",
    "        prod=feat.qualifiers['product']\n",
    "        locus_tag=feat.qualifiers['locus_tag']\n",
    "        protein_id=feat.qualifiers['protein_id']\n",
    "        end=int(feat.location.end)\n",
    "        start=int(feat.location.start)\n",
    "        \n",
    "    \n",
    "    # Stem loops:\n",
    "    elif feat.type=='stem_loop':\n",
    "        end=int(feat.location.end)\n",
    "        start=int(feat.location.start)\n",
    "        \n",
    "        function=feat.qualifiers['function'][0]\n",
    "        #note=feat.qualifiers['note'][0]\n",
    "        \n",
    "    #5'UTR 3'UTR      \n",
    "print(dic_map)\n",
    "df_refs=pd.DataFrame(ref_df, columns=['gene', 'start', 'stop', 'length'])\n",
    "\n",
    "#df_refs=df_refs.drop_duplicates(subset=['gene'])\n",
    "df_refs.head()\n",
    "\n",
    "    "
   ]
  },
  {
   "cell_type": "code",
   "execution_count": 61,
   "metadata": {},
   "outputs": [
    {
     "data": {
      "text/html": [
       "<div>\n",
       "<style scoped>\n",
       "    .dataframe tbody tr th:only-of-type {\n",
       "        vertical-align: middle;\n",
       "    }\n",
       "\n",
       "    .dataframe tbody tr th {\n",
       "        vertical-align: top;\n",
       "    }\n",
       "\n",
       "    .dataframe thead th {\n",
       "        text-align: right;\n",
       "    }\n",
       "</style>\n",
       "<table border=\"1\" class=\"dataframe\">\n",
       "  <thead>\n",
       "    <tr style=\"text-align: right;\">\n",
       "      <th></th>\n",
       "      <th>type</th>\n",
       "      <th>position</th>\n",
       "    </tr>\n",
       "  </thead>\n",
       "  <tbody>\n",
       "    <tr>\n",
       "      <th>0</th>\n",
       "      <td>snp</td>\n",
       "      <td>241</td>\n",
       "    </tr>\n",
       "    <tr>\n",
       "      <th>1</th>\n",
       "      <td>snp</td>\n",
       "      <td>913</td>\n",
       "    </tr>\n",
       "    <tr>\n",
       "      <th>2</th>\n",
       "      <td>snp</td>\n",
       "      <td>1059</td>\n",
       "    </tr>\n",
       "    <tr>\n",
       "      <th>3</th>\n",
       "      <td>snp</td>\n",
       "      <td>2110</td>\n",
       "    </tr>\n",
       "    <tr>\n",
       "      <th>4</th>\n",
       "      <td>snp</td>\n",
       "      <td>3037</td>\n",
       "    </tr>\n",
       "    <tr>\n",
       "      <th>5</th>\n",
       "      <td>snp</td>\n",
       "      <td>3267</td>\n",
       "    </tr>\n",
       "    <tr>\n",
       "      <th>6</th>\n",
       "      <td>snp</td>\n",
       "      <td>5388</td>\n",
       "    </tr>\n",
       "    <tr>\n",
       "      <th>7</th>\n",
       "      <td>snp</td>\n",
       "      <td>5986</td>\n",
       "    </tr>\n",
       "    <tr>\n",
       "      <th>8</th>\n",
       "      <td>snp</td>\n",
       "      <td>6954</td>\n",
       "    </tr>\n",
       "    <tr>\n",
       "      <th>9</th>\n",
       "      <td>snp</td>\n",
       "      <td>7042</td>\n",
       "    </tr>\n",
       "    <tr>\n",
       "      <th>10</th>\n",
       "      <td>indel</td>\n",
       "      <td>11287</td>\n",
       "    </tr>\n",
       "    <tr>\n",
       "      <th>11</th>\n",
       "      <td>snp</td>\n",
       "      <td>14120</td>\n",
       "    </tr>\n",
       "    <tr>\n",
       "      <th>12</th>\n",
       "      <td>snp</td>\n",
       "      <td>14408</td>\n",
       "    </tr>\n",
       "    <tr>\n",
       "      <th>13</th>\n",
       "      <td>snp</td>\n",
       "      <td>14676</td>\n",
       "    </tr>\n",
       "    <tr>\n",
       "      <th>14</th>\n",
       "      <td>snp</td>\n",
       "      <td>15279</td>\n",
       "    </tr>\n",
       "    <tr>\n",
       "      <th>15</th>\n",
       "      <td>snp</td>\n",
       "      <td>16176</td>\n",
       "    </tr>\n",
       "    <tr>\n",
       "      <th>16</th>\n",
       "      <td>snp</td>\n",
       "      <td>17615</td>\n",
       "    </tr>\n",
       "    <tr>\n",
       "      <th>17</th>\n",
       "      <td>indel</td>\n",
       "      <td>21764</td>\n",
       "    </tr>\n",
       "    <tr>\n",
       "      <th>18</th>\n",
       "      <td>indel</td>\n",
       "      <td>21990</td>\n",
       "    </tr>\n",
       "    <tr>\n",
       "      <th>19</th>\n",
       "      <td>snp</td>\n",
       "      <td>23063</td>\n",
       "    </tr>\n",
       "  </tbody>\n",
       "</table>\n",
       "</div>"
      ],
      "text/plain": [
       "     type  position\n",
       "0     snp       241\n",
       "1     snp       913\n",
       "2     snp      1059\n",
       "3     snp      2110\n",
       "4     snp      3037\n",
       "5     snp      3267\n",
       "6     snp      5388\n",
       "7     snp      5986\n",
       "8     snp      6954\n",
       "9     snp      7042\n",
       "10  indel     11287\n",
       "11    snp     14120\n",
       "12    snp     14408\n",
       "13    snp     14676\n",
       "14    snp     15279\n",
       "15    snp     16176\n",
       "16    snp     17615\n",
       "17  indel     21764\n",
       "18  indel     21990\n",
       "19    snp     23063"
      ]
     },
     "execution_count": 61,
     "metadata": {},
     "output_type": "execute_result"
    }
   ],
   "source": [
    "mut_df.head(20)"
   ]
  },
  {
   "cell_type": "code",
   "execution_count": 92,
   "metadata": {},
   "outputs": [
    {
     "data": {
      "image/png": "[encoded data removed]",
      "text/plain": [
       "<Figure size 1152x648 with 1 Axes>"
      ]
     },
     "metadata": {
      "needs_background": "light"
     },
     "output_type": "display_data"
    }
   ],
   "source": [
    "lst_color=['royalblue', 'firebrick', 'g', 'c', 'm', 'y', 'tan', 'salmon', 'teal', 'indigo', 'forestgreen']\n",
    "\n",
    "\n",
    "plt.figure(figsize=(16, 9))\n",
    "currentAxis = plt.gca()\n",
    "for kl, iid in enumerate(dic_map.keys()):\n",
    "    #print(iid)\n",
    "    currentAxis.add_patch(Rectangle((dic_map[iid][0], 0.2), dic_map[iid][1]-dic_map[iid][0], 0.2, color=lst_color[kl], alpha=1))\n",
    "\n",
    "for i in range(0, len(mut_df)):\n",
    "  \n",
    "    if mut_df.iloc[i]['type']=='snp':\n",
    "        rec1=currentAxis.add_patch(Rectangle((mut_df.iloc[i]['position']-8, 0.2), 16, 0.2, color='k', alpha=1))\n",
    "    elif mut_df.iloc[i]['type']=='indel':\n",
    "        rec2=currentAxis.add_patch(Rectangle((mut_df.iloc[i]['position']-8, 0.2), 16, 0.2, color='lavenderblush', alpha=1))\n",
    "\n",
    "        \n",
    "plt.xlim([0, 30000])\n",
    "plt.ylim([0, 0.7])\n",
    "\n",
    "leg2=plt.legend([rec1, rec2], ['SNP', 'INDEL'], loc=2)\n",
    "plt.legend(dic_map.keys(), loc=1)\n",
    "plt.gca().add_artist(leg2)\n",
    "currentAxis.axes.get_yaxis().set_visible(False)\n",
    "plt.xlabel('nucleotide position')\n",
    "plt.savefig('mut1.png')\n",
    "plt.show()  "
   ]
  },
  {
   "cell_type": "code",
   "execution_count": null,
   "metadata": {},
   "outputs": [],
   "source": []
  }
 ],
 "metadata": {
  "kernelspec": {
   "display_name": "Python (simenv)",
   "language": "python",
   "name": "simenv"
  },
  "language_info": {
   "codemirror_mode": {
    "name": "ipython",
    "version": 3
   },
   "file_extension": ".py",
   "mimetype": "text/x-python",
   "name": "python",
   "nbconvert_exporter": "python",
   "pygments_lexer": "ipython3",
   "version": "3.8.5"
  }
 },
 "nbformat": 4,
 "nbformat_minor": 4
}
