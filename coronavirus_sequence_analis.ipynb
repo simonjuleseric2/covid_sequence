{
 "cells": [
  {
   "cell_type": "code",
   "execution_count": 1,
   "metadata": {},
   "outputs": [],
   "source": [
    "from Bio import AlignIO\n",
    "from Bio.Align.Applications import ClustalOmegaCommandline\n",
    "from Bio.Phylo.TreeConstruction import DistanceCalculator, DistanceTreeConstructor\n",
    "from Bio.Phylo import draw\n",
    "from Bio import SeqIO\n",
    "from Bio import Phylo, AlignIO\n",
    "import subprocess\n",
    "import matplotlib\n",
    "import matplotlib.pyplot as plt\n",
    "import pandas as pd\n",
    "import numpy as np\n",
    "import os\n",
    "from Bio.Align.Applications import ClustalOmegaCommandline\n"
   ]
  },
  {
   "cell_type": "code",
   "execution_count": 2,
   "metadata": {},
   "outputs": [
    {
     "data": {
      "text/plain": [
       "['cov_mers.fasta',\n",
       " 'cov_Rhinolophus.fasta',\n",
       " 'all.fasta',\n",
       " '.DS_Store',\n",
       " 'test',\n",
       " 'cov_anatidae.fasta',\n",
       " 'aligned.fasta',\n",
       " 'cov_apodemus.fasta',\n",
       " 'cov_sapiens.fasta',\n",
       " 'cov_gallus.fasta']"
      ]
     },
     "execution_count": 2,
     "metadata": {},
     "output_type": "execute_result"
    }
   ],
   "source": [
    "os.listdir('sequences/') # show fasta files to import:"
   ]
  },
  {
   "cell_type": "markdown",
   "metadata": {},
   "source": [
    "# Read the data from fasta files:\n",
    "<br>\n",
    "<br>\n",
    "Here we explore several string of the Coronaviridae familly from different host species: \n",
    "<br>\n",
    "\n",
    "-------------------------------------------------\n",
    "| Code:      | host:              |             |\n",
    "|------------|--------------------|-------------|\n",
    "| MN996528   |  Homo Sapiens      | SARS-CoV-2  |\n",
    "|            |                    |             |\n",
    "| NC_019843  |  Homo Sapiens      | MERS-CoV    |\n",
    "|            |                    |             |\n",
    "| JQ065048   |  Anatidae          |             |\n",
    "|            |                    |             |\n",
    "| MG772934   | Rhinolophus        |             |\n",
    "|            |                    |             |\n",
    "| NC_034972  | Apodemus chevrieri |             |\n",
    "|            |                    |             |\n",
    "| KX38909    | Gallus gallus      |             |\n",
    "\n",
    "<br>\n",
    "\n",
    "\n",
    "Gallus: Chicken, covid19: H. Sapiens, Rhinolophus: Bat, Anatidae: Duck, Mers: H. Sapiens MERS.\n",
    "\n",
    "<br>\n",
    "\n",
    "*The data can be downloaded here:* https://www.ncbi.nlm.nih.gov/labs/virus/vssi/\n",
    "\n",
    "<br>\n",
    "\n",
    "\n"
   ]
  },
  {
   "cell_type": "code",
   "execution_count": 3,
   "metadata": {},
   "outputs": [],
   "source": [
    "gallus = SeqIO.read(\"sequences/cov_gallus.fasta\", \"fasta\") #Chicken\n",
    "covid19 = SeqIO.read(\"sequences/cov_sapiens.fasta\", \"fasta\") #H. Sapiens Covid-19\n",
    "rhinolophus = SeqIO.read(\"sequences/cov_Rhinolophus.fasta\", \"fasta\") #Bat\n",
    "anatidae = SeqIO.read(\"sequences/cov_anatidae.fasta\", \"fasta\")# Duck/swan\n",
    "mers = SeqIO.read('sequences/cov_mers.fasta', 'fasta') # H. Sapiens MERS\n",
    "apodemus = SeqIO.read('sequences/cov_apodemus.fasta', 'fasta') #Apodemus chevrieri\n",
    "\n",
    "#Create string sequence exemple:\n",
    "#print(str(gallus.seq))\n",
    "list_rec=[gallus, covid19, rhinolophus, anatidae, mers, apodemus]"
   ]
  },
  {
   "cell_type": "code",
   "execution_count": 4,
   "metadata": {},
   "outputs": [
    {
     "data": {
      "text/plain": [
       "6"
      ]
     },
     "execution_count": 4,
     "metadata": {},
     "output_type": "execute_result"
    }
   ],
   "source": [
    "#reads = SeqIO.parse(file,\"fasta\")\n",
    "end = []\n",
    "\n",
    "for record in list_rec:\n",
    "    #record[:n].append(end)\n",
    "    end.append(record)\n",
    "    \n",
    "SeqIO.write(end, \"sequences/all.fasta\", \"fasta\")"
   ]
  },
  {
   "cell_type": "markdown",
   "metadata": {},
   "source": [
    "# Alignement\n",
    "<br>\n",
    "<br>\n",
    "Performed using clustral, \n",
    "be sure to download the binaries from http://www.clustal.org/omega/\n",
    "<br>\n",
    "<br>\n",
    "the binary file must be saved in the same folder as the execution file (this one) and permission must be adapted (for Linux/MAC: chmod 777 clustal-omega-1.2.3-macosx  Change the binary file name with the one corresponding to your download)"
   ]
  },
  {
   "cell_type": "code",
   "execution_count": 5,
   "metadata": {},
   "outputs": [
    {
     "name": "stdout",
     "output_type": "stream",
     "text": [
      "clustalo -i sequences/all.fasta -o sequences/aligned.fasta --auto -v\n"
     ]
    }
   ],
   "source": [
    "# Define input file\n",
    "in_file = \"sequences/all.fasta\"\n",
    "\n",
    "# Define output file\n",
    "out_file = \"sequences/aligned.fasta\"\n",
    "\n",
    "# Get the command for Clustal Omega\n",
    "clustalomega_cline = ClustalOmegaCommandline(infile=in_file, outfile=out_file, verbose=True, auto=True)\n",
    "\n",
    "# Print the executable command\n",
    "print(clustalomega_cline)"
   ]
  },
  {
   "cell_type": "code",
   "execution_count": 6,
   "metadata": {},
   "outputs": [
    {
     "name": "stdout",
     "output_type": "stream",
     "text": [
      "Using 8 threads\n",
      "Read 6 sequences (type: DNA) from sequences/all.fasta\n",
      "not more sequences (6) than cluster-size (100), turn off mBed\n",
      "Setting options automatically based on input sequence characteristics (might overwrite some of your options).\n",
      "Auto settings: Enabling mBed.\n",
      "Auto settings: Setting iteration to 1.\n",
      "Using 5 seeds (chosen with constant stride from length sorted seqs) for mBed (from a total of 6 sequences)\n",
      "Calculating pairwise ktuple-distances...\n",
      "Ktuple-distance calculation progress done. CPU time: 6.30u 0.03s 00:00:06.33 Elapsed: 00:00:02\n",
      "mBed created 1 cluster/s (with a minimum of 1 and a soft maximum of 100 sequences each)\n",
      "Distance calculation within sub-clusters done. CPU time: 6.17u 0.02s 00:00:06.19 Elapsed: 00:00:02\n",
      "Guide-tree computation (mBed) done.\n",
      "Progressive alignment progress done. CPU time: 492.34u 15.26s 00:08:27.60 Elapsed: 00:05:32\n",
      "Iteration step 1 out of 1\n",
      "Computing new guide tree (iteration step 0)\n",
      "Calculating pairwise aligned identity distances...\n",
      "Pairwise identity calculation progress done. CPU time: 0.01u 0.00s 00:00:00.01 Elapsed: 00:00:00\n",
      "Guide-tree computation done.\n",
      "Computing HMM from alignment\n",
      "Progressive alignment progress done. CPU time: 1407.66u 55.61s 00:24:23.27 Elapsed: 00:19:14\n",
      "Alignment written to sequences/aligned.fasta\n"
     ]
    }
   ],
   "source": [
    "!./clustal-omega-1.2.3-macosx -i sequences/all.fasta -o sequences/aligned.fasta --auto --force  -v"
   ]
  },
  {
   "cell_type": "code",
   "execution_count": 7,
   "metadata": {},
   "outputs": [
    {
     "name": "stdout",
     "output_type": "stream",
     "text": [
      "SingleLetterAlphabet() alignment with 6 rows and 37932 columns\n",
      "----------------------ACTGAAAATAGATATTAATATA...--- KX389094\n",
      "-------------------------ATTAAAGGTTTATACCTTC...--- MN996528\n",
      "-------------------------ATATTAGGTTTTTACCTTC...--- MG772934\n",
      "--------GTCATTTGGTAAAATATAATATATATTTTATCACTC...AAA JQ065048\n",
      "--------------------------------GATTTAAGTGAA...--- NC_019843\n",
      "AGAAACAAGTAGTGTTTTAAAAACCTTCAAATTAGTGCCTGTAA...--- NC_034972\n"
     ]
    }
   ],
   "source": [
    "align = AlignIO.read(\"sequences/aligned.fasta\", \"fasta\")\n",
    "print(align)"
   ]
  },
  {
   "cell_type": "markdown",
   "metadata": {},
   "source": [
    "# Calculate distance:"
   ]
  },
  {
   "cell_type": "code",
   "execution_count": 9,
   "metadata": {},
   "outputs": [],
   "source": [
    "calculator = DistanceCalculator('identity')\n",
    "dm = calculator.get_distance(align)"
   ]
  },
  {
   "cell_type": "markdown",
   "metadata": {},
   "source": [
    "# Create the Phylogenetic Tree"
   ]
  },
  {
   "cell_type": "code",
   "execution_count": 29,
   "metadata": {},
   "outputs": [
    {
     "name": "stdout",
     "output_type": "stream",
     "text": [
      "\n",
      "Distance Matrix:\n",
      "-----------------------\n",
      "KX389094\t0\n",
      "MN996528\t0.5484024043024359\t0\n",
      "MG772934\t0.5511177897289887\t0.09946746810081197\t0\n",
      "JQ065048\t0.5713118211536434\t0.6185015290519877\t0.6218496256458926\t0\n",
      "NC_019843\t0.5494832858799958\t0.47126436781609193\t0.47440156068754613\t0.627807655805125\t0\n",
      "NC_034972\t0.5556522197616788\t0.558947590424971\t0.5582094273963936\t0.591584941474217\t0.5781398291679849\t0\n",
      "\tKX389094\tMN996528\tMG772934\tJQ065048\tNC_019843\tNC_034972\n",
      "\n",
      "Phylogenetic Tree:\n",
      "-----------------------\n",
      "  __________________________________________________________________ JQ065048\n",
      " |\n",
      "_|   _______________________________________________________________ NC_034972\n",
      " |  |\n",
      " |__|          _____________________________________________________ NC_019843\n",
      "    |  _______|\n",
      "    | |       |                                          ___________ MG772934\n",
      "    |_|       |_________________________________________|\n",
      "      |                                                 |___________ MN996528\n",
      "      |\n",
      "      |_____________________________________________________________ KX389094\n",
      "\n"
     ]
    },
    {
     "data": {
      "image/png": "[encoded data removed]",
      "text/plain": [
       "<Figure size 1500x1000 with 1 Axes>"
      ]
     },
     "metadata": {
      "needs_background": "light"
     },
     "output_type": "display_data"
    }
   ],
   "source": [
    "\n",
    "\n",
    "\n",
    "def get_label(leaf):\n",
    "    code=['JQ065048', 'MN996528', 'NC_034972', 'NC_019843', 'KX389094', 'MG772934']\n",
    "    host=['Wigeon', 'H. Sapiens, COVID-19', 'Rodent', 'H. Sapiens, MERS', 'Red junglefowl', 'Horseshoe bat']\n",
    "    \n",
    "    if leaf.name.startswith('Inner'):\n",
    "        name=''\n",
    "        return name\n",
    "    else:\n",
    "        \n",
    "        for i in range(0, len(code)):\n",
    "            if leaf.name==code[i]:\n",
    "                name=host[i]\n",
    "                return name\n",
    "            \n",
    "            #return ''\n",
    "        #name=leaf.name\n",
    "\n",
    "    #return name\n",
    "\n",
    "\n",
    "print('\\nDistance Matrix:\\n-----------------------')\n",
    "print(dm)\n",
    "\n",
    "# Phylogenetic tree using UPGMA algorithm\n",
    "constructor = DistanceTreeConstructor()\n",
    "#tree = constructor.upgma(dm) # We color the human strain, SARS and SARS-CoV-2 in blue\n",
    "#tree.clade[1, 1, 0].color = \"black\"\n",
    "mrca = tree.common_ancestor({'name':  'MG772934'}, {'name': 'MN996528'})\n",
    "mrca.color = \"red\"\n",
    "\n",
    "fig = plt.figure(figsize=(15, 10), dpi=100)\n",
    "axes = fig.add_subplot(1, 1, 1)\n",
    "#Phylo.draw(tree, axes=axes, label_func=get_label)\n",
    "Phylo.draw(tree, axes=axes, label_func=get_label, branch_labels=lambda c: round(c.branch_length, 2), do_show=False)\n",
    "plt.savefig('tree.png')\n",
    "\n",
    "print('\\nPhylogenetic Tree:\\n-----------------------')\n",
    "Phylo.draw_ascii(tree)"
   ]
  },
  {
   "cell_type": "markdown",
   "metadata": {},
   "source": [
    "<br>\n",
    "<br>\n",
    "\n",
    "# Readings from multiple alignements file:\n",
    "\n",
    "<br>\n",
    "<br>\n",
    "Here we imported the alignement of differents strains SARS-CoV-2 from fifférent countries directly from https://www.ncbi.nlm.nih.gov/labs/virus/vssi/\n",
    "<br>\n",
    "The alignement file is then read as a fasta file.\n"
   ]
  },
  {
   "cell_type": "code",
   "execution_count": 17,
   "metadata": {},
   "outputs": [],
   "source": [
    "\n",
    "from Bio import SeqIO\n",
    "from Bio import AlignIO\n",
    "\n",
    "align = AlignIO.read(\"sequences/multiple_cov_align.fasta\", \"fasta\")\n"
   ]
  },
  {
   "cell_type": "code",
   "execution_count": 18,
   "metadata": {},
   "outputs": [],
   "source": [
    "calculator = DistanceCalculator('identity')\n",
    "dm = calculator.get_distance(align)"
   ]
  },
  {
   "cell_type": "code",
   "execution_count": 53,
   "metadata": {},
   "outputs": [
    {
     "data": {
      "image/png": "[encoded data removed]",
      "text/plain": [
       "<Figure size 800x1000 with 1 Axes>"
      ]
     },
     "metadata": {
      "needs_background": "light"
     },
     "output_type": "display_data"
    }
   ],
   "source": [
    "\n",
    "def get_label(leaf):\n",
    "    if leaf.name.startswith('Inner'):\n",
    "        name=''\n",
    "    else:\n",
    "        name=leaf.name\n",
    "\n",
    "    return name\n",
    "\n",
    "constructor = DistanceTreeConstructor()\n",
    "tree = constructor.upgma(dm)\n",
    "\n",
    "fig = plt.figure(figsize=(8, 10), dpi=100)\n",
    "axes = fig.add_subplot(1, 1, 1)\n",
    "\n",
    "#Phylo.draw(tree, axes=axes, do_show=False)\n",
    "Phylo.draw(tree, axes=axes, label_func=get_label, branch_labels=lambda c: round(c.branch_length, 2), do_show=False)\n",
    "plt.savefig('tree2.png')\n"
   ]
  }
 ],
 "metadata": {
  "kernelspec": {
   "display_name": "Python (simenv)",
   "language": "python",
   "name": "simenv"
  },
  "language_info": {
   "codemirror_mode": {
    "name": "ipython",
    "version": 3
   },
   "file_extension": ".py",
   "mimetype": "text/x-python",
   "name": "python",
   "nbconvert_exporter": "python",
   "pygments_lexer": "ipython3",
   "version": "3.7.6"
  }
 },
 "nbformat": 4,
 "nbformat_minor": 4
}
