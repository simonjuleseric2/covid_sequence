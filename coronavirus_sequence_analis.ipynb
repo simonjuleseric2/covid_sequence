{
 "cells": [
  {
   "cell_type": "code",
   "execution_count": 3,
   "metadata": {},
   "outputs": [],
   "source": [
    "from Bio import AlignIO\n",
    "from Bio.Align.Applications import ClustalOmegaCommandline\n",
    "from Bio.Phylo.TreeConstruction import DistanceCalculator, DistanceTreeConstructor\n",
    "from Bio.Phylo import draw\n",
    "from Bio import SeqIO\n",
    "from Bio import Phylo, AlignIO\n",
    "import subprocess\n",
    "import matplotlib\n",
    "import matplotlib.pyplot as plt\n",
    "import pandas as pd\n",
    "import numpy as np\n",
    "import os\n",
    "from Bio.Align.Applications import ClustalOmegaCommandline\n",
    "\n",
    "#Genomic Data from https://www.ncbi.nlm.nih.gov/labs/virus/vssi/#/"
   ]
  },
  {
   "cell_type": "code",
   "execution_count": 15,
   "metadata": {},
   "outputs": [
    {
     "data": {
      "text/plain": [
       "['cov_Rhinolophus.fasta',\n",
       " 'cov_galus.fasta',\n",
       " 'cov_anatidae.fasta',\n",
       " 'cov_sapiens.fasta']"
      ]
     },
     "execution_count": 15,
     "metadata": {},
     "output_type": "execute_result"
    }
   ],
   "source": [
    "os.listdir('sequences/')"
   ]
  },
  {
   "cell_type": "markdown",
   "metadata": {},
   "source": [
    "# Read the data from fasta files:"
   ]
  },
  {
   "cell_type": "code",
   "execution_count": 14,
   "metadata": {},
   "outputs": [],
   "source": [
    "galus = SeqIO.read(\"sequences/cov_galus.fasta\", \"fasta\")\n",
    "sapiens = SeqIO.read(\"sequences/cov_sapiens.fasta\", \"fasta\")\n",
    "rhinolophus = SeqIO.read(\"sequences/cov_Rhinolophus.fasta\", \"fasta\")\n",
    "anatidae = SeqIO.read(\"sequences/cov_anatidae.fasta\", \"fasta\")\n"
   ]
  },
  {
   "cell_type": "code",
   "execution_count": 16,
   "metadata": {},
   "outputs": [],
   "source": [
    "list_rec=[galus, sapiens, rhinolophus, anatidae]"
   ]
  },
  {
   "cell_type": "code",
   "execution_count": 18,
   "metadata": {},
   "outputs": [
    {
     "data": {
      "text/plain": [
       "4"
      ]
     },
     "execution_count": 18,
     "metadata": {},
     "output_type": "execute_result"
    }
   ],
   "source": [
    "#reads = SeqIO.parse(file,\"fasta\")\n",
    "end = []\n",
    "\n",
    "for record in list_rec:\n",
    "    #record[:n].append(end)\n",
    "    end.append(record)\n",
    "    \n",
    "SeqIO.write(end, \"sequences/all.fasta\", \"fasta\")"
   ]
  },
  {
   "cell_type": "markdown",
   "metadata": {},
   "source": [
    "# Alignement"
   ]
  },
  {
   "cell_type": "markdown",
   "metadata": {},
   "source": [
    "Performed using clustral.\n",
    "be sure to download the binaries from http://www.clustal.org/omega/"
   ]
  },
  {
   "cell_type": "markdown",
   "metadata": {},
   "source": [
    "the binary file must be saved in the same folder as the execution file (this one) and permission must be adapted (for Linux/MAC: chmod 777 clustal-omega-1.2.3-macosx)"
   ]
  },
  {
   "cell_type": "code",
   "execution_count": 19,
   "metadata": {},
   "outputs": [
    {
     "name": "stdout",
     "output_type": "stream",
     "text": [
      "clustalo -i sequences/all.fasta -o sequences/aligned.fasta --auto -v\n"
     ]
    }
   ],
   "source": [
    "# Define input file\n",
    "in_file = \"sequences/all.fasta\"\n",
    "\n",
    "# Define output file\n",
    "out_file = \"sequences/aligned.fasta\"\n",
    "\n",
    "# Get the command for Clustal Omega\n",
    "clustalomega_cline = ClustalOmegaCommandline(infile=in_file, outfile=out_file, verbose=True, auto=True)\n",
    "\n",
    "# Print the executable command\n",
    "print(clustalomega_cline)"
   ]
  },
  {
   "cell_type": "code",
   "execution_count": 20,
   "metadata": {},
   "outputs": [
    {
     "name": "stdout",
     "output_type": "stream",
     "text": [
      "Using 8 threads\n",
      "Read 4 sequences (type: DNA) from sequences/all.fasta\n",
      "not more sequences (4) than cluster-size (100), turn off mBed\n",
      "Setting options automatically based on input sequence characteristics (might overwrite some of your options).\n",
      "Auto settings: Enabling mBed.\n",
      "Auto settings: Setting iteration to 1.\n",
      "Using 3 seeds (chosen with constant stride from length sorted seqs) for mBed (from a total of 4 sequences)\n",
      "Calculating pairwise ktuple-distances...\n",
      "Ktuple-distance calculation progress done. CPU time: 2.27u 0.02s 00:00:02.29 Elapsed: 00:00:01\n",
      "mBed created 1 cluster/s (with a minimum of 1 and a soft maximum of 100 sequences each)\n",
      "Distance calculation within sub-clusters done. CPU time: 2.23u 0.00s 00:00:02.23 Elapsed: 00:00:01\n",
      "Guide-tree computation (mBed) done.\n",
      "Progressive alignment progress done. CPU time: 242.64u 7.45s 00:04:10.08 Elapsed: 00:02:51\n",
      "Iteration step 1 out of 1\n",
      "Computing new guide tree (iteration step 0)\n",
      "Calculating pairwise aligned identity distances...\n",
      "Pairwise identity calculation progress done. CPU time: 0.00u 0.00s 00:00:00.00 Elapsed: 00:00:00\n",
      "Guide-tree computation done.\n",
      "Computing HMM from alignment\n",
      "Progressive alignment progress done. CPU time: 729.05u 27.31s 00:12:36.35 Elapsed: 00:10:04\n",
      "Alignment written to sequences/aligned.fasta\n"
     ]
    }
   ],
   "source": [
    "!./clustal-omega-1.2.3-macosx -i sequences/all.fasta -o sequences/aligned.fasta --auto -v"
   ]
  },
  {
   "cell_type": "code",
   "execution_count": 21,
   "metadata": {},
   "outputs": [
    {
     "name": "stdout",
     "output_type": "stream",
     "text": [
      "SingleLetterAlphabet() alignment with 4 rows and 35658 columns\n",
      "--------------------------------------------...--- KX389094\n",
      "------------------------ATTAAAGGTTTATACCTTCC...AAA MN996528\n",
      "--------------------------------------------...--- NC_028824\n",
      "GTCATTTGGTAAAATATAATATATATTTTATCACTCTAGCTTCG...AAA JQ065048\n"
     ]
    }
   ],
   "source": [
    "align = AlignIO.read(\"sequences/aligned.fasta\", \"fasta\")\n",
    "print(align)"
   ]
  },
  {
   "cell_type": "markdown",
   "metadata": {},
   "source": [
    "# Calculate distance:"
   ]
  },
  {
   "cell_type": "code",
   "execution_count": 22,
   "metadata": {},
   "outputs": [],
   "source": [
    "calculator = DistanceCalculator('identity')\n",
    "dm = calculator.get_distance(align)"
   ]
  },
  {
   "cell_type": "markdown",
   "metadata": {},
   "source": [
    "# Create the Phylogenetic Tree"
   ]
  },
  {
   "cell_type": "code",
   "execution_count": 23,
   "metadata": {},
   "outputs": [
    {
     "name": "stdout",
     "output_type": "stream",
     "text": [
      "\n",
      "Distance Matrix\n",
      "===================\n",
      "KX389094\t0\n",
      "MN996528\t0.5926860732514443\t0\n",
      "NC_028824\t0.4901284424252622\t0.5816366593751753\t0\n",
      "JQ065048\t0.5804588030736441\t0.6395198833361377\t0.6035952661394357\t0\n",
      "\tKX389094\tMN996528\tNC_028824\tJQ065048\n"
     ]
    },
    {
     "data": {
      "image/png": "[encoded data removed]",
      "text/plain": [
       "<Figure size 432x288 with 1 Axes>"
      ]
     },
     "metadata": {
      "needs_background": "light"
     },
     "output_type": "display_data"
    },
    {
     "name": "stdout",
     "output_type": "stream",
     "text": [
      "\n",
      "Phylogenetic Tree\n",
      "===================\n",
      "  ___________________________________________________________________ JQ065048\n",
      "_|\n",
      " |   ________________________________________________________________ MN996528\n",
      " |__|\n",
      "    |          ______________________________________________________ NC_028824\n",
      "    |_________|\n",
      "              |______________________________________________________ KX389094\n",
      "\n"
     ]
    }
   ],
   "source": [
    "print('\\nDistance Matrix\\n===================')\n",
    "print(dm)\n",
    "\n",
    "# Construct the phylogenetic tree using UPGMA algorithm\n",
    "constructor = DistanceTreeConstructor()\n",
    "tree = constructor.upgma(dm)\n",
    "\n",
    "# Draw the phylogenetic tree\n",
    "Phylo.draw(tree)\n",
    "\n",
    "# Print the phylogenetic tree in the terminal\n",
    "print('\\nPhylogenetic Tree:\\n===================')\n",
    "Phylo.draw_ascii(tree)"
   ]
  },
  {
   "cell_type": "code",
   "execution_count": null,
   "metadata": {},
   "outputs": [],
   "source": [
    "#MN996528 --> H. Sapiens (COVID19), JQ065048-->anatidae, NC_028824-->rhinolophus, KX389094-->galus"
   ]
  }
 ],
 "metadata": {
  "kernelspec": {
   "display_name": "Python (simenv)",
   "language": "python",
   "name": "simenv"
  },
  "language_info": {
   "codemirror_mode": {
    "name": "ipython",
    "version": 3
   },
   "file_extension": ".py",
   "mimetype": "text/x-python",
   "name": "python",
   "nbconvert_exporter": "python",
   "pygments_lexer": "ipython3",
   "version": "3.7.6"
  }
 },
 "nbformat": 4,
 "nbformat_minor": 4
}
