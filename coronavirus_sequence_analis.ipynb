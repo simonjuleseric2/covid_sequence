{
 "cells": [
  {
   "cell_type": "code",
   "execution_count": 27,
   "metadata": {},
   "outputs": [],
   "source": [
    "from Bio import AlignIO\n",
    "from Bio.Align.Applications import ClustalOmegaCommandline\n",
    "from Bio.Phylo.TreeConstruction import DistanceCalculator, DistanceTreeConstructor\n",
    "from Bio.Phylo import draw\n",
    "from Bio import SeqIO\n",
    "from Bio import Phylo, AlignIO\n",
    "import subprocess\n",
    "import matplotlib\n",
    "import matplotlib.pyplot as plt\n",
    "import pandas as pd\n",
    "import numpy as np\n",
    "import os\n",
    "from Bio.Align.Applications import ClustalOmegaCommandline\n",
    "\n",
    "#Genomic Data from https://www.ncbi.nlm.nih.gov/labs/virus/vssi/#/"
   ]
  },
  {
   "cell_type": "code",
   "execution_count": 28,
   "metadata": {},
   "outputs": [
    {
     "data": {
      "text/plain": [
       "['cov_mers.fasta',\n",
       " 'cov_Rhinolophus.fasta',\n",
       " 'all.fasta',\n",
       " 'cov_anatidae.fasta',\n",
       " 'aligned.fasta',\n",
       " 'cov_sapiens.fasta',\n",
       " 'cov_gallus.fasta']"
      ]
     },
     "execution_count": 28,
     "metadata": {},
     "output_type": "execute_result"
    }
   ],
   "source": [
    "os.listdir('sequences/') # show fasta files to import:"
   ]
  },
  {
   "cell_type": "markdown",
   "metadata": {},
   "source": [
    "# Read the data from fasta files:"
   ]
  },
  {
   "cell_type": "markdown",
   "metadata": {},
   "source": [
    "Data can be downloaded here: https://www.ncbi.nlm.nih.gov/labs/virus/vssi/"
   ]
  },
  {
   "cell_type": "markdown",
   "metadata": {},
   "source": [
    "Here we explore several string of the Coronaviridae familly from different host species: "
   ]
  },
  {
   "cell_type": "markdown",
   "metadata": {},
   "source": [
    "Gallus: Chicken, covid19: H. Sapiens, Rhinolophus: Bat, Anatidae: Duck, Mers: H. Sapiens MERS."
   ]
  },
  {
   "cell_type": "code",
   "execution_count": 29,
   "metadata": {},
   "outputs": [],
   "source": [
    "gallus = SeqIO.read(\"sequences/cov_gallus.fasta\", \"fasta\") #Chicken\n",
    "covid19 = SeqIO.read(\"sequences/cov_sapiens.fasta\", \"fasta\") #H. Sapiens Covid-19\n",
    "rhinolophus = SeqIO.read(\"sequences/cov_Rhinolophus.fasta\", \"fasta\") #Bat\n",
    "anatidae = SeqIO.read(\"sequences/cov_anatidae.fasta\", \"fasta\")# Duck/swan\n",
    "mers = SeqIO.read('sequences/cov_mers.fasta', 'fasta') # H. Sapiens MERS"
   ]
  },
  {
   "cell_type": "code",
   "execution_count": 30,
   "metadata": {},
   "outputs": [],
   "source": [
    "list_rec=[gallus, covid19, rhinolophus, anatidae, mers]"
   ]
  },
  {
   "cell_type": "code",
   "execution_count": 31,
   "metadata": {},
   "outputs": [
    {
     "data": {
      "text/plain": [
       "5"
      ]
     },
     "execution_count": 31,
     "metadata": {},
     "output_type": "execute_result"
    }
   ],
   "source": [
    "#reads = SeqIO.parse(file,\"fasta\")\n",
    "end = []\n",
    "\n",
    "for record in list_rec:\n",
    "    #record[:n].append(end)\n",
    "    end.append(record)\n",
    "    \n",
    "SeqIO.write(end, \"sequences/all.fasta\", \"fasta\")"
   ]
  },
  {
   "cell_type": "markdown",
   "metadata": {},
   "source": [
    "# Alignement"
   ]
  },
  {
   "cell_type": "markdown",
   "metadata": {},
   "source": [
    "Performed using clustral.\n",
    "be sure to download the binaries from http://www.clustal.org/omega/"
   ]
  },
  {
   "cell_type": "markdown",
   "metadata": {},
   "source": [
    "the binary file must be saved in the same folder as the execution file (this one) and permission must be adapted (for Linux/MAC: chmod 777 clustal-omega-1.2.3-macosx  Change the binary file name with the one corresponding to your download)"
   ]
  },
  {
   "cell_type": "code",
   "execution_count": 32,
   "metadata": {},
   "outputs": [
    {
     "name": "stdout",
     "output_type": "stream",
     "text": [
      "clustalo -i sequences/all.fasta -o sequences/aligned.fasta --auto -v\n"
     ]
    }
   ],
   "source": [
    "# Define input file\n",
    "in_file = \"sequences/all.fasta\"\n",
    "\n",
    "# Define output file\n",
    "out_file = \"sequences/aligned.fasta\"\n",
    "\n",
    "# Get the command for Clustal Omega\n",
    "clustalomega_cline = ClustalOmegaCommandline(infile=in_file, outfile=out_file, verbose=True, auto=True)\n",
    "\n",
    "# Print the executable command\n",
    "print(clustalomega_cline)"
   ]
  },
  {
   "cell_type": "code",
   "execution_count": 34,
   "metadata": {},
   "outputs": [
    {
     "name": "stdout",
     "output_type": "stream",
     "text": [
      "Using 8 threads\n",
      "Read 5 sequences (type: DNA) from sequences/all.fasta\n",
      "not more sequences (5) than cluster-size (100), turn off mBed\n",
      "Setting options automatically based on input sequence characteristics (might overwrite some of your options).\n",
      "Auto settings: Enabling mBed.\n",
      "Auto settings: Setting iteration to 1.\n",
      "Using 4 seeds (chosen with constant stride from length sorted seqs) for mBed (from a total of 5 sequences)\n",
      "Calculating pairwise ktuple-distances...\n",
      "Ktuple-distance calculation progress done. CPU time: 3.82u 0.02s 00:00:03.84 Elapsed: 00:00:01\n",
      "mBed created 1 cluster/s (with a minimum of 1 and a soft maximum of 100 sequences each)\n",
      "Distance calculation within sub-clusters done. CPU time: 3.79u 0.00s 00:00:03.79 Elapsed: 00:00:02\n",
      "Guide-tree computation (mBed) done.\n",
      "Progressive alignment progress done. CPU time: 405.05u 11.45s 00:06:56.50 Elapsed: 00:04:18\n",
      "Iteration step 1 out of 1\n",
      "Computing new guide tree (iteration step 0)\n",
      "Calculating pairwise aligned identity distances...\n",
      "Pairwise identity calculation progress done. CPU time: 0.00u 0.00s 00:00:00.00 Elapsed: 00:00:00\n",
      "Guide-tree computation done.\n",
      "Computing HMM from alignment\n",
      "Progressive alignment progress done. CPU time: 1203.59u 44.25s 00:20:47.83 Elapsed: 02:49:51\n",
      "Alignment written to sequences/aligned.fasta\n"
     ]
    }
   ],
   "source": [
    "!./clustal-omega-1.2.3-macosx -i sequences/all.fasta -o sequences/aligned.fasta --auto -v"
   ]
  },
  {
   "cell_type": "code",
   "execution_count": 35,
   "metadata": {},
   "outputs": [
    {
     "name": "stdout",
     "output_type": "stream",
     "text": [
      "SingleLetterAlphabet() alignment with 5 rows and 38109 columns\n",
      "ACTGAAAATAGATATTAATATATATCTATTGCACTAGCCTTGCG...--- KX389094\n",
      "-------------------------------------------A...AAA MN996528\n",
      "--------------------------------------------...--- NC_028824\n",
      "--------------------------------------------...AAA JQ065048\n",
      "--------------------------------------------...--- NC_019843\n"
     ]
    }
   ],
   "source": [
    "align = AlignIO.read(\"sequences/aligned.fasta\", \"fasta\")\n",
    "print(align)"
   ]
  },
  {
   "cell_type": "markdown",
   "metadata": {},
   "source": [
    "# Calculate distance:"
   ]
  },
  {
   "cell_type": "code",
   "execution_count": 36,
   "metadata": {},
   "outputs": [],
   "source": [
    "calculator = DistanceCalculator('identity')\n",
    "dm = calculator.get_distance(align)"
   ]
  },
  {
   "cell_type": "markdown",
   "metadata": {},
   "source": [
    "# Create the Phylogenetic Tree"
   ]
  },
  {
   "cell_type": "code",
   "execution_count": 44,
   "metadata": {},
   "outputs": [
    {
     "name": "stdout",
     "output_type": "stream",
     "text": [
      "\n",
      "Distance Matrix\n",
      "===================\n",
      "KX389094\t0\n",
      "MN996528\t0.5535962633498648\t0\n",
      "NC_028824\t0.5359888740192605\t0.5481382350625836\t0\n",
      "JQ065048\t0.5541210737621034\t0.6240520611928941\t0.5973392112099505\t0\n",
      "NC_019843\t0.5669789288619487\t0.45634889396205625\t0.5343357212207089\t0.6321079010207562\t0\n",
      "\tKX389094\tMN996528\tNC_028824\tJQ065048\tNC_019843\n",
      "\n",
      "Phylogenetic Tree:\n",
      "===================\n",
      "  ________________________________________________________________ JQ065048\n",
      " |\n",
      "_|                 _________________________________________________ NC_019843\n",
      " |       _________|\n",
      " |      |         |_________________________________________________ MN996528\n",
      " |______|\n",
      "        | __________________________________________________________ NC_028824\n",
      "        ||\n",
      "         |__________________________________________________________ KX389094\n",
      "\n"
     ]
    },
    {
     "data": {
      "image/png": "[encoded data removed]",
      "text/plain": [
       "<Figure size 800x1000 with 1 Axes>"
      ]
     },
     "metadata": {
      "needs_background": "light"
     },
     "output_type": "display_data"
    }
   ],
   "source": [
    "print('\\nDistance Matrix\\n===================')\n",
    "print(dm)\n",
    "\n",
    "# Construct the phylogenetic tree using UPGMA algorithm\n",
    "constructor = DistanceTreeConstructor()\n",
    "tree = constructor.upgma(dm)\n",
    "\n",
    "# Draw the phylogenetic tree\n",
    "#Phylo.draw(tree)\n",
    "\n",
    "fig = plt.figure(figsize=(8, 10), dpi=100)\n",
    "axes = fig.add_subplot(1, 1, 1)\n",
    "#Phylo.draw(tree, axes=axes, label_func=get_label)\n",
    "Phylo.draw(tree, axes=axes, do_show=False)\n",
    "plt.savefig('tree.png')\n",
    "# Print the phylogenetic tree in the terminal\n",
    "print('\\nPhylogenetic Tree:\\n===================')\n",
    "Phylo.draw_ascii(tree)"
   ]
  },
  {
   "cell_type": "code",
   "execution_count": null,
   "metadata": {},
   "outputs": [],
   "source": [
    "#MN996528 --> H. Sapiens (COVID19), NC_019843:H. Sapiens (MERS), JQ065048-->anatidae, NC_028824-->rhinolophus, KX389094-->galus"
   ]
  }
 ],
 "metadata": {
  "kernelspec": {
   "display_name": "Python (simenv)",
   "language": "python",
   "name": "simenv"
  },
  "language_info": {
   "codemirror_mode": {
    "name": "ipython",
    "version": 3
   },
   "file_extension": ".py",
   "mimetype": "text/x-python",
   "name": "python",
   "nbconvert_exporter": "python",
   "pygments_lexer": "ipython3",
   "version": "3.7.6"
  }
 },
 "nbformat": 4,
 "nbformat_minor": 4
}
