{
 "cells": [
  {
   "cell_type": "code",
   "execution_count": 1,
   "metadata": {},
   "outputs": [],
   "source": [
    "from Bio import AlignIO\n",
    "from Bio.Align.Applications import ClustalOmegaCommandline\n",
    "from Bio.Phylo.TreeConstruction import DistanceCalculator, DistanceTreeConstructor\n",
    "from Bio.Phylo import draw\n",
    "from Bio import SeqIO\n",
    "from Bio import Phylo, AlignIO\n",
    "import subprocess\n",
    "import matplotlib\n",
    "import matplotlib.pyplot as plt\n",
    "import pandas as pd\n",
    "import numpy as np\n",
    "import os\n",
    "from Bio.Align.Applications import ClustalOmegaCommandline\n"
   ]
  },
  {
   "cell_type": "code",
   "execution_count": 2,
   "metadata": {},
   "outputs": [
    {
     "data": {
      "text/plain": [
       "['cov_mers.fasta',\n",
       " 'all.fasta',\n",
       " '.DS_Store',\n",
       " 'test',\n",
       " 'cov_anatidae.fasta',\n",
       " 'manis.fasta',\n",
       " 'aligned.fasta',\n",
       " 'cov_apodemus.fasta',\n",
       " 'cov_sapiens.fasta',\n",
       " 'seq_analysis',\n",
       " 'country_data',\n",
       " 'cov_gallus.fasta']"
      ]
     },
     "execution_count": 2,
     "metadata": {},
     "output_type": "execute_result"
    }
   ],
   "source": [
    "os.listdir('sequences/') # show fasta files to import:"
   ]
  },
  {
   "cell_type": "markdown",
   "metadata": {},
   "source": [
    "# Read the data from fasta files:\n",
    "<br>\n",
    "<br>\n",
    "Here we explore several string of the Coronaviridae familly from different host species: \n",
    "<br>\n",
    "\n",
    "-------------------------------------------------\n",
    "| Code:      | host:              |             |\n",
    "|------------|--------------------|-------------|\n",
    "| MN996528   |  Homo Sapiens      | SARS-CoV-2  |\n",
    "|            |                    |             |\n",
    "| NC_019843  |  Homo Sapiens      | MERS-CoV    |\n",
    "|            |                    |             |\n",
    "| JQ065048   |  Anatidae          |             |\n",
    "|            |                    |             |\n",
    "| MG772934   | Rhinolophus        |             |\n",
    "|            |                    |             |\n",
    "| NC_034972  | Apodemus chevrieri |             |\n",
    "|            |                    |             |\n",
    "| KX38909    | Gallus gallus      |             |\n",
    "|            |                    |             |\n",
    "| MT084071   | Manis javanica     |             |\n",
    "|            |                    |             |\n",
    "\n",
    "\n",
    "<br>\n",
    "\n",
    "\n",
    "Gallus: Chicken, covid19: H. Sapiens, Rhinolophus: Bat, Anatidae: Duck, Mers: H. Sapiens MERS.\n",
    "\n",
    "<br>\n",
    "\n",
    "*The data can be downloaded here:* https://www.ncbi.nlm.nih.gov/labs/virus/vssi/\n",
    "\n",
    "<br>\n",
    "\n",
    "\n"
   ]
  },
  {
   "cell_type": "code",
   "execution_count": 4,
   "metadata": {},
   "outputs": [],
   "source": [
    "gallus = SeqIO.read(\"sequences/cov_gallus.fasta\", \"fasta\") #Chicken\n",
    "covid19 = SeqIO.read(\"sequences/cov_sapiens.fasta\", \"fasta\") #H. Sapiens Covid-19\n",
    "rhinolophus = SeqIO.read(\"sequences/cov_Rhinolophus.fasta\", \"fasta\") #Bat\n",
    "anatidae = SeqIO.read(\"sequences/cov_anatidae.fasta\", \"fasta\")# Duck/swan\n",
    "mers = SeqIO.read('sequences/cov_mers.fasta', 'fasta') # H. Sapiens MERS\n",
    "apodemus = SeqIO.read('sequences/cov_apodemus.fasta', 'fasta') #Apodemus chevrieri\n",
    "manis=SeqIO.read('sequences/cov_manis.fasta', 'fasta')#Manis javanica\n",
    "\n",
    "#Create string sequence exemple:\n",
    "#print(str(gallus.seq))\n",
    "list_rec=[gallus, covid19, rhinolophus, anatidae, mers, apodemus, manis]"
   ]
  },
  {
   "cell_type": "code",
   "execution_count": 5,
   "metadata": {},
   "outputs": [
    {
     "data": {
      "text/plain": [
       "7"
      ]
     },
     "execution_count": 5,
     "metadata": {},
     "output_type": "execute_result"
    }
   ],
   "source": [
    "#reads = SeqIO.parse(file,\"fasta\")\n",
    "end = []\n",
    "\n",
    "for record in list_rec:\n",
    "    #record[:n].append(end)\n",
    "    end.append(record)\n",
    "    \n",
    "SeqIO.write(end, \"sequences/all.fasta\", \"fasta\")"
   ]
  },
  {
   "cell_type": "markdown",
   "metadata": {},
   "source": [
    "# Alignement\n",
    "<br>\n",
    "<br>\n",
    "Performed using clustral, \n",
    "be sure to download the binaries from http://www.clustal.org/omega/\n",
    "<br>\n",
    "<br>\n",
    "the binary file must be saved in the same folder as the execution file (this one) and permission must be adapted (for Linux/MAC: chmod 777 clustal-omega-1.2.3-macosx  Change the binary file name with the one corresponding to your download)"
   ]
  },
  {
   "cell_type": "code",
   "execution_count": 6,
   "metadata": {},
   "outputs": [
    {
     "name": "stdout",
     "output_type": "stream",
     "text": [
      "clustalo -i sequences/all.fasta -o sequences/aligned.fasta --auto -v\n"
     ]
    }
   ],
   "source": [
    "# Define input file\n",
    "in_file = \"sequences/all.fasta\"\n",
    "\n",
    "# Define output file\n",
    "out_file = \"sequences/aligned.fasta\"\n",
    "\n",
    "# Get the command for Clustal Omega\n",
    "clustalomega_cline = ClustalOmegaCommandline(infile=in_file, outfile=out_file, verbose=True, auto=True)\n",
    "\n",
    "# Print the executable command\n",
    "print(clustalomega_cline)"
   ]
  },
  {
   "cell_type": "code",
   "execution_count": 7,
   "metadata": {},
   "outputs": [
    {
     "name": "stdout",
     "output_type": "stream",
     "text": [
      "Using 8 threads\n",
      "Read 7 sequences (type: DNA) from sequences/all.fasta\n",
      "not more sequences (7) than cluster-size (100), turn off mBed\n",
      "Setting options automatically based on input sequence characteristics (might overwrite some of your options).\n",
      "Auto settings: Enabling mBed.\n",
      "Auto settings: Setting iteration to 1.\n",
      "Using 6 seeds (chosen with constant stride from length sorted seqs) for mBed (from a total of 7 sequences)\n",
      "Calculating pairwise ktuple-distances...\n",
      "Ktuple-distance calculation progress done. CPU time: 9.34u 0.02s 00:00:09.36 Elapsed: 00:00:02\n",
      "mBed created 1 cluster/s (with a minimum of 1 and a soft maximum of 100 sequences each)\n",
      "Distance calculation within sub-clusters done. CPU time: 9.36u 0.02s 00:00:09.37 Elapsed: 00:00:03\n",
      "Guide-tree computation (mBed) done.\n",
      "Progressive alignment progress done. CPU time: 453.90u 16.12s 00:07:50.02 Elapsed: 00:06:14\n",
      "Iteration step 1 out of 1\n",
      "Computing new guide tree (iteration step 0)\n",
      "Calculating pairwise aligned identity distances...\n",
      "Pairwise identity calculation progress done. CPU time: 0.01u 0.00s 00:00:00.01 Elapsed: 00:00:00\n",
      "Guide-tree computation done.\n",
      "Computing HMM from alignment\n",
      "Progressive alignment progress done. CPU time: 1658.11u 61.36s 00:28:39.46 Elapsed: 00:22:30\n",
      "Alignment written to sequences/aligned.fasta\n"
     ]
    }
   ],
   "source": [
    "!./clustal-omega-1.2.3-macosx -i sequences/all.fasta -o sequences/aligned.fasta --auto --force  -v"
   ]
  },
  {
   "cell_type": "code",
   "execution_count": 8,
   "metadata": {},
   "outputs": [
    {
     "name": "stdout",
     "output_type": "stream",
     "text": [
      "SingleLetterAlphabet() alignment with 7 rows and 38538 columns\n",
      "--------------------------------------------...--- KX389094\n",
      "--------------------------------------------...--- MN996528\n",
      "--------------------------------------------...A-- MG772934\n",
      "--------------------------------------------...--- JQ065048\n",
      "--------------------------------------------...--- NC_019843\n",
      "AGAAACAAGTAGTGTTTTAAAAACCTTCAAATTAGTGCCTGTAA...AAA NC_034972\n",
      "--------------------------------------------...--- MT084071\n"
     ]
    }
   ],
   "source": [
    "align = AlignIO.read(\"sequences/aligned.fasta\", \"fasta\")\n",
    "print(align)"
   ]
  },
  {
   "cell_type": "markdown",
   "metadata": {},
   "source": [
    "# Calculate distance:"
   ]
  },
  {
   "cell_type": "code",
   "execution_count": 10,
   "metadata": {},
   "outputs": [],
   "source": [
    "calculator = DistanceCalculator('identity')\n",
    "dm = calculator.get_distance(align)"
   ]
  },
  {
   "cell_type": "markdown",
   "metadata": {},
   "source": [
    "# Create the Phylogenetic Tree"
   ]
  },
  {
   "cell_type": "code",
   "execution_count": 13,
   "metadata": {},
   "outputs": [
    {
     "name": "stdout",
     "output_type": "stream",
     "text": [
      "\n",
      "Distance Matrix:\n",
      "-----------------------\n",
      "KX389094\t0\n",
      "MN996528\t0.5353676890342001\t0\n",
      "MG772934\t0.5392340028024287\t0.09790336810420885\t0\n",
      "JQ065048\t0.5693601120971509\t0.6184026156001868\t0.6185583060874981\t0\n",
      "NC_019843\t0.5409206497483003\t0.4571591675748612\t0.46107737817219363\t0.6423270538170118\t0\n",
      "NC_034972\t0.5669469095438269\t0.5641704291867766\t0.5669988063729305\t0.5717992630650267\t0.5815818153510821\t0\n",
      "MT084071\t0.5786755929212726\t0.18646530696974417\t0.20802843946234884\t0.6364367637137371\t0.5153355130001557\t0.596268617987441\t0\n",
      "\tKX389094\tMN996528\tMG772934\tJQ065048\tNC_019843\tNC_034972\tMT084071\n",
      "\n",
      "Phylogenetic Tree:\n",
      "-----------------------\n",
      "   _________________________________________________________________ NC_034972\n",
      " ,|\n",
      " ||_________________________________________________________________ JQ065048\n",
      " |\n",
      "_|           _______________________________________________________ NC_019843\n",
      " |    ______|\n",
      " |   |      |                                 ______________________ MT084071\n",
      " |   |      |________________________________|\n",
      " |___|                                       |           ___________ MG772934\n",
      "     |                                       |__________|\n",
      "     |                                                  |___________ MN996528\n",
      "     |\n",
      "     |______________________________________________________________ KX389094\n",
      "\n"
     ]
    },
    {
     "data": {
      "image/png": "[encoded data removed]",
      "text/plain": [
       "<Figure size 1500x1000 with 1 Axes>"
      ]
     },
     "metadata": {
      "needs_background": "light"
     },
     "output_type": "display_data"
    }
   ],
   "source": [
    "\n",
    "\n",
    "\n",
    "def get_label(leaf):\n",
    "    code=['JQ065048', 'MN996528', 'NC_034972', 'NC_019843', 'KX389094', 'MG772934', 'MT084071']\n",
    "    host=['Wigeon', 'H. Sapiens, COVID-19', 'Rodent', 'H. Sapiens, MERS', 'Red junglefowl', 'Horseshoe bat', 'Pangolin']\n",
    "    \n",
    "    if leaf.name.startswith('Inner'):\n",
    "        name=''\n",
    "        return name\n",
    "    else:\n",
    "        \n",
    "        for i in range(0, len(code)):\n",
    "            if leaf.name==code[i]:\n",
    "                name=host[i]\n",
    "                return name\n",
    "            \n",
    "            #return ''\n",
    "        #name=leaf.name\n",
    "\n",
    "    #return name\n",
    "\n",
    "\n",
    "print('\\nDistance Matrix:\\n-----------------------')\n",
    "print(dm)\n",
    "\n",
    "# Phylogenetic tree using UPGMA algorithm\n",
    "constructor = DistanceTreeConstructor()\n",
    "tree = constructor.upgma(dm) # We color the human strain, SARS and SARS-CoV-2 in blue\n",
    "#tree.clade[1, 1, 0].color = \"black\"\n",
    "mrca = tree.common_ancestor({'name':  'MG772934'}, {'name': 'MN996528'})\n",
    "mrca.color = \"red\"\n",
    "\n",
    "fig = plt.figure(figsize=(15, 10), dpi=100)\n",
    "axes = fig.add_subplot(1, 1, 1)\n",
    "#Phylo.draw(tree, axes=axes, label_func=get_label)\n",
    "Phylo.draw(tree, axes=axes, label_func=get_label, branch_labels=lambda c: round(c.branch_length, 2), do_show=False)\n",
    "plt.savefig('tree.png')\n",
    "\n",
    "print('\\nPhylogenetic Tree:\\n-----------------------')\n",
    "Phylo.draw_ascii(tree)"
   ]
  },
  {
   "cell_type": "markdown",
   "metadata": {},
   "source": [
    "<br>\n",
    "<br>\n",
    "\n",
    "# Readings from multiple alignements file:\n",
    "\n",
    "<br>\n",
    "<br>\n",
    "Here we imported the alignement of differents strains SARS-CoV-2 from fifférent countries directly from https://www.ncbi.nlm.nih.gov/labs/virus/vssi/\n",
    "<br>\n",
    "The alignement file is then read as a fasta file.\n"
   ]
  },
  {
   "cell_type": "code",
   "execution_count": 17,
   "metadata": {},
   "outputs": [],
   "source": [
    "\n",
    "from Bio import SeqIO\n",
    "from Bio import AlignIO\n",
    "\n",
    "align = AlignIO.read(\"sequences/multiple_cov_align.fasta\", \"fasta\")\n"
   ]
  },
  {
   "cell_type": "code",
   "execution_count": 18,
   "metadata": {},
   "outputs": [],
   "source": [
    "calculator = DistanceCalculator('identity')\n",
    "dm = calculator.get_distance(align)"
   ]
  },
  {
   "cell_type": "code",
   "execution_count": 53,
   "metadata": {},
   "outputs": [
    {
     "data": {
      "image/png": "[encoded data removed]",
      "text/plain": [
       "<Figure size 800x1000 with 1 Axes>"
      ]
     },
     "metadata": {
      "needs_background": "light"
     },
     "output_type": "display_data"
    }
   ],
   "source": [
    "\n",
    "def get_label(leaf):\n",
    "    if leaf.name.startswith('Inner'):\n",
    "        name=''\n",
    "    else:\n",
    "        name=leaf.name\n",
    "\n",
    "    return name\n",
    "\n",
    "constructor = DistanceTreeConstructor()\n",
    "tree = constructor.upgma(dm)\n",
    "\n",
    "fig = plt.figure(figsize=(8, 10), dpi=100)\n",
    "axes = fig.add_subplot(1, 1, 1)\n",
    "\n",
    "#Phylo.draw(tree, axes=axes, do_show=False)\n",
    "Phylo.draw(tree, axes=axes, label_func=get_label, branch_labels=lambda c: round(c.branch_length, 2), do_show=False)\n",
    "plt.savefig('tree2.png')\n"
   ]
  }
 ],
 "metadata": {
  "kernelspec": {
   "display_name": "Python (simenv)",
   "language": "python",
   "name": "simenv"
  },
  "language_info": {
   "codemirror_mode": {
    "name": "ipython",
    "version": 3
   },
   "file_extension": ".py",
   "mimetype": "text/x-python",
   "name": "python",
   "nbconvert_exporter": "python",
   "pygments_lexer": "ipython3",
   "version": "3.7.6"
  }
 },
 "nbformat": 4,
 "nbformat_minor": 4
}
