{
 "cells": [
  {
   "cell_type": "code",
   "execution_count": 1,
   "metadata": {},
   "outputs": [],
   "source": [
    "from Bio import AlignIO\n",
    "from Bio.Align.Applications import ClustalOmegaCommandline\n",
    "from Bio.Phylo.TreeConstruction import DistanceCalculator, DistanceTreeConstructor\n",
    "from Bio.Phylo import draw\n",
    "from Bio import SeqIO\n",
    "from Bio import Phylo, AlignIO\n",
    "import subprocess\n",
    "import matplotlib\n",
    "import matplotlib.pyplot as plt\n",
    "import pandas as pd\n",
    "import numpy as np\n",
    "import os\n",
    "from Bio.Align.Applications import ClustalOmegaCommandline\n"
   ]
  },
  {
   "cell_type": "code",
   "execution_count": 2,
   "metadata": {},
   "outputs": [
    {
     "data": {
      "text/plain": [
       "['all.fasta',\n",
       " 'cov_sapiens.fasta',\n",
       " 'seq_analysis',\n",
       " 'cov_apodemus.fasta',\n",
       " '._cov_Rhinolophus.fasta',\n",
       " '._.DS_Store',\n",
       " 'aligned.fasta',\n",
       " 'cov_mers.fasta',\n",
       " 'cov_manis.fasta',\n",
       " '._cov_sapiens.fasta',\n",
       " 'cov_Rhinolophus.fasta',\n",
       " '._cov_anatidae.fasta',\n",
       " '._cov_manis.fasta',\n",
       " '._cov_apodemus.fasta',\n",
       " 'country_data',\n",
       " '._aligned.fasta',\n",
       " '._cov_mers.fasta',\n",
       " 'test',\n",
       " '._cov_gallus.fasta',\n",
       " 'aligned.aln',\n",
       " 'cov_gallus.fasta',\n",
       " '.DS_Store',\n",
       " '._all.fasta',\n",
       " 'aligned2.fasta',\n",
       " 'cov_anatidae.fasta']"
      ]
     },
     "execution_count": 2,
     "metadata": {},
     "output_type": "execute_result"
    }
   ],
   "source": [
    "os.listdir('sequences/') # show fasta files to import:"
   ]
  },
  {
   "cell_type": "markdown",
   "metadata": {},
   "source": [
    "# Read the data from fasta files:\n",
    "<br>\n",
    "<br>\n",
    "Here we explore several string of the Coronaviridae familly from different host species: \n",
    "<br>\n",
    "\n",
    "-------------------------------------------------\n",
    "| Code:      | host:              |             |\n",
    "|------------|--------------------|-------------|\n",
    "| MN996528   |  Homo Sapiens      | SARS-CoV-2  |\n",
    "|            |                    |             |\n",
    "| NC_019843  |  Homo Sapiens      | MERS-CoV    |\n",
    "|            |                    |             |\n",
    "| JQ065048   |  Anatidae          |             |\n",
    "|            |                    |             |\n",
    "| MG772934   | Rhinolophus        |             |\n",
    "|            |                    |             |\n",
    "| NC_034972  | Apodemus chevrieri |             |\n",
    "|            |                    |             |\n",
    "| KX38909    | Gallus gallus      |             |\n",
    "|            |                    |             |\n",
    "| MT084071   | Manis javanica     |             |\n",
    "|            |                    |             |\n",
    "\n",
    "\n",
    "<br>\n",
    "\n",
    "\n",
    "Gallus: Chicken, covid19: H. Sapiens, Rhinolophus: Bat, Anatidae: Duck, Mers: H. Sapiens MERS.\n",
    "\n",
    "<br>\n",
    "\n",
    "*The data can be downloaded here:* https://www.ncbi.nlm.nih.gov/labs/virus/vssi/\n",
    "\n",
    "<br>\n",
    "\n",
    "\n"
   ]
  },
  {
   "cell_type": "code",
   "execution_count": 6,
   "metadata": {},
   "outputs": [],
   "source": [
    "gallus = SeqIO.read(\"sequences/cov_gallus.fasta\", \"fasta\") #Chicken\n",
    "covid19 = SeqIO.read(\"sequences/cov_sapiens.fasta\", \"fasta\") #H. Sapiens Covid-19\n",
    "rhinolophus = SeqIO.read(\"sequences/cov_Rhinolophus.fasta\", \"fasta\") #Bat\n",
    "anatidae = SeqIO.read(\"sequences/cov_anatidae.fasta\", \"fasta\")# Duck/swan\n",
    "mers = SeqIO.read('sequences/cov_mers.fasta', 'fasta') # H. Sapiens MERS\n",
    "apodemus = SeqIO.read('sequences/cov_apodemus.fasta', 'fasta') #Apodemus chevrieri\n",
    "manis=SeqIO.read('sequences/cov_manis.fasta', 'fasta')#Manis javanica\n",
    "\n",
    "#Create string sequence exemple:\n",
    "#print(str(gallus.seq))\n",
    "list_rec=[gallus, covid19, rhinolophus, anatidae, mers, apodemus, manis]"
   ]
  },
  {
   "cell_type": "code",
   "execution_count": 7,
   "metadata": {},
   "outputs": [
    {
     "data": {
      "text/plain": [
       "7"
      ]
     },
     "execution_count": 7,
     "metadata": {},
     "output_type": "execute_result"
    }
   ],
   "source": [
    "SeqIO.write(list_rec, \"sequences/all.fasta\", \"fasta\")"
   ]
  },
  {
   "cell_type": "markdown",
   "metadata": {},
   "source": [
    "# Alignement\n",
    "<br>\n",
    "<br>\n",
    "Performed using clustral, \n",
    "be sure to download the binaries from http://www.clustal.org/omega/\n",
    "<br>\n",
    "<br>\n",
    "the binary file must be saved in the same folder as the execution file (this one) and permission must be adapted (for Linux/MAC: chmod 777 clustal-omega-1.2.3-macosx  Change the binary file name with the one corresponding to your download)"
   ]
  },
  {
   "cell_type": "code",
   "execution_count": 12,
   "metadata": {},
   "outputs": [
    {
     "data": {
      "text/plain": [
       "('Using 8 threads\\nRead 7 sequences (type: DNA) from sequences/all.fasta\\nnot more sequences (7) than cluster-size (100), turn off mBed\\nCalculating pairwise ktuple-distances...\\nKtuple-distance calculation progress: 0 % (0 out of 28)\\nKtuple-distance calculation progress: 3 % (1 out of 28)\\nKtuple-distance calculation progress: 7 % (2 out of 28)\\nKtuple-distance calculation progress: 10 % (3 out of 28)\\nKtuple-distance calculation progress: 14 % (4 out of 28)\\nKtuple-distance calculation progress: 39 % (11 out of 28)\\nKtuple-distance calculation progress: 53 % (15 out of 28)\\nKtuple-distance calculation progress done. CPU time: 5.43u 0.01s 00:00:05.44 Elapsed: 00:00:02\\nGuide-tree computation done.\\nProgressive alignment progress: 16 % (1 out of 6)\\nProgressive alignment progress: 33 % (2 out of 6)\\nProgressive alignment progress: 50 % (3 out of 6)\\nProgressive alignment progress: 66 % (4 out of 6)\\nProgressive alignment progress: 83 % (5 out of 6)\\nProgressive alignment progress: 100 % (6 out of 6)\\nProgressive alignment progress done. CPU time: 1331.08u 9.08s 00:22:20.16 Elapsed: 00:06:53\\nAlignment written to sequences/aligned.aln\\n',\n",
       " 'WARNING: Your old-style command-line options were converted to:  /home/simon/binaries/clustalo-1.2.4-Ubuntu-x86_64 -i sequences/all.fasta -o sequences/aligned.aln --outfmt=clustal -v --force\\n')"
      ]
     },
     "execution_count": 12,
     "metadata": {},
     "output_type": "execute_result"
    }
   ],
   "source": [
    "## Test:\n",
    "from Bio.Align.Applications import ClustalwCommandline\n",
    "clustalw_exe = '/home/simon/binaries/clustalo-1.2.4-Ubuntu-x86_64'\n",
    "ccli = ClustalwCommandline(clustalw_exe, infile=\"sequences/all.fasta\", outfile=\"sequences/aligned.aln\")\n",
    "\n",
    "ccli()"
   ]
  },
  {
   "cell_type": "code",
   "execution_count": 5,
   "metadata": {},
   "outputs": [
    {
     "name": "stdout",
     "output_type": "stream",
     "text": [
      "clustalo -i sequences/all.fasta -o sequences/aligned.fasta --auto -v\n"
     ]
    }
   ],
   "source": [
    "# Define input file\n",
    "in_file = \"sequences/all.fasta\"\n",
    "\n",
    "# Define output file\n",
    "out_file = \"sequences/aligned.fasta\"\n",
    "\n",
    "# Get the command for Clustal Omega\n",
    "clustalomega_cline = ClustalOmegaCommandline(infile=in_file, outfile=out_file, verbose=True, auto=True)\n",
    "\n",
    "# Print the executable command\n",
    "print(clustalomega_cline)"
   ]
  },
  {
   "cell_type": "code",
   "execution_count": 11,
   "metadata": {},
   "outputs": [],
   "source": [
    "os.listdir('/home/simon/binaries/')\n",
    "#/home/simon/binaries/\n",
    "!chmod +x /home/simon/binaries/clustalo-1.2.4-Ubuntu-x86_64"
   ]
  },
  {
   "cell_type": "code",
   "execution_count": 12,
   "metadata": {},
   "outputs": [
    {
     "name": "stdout",
     "output_type": "stream",
     "text": [
      "Using 8 threads\n",
      "Read 7 sequences (type: DNA) from sequences/all.fasta\n",
      "not more sequences (7) than cluster-size (100), turn off mBed\n",
      "Setting options automatically based on input sequence characteristics (might overwrite some of your options).\n",
      "Auto settings: Enabling mBed.\n",
      "Auto settings: Setting iteration to 1.\n",
      "Using 6 seeds (chosen with constant stride from length sorted seqs) for mBed (from a total of 7 sequences)\n",
      "Calculating pairwise ktuple-distances...\n",
      "Ktuple-distance calculation progress done. CPU time: 5.94u 0.00s 00:00:05.94 Elapsed: 00:00:02\n",
      "mBed created 1 cluster/s (with a minimum of 1 and a soft maximum of 100 sequences each)\n",
      "Distance calculation within sub-clusters done. CPU time: 5.97u 0.01s 00:00:05.98 Elapsed: 00:00:02\n",
      "Guide-tree computation (mBed) done.\n",
      "Progressive alignment progress done. CPU time: 1349.04u 7.69s 00:22:36.73 Elapsed: 00:07:11\n",
      "Iteration step 1 out of 1\n",
      "Computing new guide tree (iteration step 5159681)\n",
      "Calculating pairwise aligned identity distances...\n",
      "Pairwise identity calculation progress done. CPU time: 0.11u 0.00s 00:00:00.11 Elapsed: 00:00:00\n",
      "Guide-tree computation done.\n",
      "Computing HMM from alignment\n",
      "Progressive alignment progress done. CPU time: 4220.08u 27.92s 01:10:48.00 Elapsed: 00:25:19\n",
      "Alignment written to sequences/aligned.fasta\n"
     ]
    }
   ],
   "source": [
    "!/home/simon/binaries/clustalo-1.2.4-Ubuntu-x86_64 -i sequences/all.fasta -o sequences/aligned.fasta --auto --force  -v"
   ]
  },
  {
   "cell_type": "code",
   "execution_count": 11,
   "metadata": {},
   "outputs": [
    {
     "ename": "ValueError",
     "evalue": "No records found in handle",
     "output_type": "error",
     "traceback": [
      "\u001b[0;31m---------------------------------------------------------------------------\u001b[0m",
      "\u001b[0;31mValueError\u001b[0m                                Traceback (most recent call last)",
      "\u001b[0;32m<ipython-input-11-ba0aa8e61710>\u001b[0m in \u001b[0;36m<module>\u001b[0;34m\u001b[0m\n\u001b[0;32m----> 1\u001b[0;31m \u001b[0malign\u001b[0m \u001b[0;34m=\u001b[0m \u001b[0mAlignIO\u001b[0m\u001b[0;34m.\u001b[0m\u001b[0mread\u001b[0m\u001b[0;34m(\u001b[0m\u001b[0;34m\"sequences/aligned2.fasta\"\u001b[0m\u001b[0;34m,\u001b[0m \u001b[0;34m\"fasta\"\u001b[0m\u001b[0;34m)\u001b[0m\u001b[0;34m\u001b[0m\u001b[0;34m\u001b[0m\u001b[0m\n\u001b[0m\u001b[1;32m      2\u001b[0m \u001b[0mprint\u001b[0m\u001b[0;34m(\u001b[0m\u001b[0malign\u001b[0m\u001b[0;34m)\u001b[0m\u001b[0;34m\u001b[0m\u001b[0;34m\u001b[0m\u001b[0m\n",
      "\u001b[0;32m~/anaconda3/envs/simenv/lib/python3.7/site-packages/Bio/AlignIO/__init__.py\u001b[0m in \u001b[0;36mread\u001b[0;34m(handle, format, seq_count, alphabet)\u001b[0m\n\u001b[1;32m    449\u001b[0m         \u001b[0mfirst\u001b[0m \u001b[0;34m=\u001b[0m \u001b[0;32mNone\u001b[0m\u001b[0;34m\u001b[0m\u001b[0;34m\u001b[0m\u001b[0m\n\u001b[1;32m    450\u001b[0m     \u001b[0;32mif\u001b[0m \u001b[0mfirst\u001b[0m \u001b[0;32mis\u001b[0m \u001b[0;32mNone\u001b[0m\u001b[0;34m:\u001b[0m\u001b[0;34m\u001b[0m\u001b[0;34m\u001b[0m\u001b[0m\n\u001b[0;32m--> 451\u001b[0;31m         \u001b[0;32mraise\u001b[0m \u001b[0mValueError\u001b[0m\u001b[0;34m(\u001b[0m\u001b[0;34m\"No records found in handle\"\u001b[0m\u001b[0;34m)\u001b[0m\u001b[0;34m\u001b[0m\u001b[0;34m\u001b[0m\u001b[0m\n\u001b[0m\u001b[1;32m    452\u001b[0m     \u001b[0;32mtry\u001b[0m\u001b[0;34m:\u001b[0m\u001b[0;34m\u001b[0m\u001b[0;34m\u001b[0m\u001b[0m\n\u001b[1;32m    453\u001b[0m         \u001b[0msecond\u001b[0m \u001b[0;34m=\u001b[0m \u001b[0mnext\u001b[0m\u001b[0;34m(\u001b[0m\u001b[0miterator\u001b[0m\u001b[0;34m)\u001b[0m\u001b[0;34m\u001b[0m\u001b[0;34m\u001b[0m\u001b[0m\n",
      "\u001b[0;31mValueError\u001b[0m: No records found in handle"
     ]
    }
   ],
   "source": [
    "align = AlignIO.read(\"sequences/aligned.fasta\", \"fasta\")\n",
    "print(align)\n",
    "\n",
    "#seqs = AlignIO.read(’../../aoutput.aln’, ’clustal’)"
   ]
  },
  {
   "cell_type": "markdown",
   "metadata": {},
   "source": [
    "# Calculate distance:"
   ]
  },
  {
   "cell_type": "code",
   "execution_count": 14,
   "metadata": {},
   "outputs": [],
   "source": [
    "calculator = DistanceCalculator('identity')\n",
    "dm = calculator.get_distance(align)"
   ]
  },
  {
   "cell_type": "markdown",
   "metadata": {},
   "source": [
    "# Create the Phylogenetic Tree"
   ]
  },
  {
   "cell_type": "code",
   "execution_count": 15,
   "metadata": {},
   "outputs": [
    {
     "name": "stdout",
     "output_type": "stream",
     "text": [
      "\n",
      "Distance Matrix:\n",
      "-----------------------\n",
      "KX389094\t0\n",
      "MN996528\t0.5353676890342001\t0\n",
      "MG772934\t0.5392340028024287\t0.09790336810420885\t0\n",
      "JQ065048\t0.5693601120971509\t0.6184026156001868\t0.6185583060874981\t0\n",
      "NC_019843\t0.5409206497483003\t0.4571591675748612\t0.46107737817219363\t0.6423270538170118\t0\n",
      "NC_034972\t0.5669469095438269\t0.5641704291867766\t0.5669988063729305\t0.5717992630650267\t0.5815818153510821\t0\n",
      "MT084071\t0.5786755929212726\t0.18646530696974417\t0.20802843946234884\t0.6364367637137371\t0.5153355130001557\t0.596268617987441\t0\n",
      "\tKX389094\tMN996528\tMG772934\tJQ065048\tNC_019843\tNC_034972\tMT084071\n",
      "\n",
      "Phylogenetic Tree:\n",
      "-----------------------\n",
      "   _________________________________________________________________ NC_034972\n",
      " ,|\n",
      " ||_________________________________________________________________ JQ065048\n",
      " |\n",
      "_|           _______________________________________________________ NC_019843\n",
      " |    ______|\n",
      " |   |      |                                 ______________________ MT084071\n",
      " |   |      |________________________________|\n",
      " |___|                                       |           ___________ MG772934\n",
      "     |                                       |__________|\n",
      "     |                                                  |___________ MN996528\n",
      "     |\n",
      "     |______________________________________________________________ KX389094\n",
      "\n"
     ]
    },
    {
     "data": {
      "image/png": "[encoded data removed]",
      "text/plain": [
       "<Figure size 1500x1000 with 1 Axes>"
      ]
     },
     "metadata": {
      "needs_background": "light"
     },
     "output_type": "display_data"
    }
   ],
   "source": [
    "\n",
    "\n",
    "\n",
    "def get_label(leaf):\n",
    "    code=['JQ065048', 'MN996528', 'NC_034972', 'NC_019843', 'KX389094', 'MG772934', 'MT084071']\n",
    "    host=['Wigeon', 'H. Sapiens, COVID-19', 'Rodent', 'H. Sapiens, MERS', 'Red junglefowl', 'Horseshoe bat', 'Pangolin']\n",
    "    \n",
    "    if leaf.name.startswith('Inner'):\n",
    "        name=''\n",
    "        return name\n",
    "    else:\n",
    "        \n",
    "        for i in range(0, len(code)):\n",
    "            if leaf.name==code[i]:\n",
    "                name=host[i]\n",
    "                return name\n",
    "            \n",
    "            #return ''\n",
    "        #name=leaf.name\n",
    "\n",
    "    #return name\n",
    "\n",
    "\n",
    "print('\\nDistance Matrix:\\n-----------------------')\n",
    "print(dm)\n",
    "\n",
    "# Phylogenetic tree using UPGMA algorithm\n",
    "constructor = DistanceTreeConstructor()\n",
    "tree = constructor.upgma(dm) # We color the human strain, SARS and SARS-CoV-2 in blue\n",
    "#tree.clade[1, 1, 0].color = \"black\"\n",
    "mrca = tree.common_ancestor({'name':  'MG772934'}, {'name': 'MN996528'})\n",
    "mrca.color = \"red\"\n",
    "\n",
    "fig = plt.figure(figsize=(15, 10), dpi=100)\n",
    "axes = fig.add_subplot(1, 1, 1)\n",
    "#Phylo.draw(tree, axes=axes, label_func=get_label)\n",
    "Phylo.draw(tree, axes=axes, label_func=get_label, branch_labels=lambda c: round(c.branch_length, 2), do_show=False)\n",
    "plt.savefig('tree.png')\n",
    "\n",
    "print('\\nPhylogenetic Tree:\\n-----------------------')\n",
    "Phylo.draw_ascii(tree)"
   ]
  },
  {
   "cell_type": "code",
   "execution_count": 16,
   "metadata": {},
   "outputs": [
    {
     "data": {
      "text/plain": [
       "1"
      ]
     },
     "execution_count": 16,
     "metadata": {},
     "output_type": "execute_result"
    }
   ],
   "source": [
    "Phylo.write(tree, 'example.nwk', 'newick')"
   ]
  },
  {
   "cell_type": "markdown",
   "metadata": {},
   "source": [
    "<br>\n",
    "<br>\n",
    "\n",
    "# Readings from multiple alignements file:\n",
    "\n",
    "<br>\n",
    "<br>\n",
    "Here we imported the alignement of differents strains SARS-CoV-2 from different countries directly from:\n",
    "<br>\n",
    "<br>\n",
    "https://www.ncbi.nlm.nih.gov/labs/virus/vssi/\n",
    "<br>\n",
    "<br>\n",
    "The alignement file is then read as a fasta file.\n"
   ]
  },
  {
   "cell_type": "code",
   "execution_count": 18,
   "metadata": {},
   "outputs": [],
   "source": [
    "\n",
    "from Bio import SeqIO\n",
    "from Bio import AlignIO\n",
    "\n",
    "align = AlignIO.read(\"sequences/aligned.fasta\", \"fasta\")\n"
   ]
  },
  {
   "cell_type": "code",
   "execution_count": 19,
   "metadata": {},
   "outputs": [],
   "source": [
    "calculator = DistanceCalculator('identity')\n",
    "dm = calculator.get_distance(align)"
   ]
  },
  {
   "cell_type": "code",
   "execution_count": 20,
   "metadata": {},
   "outputs": [
    {
     "data": {
      "image/png": "[encoded data removed]",
      "text/plain": [
       "<Figure size 800x1000 with 1 Axes>"
      ]
     },
     "metadata": {
      "needs_background": "light"
     },
     "output_type": "display_data"
    }
   ],
   "source": [
    "\n",
    "def get_label(leaf):\n",
    "    if leaf.name.startswith('Inner'):\n",
    "        name=''\n",
    "    else:\n",
    "        name=leaf.name\n",
    "\n",
    "    return name\n",
    "\n",
    "constructor = DistanceTreeConstructor()\n",
    "tree = constructor.upgma(dm)\n",
    "\n",
    "fig = plt.figure(figsize=(8, 10), dpi=100)\n",
    "axes = fig.add_subplot(1, 1, 1)\n",
    "\n",
    "#Phylo.draw(tree, axes=axes, do_show=False)\n",
    "Phylo.draw(tree, axes=axes, label_func=get_label, branch_labels=lambda c: round(c.branch_length, 2), do_show=False)\n",
    "plt.savefig('tree2.png')\n"
   ]
  },
  {
   "cell_type": "code",
   "execution_count": null,
   "metadata": {},
   "outputs": [],
   "source": []
  },
  {
   "cell_type": "code",
   "execution_count": 36,
   "metadata": {},
   "outputs": [
    {
     "name": "stdout",
     "output_type": "stream",
     "text": [
      "AAA\n",
      "MT188341 |Severe acute respiratory syndrome coronavirus 2 isolate USA/MN1-MDH1/2020| complete genome\n",
      "AAA\n",
      "MT188339 |Severe acute respiratory syndrome coronavirus 2 isolate USA/MN3-MDH3/2020| complete genome\n",
      "AAA\n",
      "MT188340 |Severe acute respiratory syndrome coronavirus 2 isolate USA/MN2-MDH2/2020| complete genome\n",
      "AAA\n",
      "MT184909 |Severe acute respiratory syndrome coronavirus 2 isolate 2019-nCoV/USA-CruiseA-22/2020| complete genome\n",
      "AAA\n",
      "MT184908 |Severe acute respiratory syndrome coronavirus 2 isolate 2019-nCoV/USA-CruiseA-21/2020| complete genome\n",
      "AAA\n",
      "MT184911 |Severe acute respiratory syndrome coronavirus 2 isolate 2019-nCoV/USA-CruiseA-24/2020| complete genome\n",
      "AAA\n",
      "MT184913 |Severe acute respiratory syndrome coronavirus 2 isolate 2019-nCoV/USA-CruiseA-26/2020| complete genome\n",
      "AAA\n",
      "MT184907 |Severe acute respiratory syndrome coronavirus 2 isolate 2019-nCoV/USA-CruiseA-19/2020| complete genome\n",
      "AAA\n",
      "MT184912 |Severe acute respiratory syndrome coronavirus 2 isolate 2019-nCoV/USA-CruiseA-25/2020| complete genome\n",
      "AAA\n",
      "MT184910 |Severe acute respiratory syndrome coronavirus 2 isolate 2019-nCoV/USA-CruiseA-23/2020| complete genome\n"
     ]
    },
    {
     "data": {
      "text/plain": [
       "7"
      ]
     },
     "execution_count": 36,
     "metadata": {},
     "output_type": "execute_result"
    }
   ],
   "source": [
    "#records = list(SeqIO.parse('sequences/country_data/usa.fasta', \"fasta\"))\n",
    "for seq in records:\n",
    "    print(seq.name)\n",
    "    seq.name='AAA'\n",
    "    print(seq.description)\n",
    "    #print(seq.seq)\n",
    "#for seq in SeqIO.read('sequences/country_data/usa.fasta', 'fasta'):\n",
    "#    print(seq)\n",
    "#usa=SeqIO.read('sequences/country_data/usa.fasta', 'fasta')\n",
    "\n",
    "\n",
    "SeqIO.write(end, \"test.fasta\", \"fasta\")"
   ]
  },
  {
   "cell_type": "code",
   "execution_count": 37,
   "metadata": {},
   "outputs": [
    {
     "name": "stdout",
     "output_type": "stream",
     "text": [
      "clustalo -i test.fasta -o aligned_test.fasta --auto -v\n"
     ]
    }
   ],
   "source": [
    "in_file = \"test.fasta\"\n",
    "\n",
    "# Define output file\n",
    "out_file = \"aligned_test.fasta\"\n",
    "\n",
    "# Get the command for Clustal Omega\n",
    "clustalomega_cline = ClustalOmegaCommandline(infile=in_file, outfile=out_file, verbose=True, auto=True)\n",
    "# Print the executable command\n",
    "print(clustalomega_cline)"
   ]
  },
  {
   "cell_type": "code",
   "execution_count": 38,
   "metadata": {},
   "outputs": [
    {
     "name": "stdout",
     "output_type": "stream",
     "text": [
      "Using 8 threads\n",
      "Read 7 sequences (type: DNA) from test.fasta\n",
      "not more sequences (7) than cluster-size (100), turn off mBed\n",
      "Setting options automatically based on input sequence characteristics (might overwrite some of your options).\n",
      "Auto settings: Enabling mBed.\n",
      "Auto settings: Setting iteration to 1.\n",
      "Using 6 seeds (chosen with constant stride from length sorted seqs) for mBed (from a total of 7 sequences)\n",
      "Calculating pairwise ktuple-distances...\n",
      "Ktuple-distance calculation progress done. CPU time: 8.91u 0.02s 00:00:08.93 Elapsed: 00:00:02\n",
      "mBed created 1 cluster/s (with a minimum of 1 and a soft maximum of 100 sequences each)\n",
      "Distance calculation within sub-clusters done. CPU time: 8.90u 0.02s 00:00:08.92 Elapsed: 00:00:03\n",
      "Guide-tree computation (mBed) done.\n",
      "Progressive alignment progress done. CPU time: 568.91u 17.77s 00:09:46.67 Elapsed: 00:06:28\n",
      "Iteration step 1 out of 1\n",
      "Computing new guide tree (iteration step 0)\n",
      "Calculating pairwise aligned identity distances...\n",
      "Pairwise identity calculation progress done. CPU time: 0.01u 0.00s 00:00:00.01 Elapsed: 00:00:00\n",
      "Guide-tree computation done.\n",
      "Computing HMM from alignment\n",
      "Progressive alignment progress done. CPU time: 1671.75u 61.04s 00:28:52.79 Elapsed: 00:22:24\n",
      "Alignment written to aligned_test.fasta\n"
     ]
    }
   ],
   "source": [
    "!./clustal-omega-1.2.3-macosx -i test.fasta -o aligned_test.fasta --auto --force  -v"
   ]
  },
  {
   "cell_type": "code",
   "execution_count": null,
   "metadata": {},
   "outputs": [],
   "source": [
    "align = AlignIO.read(\"aligned_test.fasta\", \"fasta\")\n",
    "print(align)\n",
    "\n",
    "calculator = DistanceCalculator('identity')\n",
    "dm = calculator.get_distance(align)\n",
    "\n",
    "\n",
    "constructor = DistanceTreeConstructor()\n",
    "tree = constructor.upgma(dm)\n",
    "\n",
    "#mrca = tree.common_ancestor({'name':  'MG772934'}, {'name': 'MN996528'})\n",
    "#mrca.color = \"red\"\n",
    "\n",
    "fig = plt.figure(figsize=(15, 10), dpi=100)\n",
    "axes = fig.add_subplot(1, 1, 1)\n",
    "#Phylo.draw(tree, axes=axes, label_func=get_label)\n",
    "Phylo.draw(tree, axes=axes, branch_labels=lambda c: round(c.branch_length, 2), do_show=False)\n",
    "#plt.savefig('tree.png')\n",
    "\n",
    "print('\\nPhylogenetic Tree:\\n-----------------------')\n",
    "Phylo.draw_ascii(tree)\n",
    "\n"
   ]
  },
  {
   "cell_type": "code",
   "execution_count": 22,
   "metadata": {},
   "outputs": [
    {
     "name": "stdout",
     "output_type": "stream",
     "text": [
      "MT077125\n",
      "MT077125 |Severe acute respiratory syndrome coronavirus 2 isolate SARS-CoV-2/human/ITA/INMI1/2020| complete genome\n",
      "MT292571\n",
      "MT292571 |Severe acute respiratory syndrome coronavirus 2 isolate SARS-CoV-2/human/ESP/Valencia12/2020| complete genome\n",
      "MT292570\n",
      "MT292570 |Severe acute respiratory syndrome coronavirus 2 isolate SARS-CoV-2/human/ESP/Valencia17/2020| complete genome\n",
      "MT292573\n",
      "MT292573 |Severe acute respiratory syndrome coronavirus 2 isolate SARS-CoV-2/human/ESP/Valencia14/2020| complete genome\n",
      "MT292575\n",
      "MT292575 |Severe acute respiratory syndrome coronavirus 2 isolate SARS-CoV-2/human/ESP/Valencia16/2020| complete genome\n",
      "MT292572\n",
      "MT292572 |Severe acute respiratory syndrome coronavirus 2 isolate SARS-CoV-2/human/ESP/Valencia11/2020| complete genome\n",
      "MT292574\n",
      "MT292574 |Severe acute respiratory syndrome coronavirus 2 isolate SARS-CoV-2/human/ESP/Valencia15/2020| complete genome\n",
      "MT292569\n",
      "MT292569 |Severe acute respiratory syndrome coronavirus 2 isolate SARS-CoV-2/human/ESP/Valencia13/2020| complete genome\n"
     ]
    }
   ],
   "source": [
    "records = list(SeqIO.parse('sequences/country_data/spain.fasta', \"fasta\"))\n",
    "for seq in records:\n",
    "    print(seq.name)\n",
    "    print(seq.description)"
   ]
  },
  {
   "cell_type": "code",
   "execution_count": null,
   "metadata": {},
   "outputs": [],
   "source": []
  },
  {
   "cell_type": "markdown",
   "metadata": {},
   "source": [
    "<br>\n",
    "<br>\n",
    "\n",
    "## Molecular clock analysis:\n",
    "\n",
    "<br>\n",
    "We will be using a different python package called phylo treetime which can be installed using the following comand:\n",
    "\n",
    "<br>\n",
    "\n",
    "pip install phylo-treetime  \n",
    "\n",
    "<br>\n",
    "Related article:\n",
    "<br>\n",
    "<br>\n",
    "https://www.ncbi.nlm.nih.gov/pmc/articles/PMC5758920/\n",
    "<br>"
   ]
  },
  {
   "cell_type": "code",
   "execution_count": 11,
   "metadata": {},
   "outputs": [
    {
     "name": "stdout",
     "output_type": "stream",
     "text": [
      "\n",
      "Attempting to parse dates...\n",
      "\tUsing column 'name' as name. This needs match the taxon names in the tree!!\n",
      "\tUsing column 'date' as date.\n",
      "\n",
      "0.00\t-TreeAnc: set-up\n",
      "\n",
      "1.38\t-SequenceData: loaded alignment.\n",
      "\n",
      "1.38\t-SeqData: making compressed alignment...\n",
      "\n",
      "3.77\t-SequenceData: constructed compressed alignment...\n",
      "\n",
      "4.14\t-WARNING: character U is unknown. Treating it as missing information\n",
      "4.14\t--ClockTree: Setting precision to level 2\n",
      "\n",
      "4.16\t-ClockTree._assign_dates: assigned date contraints to 362 out of 362 tips.\n",
      "\n",
      "4.16\t-TreeTime._set_branch_length_mode: maximum branch length is 7.954e-04,\n",
      "    \t using branch length mode joint\n",
      "\n",
      "4.16\t-TreeAnc.optimize_tree: sequences...\n",
      "\n",
      "4.16\t-TreeAnc.infer_ancestral_sequences with method: probabilistic, joint\n",
      "\n",
      "4.16\tWARNING: Previous versions of TreeTime (<0.7.0) RECONSTRUCTED sequences of\n",
      "    \ttips at positions with AMBIGUOUS bases. This resulted in unexpected\n",
      "    \tbehavior is some cases and is no longer done by default. If you want to\n",
      "    \treplace those ambiguous sites with their most likely state, rerun with\n",
      "    \t`reconstruct_tip_states=True` or `--reconstruct-tip-states`.\n",
      "4.16\t--TreeAnc._ml_anc_joint: type of reconstruction: Joint\n",
      "7.49\t--TreeAnc.infer_gtr: counting mutations...\n",
      "\n",
      "8.39\t-GTR: with alphabet: ['A', 'C', 'G', 'T', '-']\n",
      "8.39\t--GTR: ambiguous character: N\n",
      "\n",
      "8.39\t-GTR: model inference\n",
      "8.40\t--The model allows for gaps which are estimated to occur at a low fraction\n",
      "    \t  of 5.034e-03 this can potentially result in artificats. gap fraction will\n",
      "    \t  be set to 0.0100\n",
      "8.40\t--TreeAnc.infer_gtr: setting overall rate to 1.0...\n",
      "8.40\t--TreeAnc._ml_anc_joint: type of reconstruction: Joint\n",
      "\n",
      "11.81\t-TreeAnc.optimize_branch_length: running branch length optimization using\n",
      "     \t jointML ancestral sequences\n",
      "\n",
      "13.79\t-TreeAnc.prune_short_branches: pruning short branches (max prob at\n",
      "     \t zero)...\n",
      "\n",
      "14.01\t-TreeAnc.infer_ancestral_sequences with method: probabilistic, joint\n",
      "14.01\t--TreeAnc._ml_anc_joint: type of reconstruction: Joint\n",
      "16.70\t--TreeAnc.optimize_tree: Iteration 1. #Nuc changed since prev\n",
      "     \t  reconstructions: 156\n",
      "\n",
      "16.70\t-TreeAnc.optimize_branch_length: running branch length optimization using\n",
      "     \t jointML ancestral sequences\n",
      "18.22\t--TreeAnc.optimize_tree: Unconstrained sequence LH:-39160.059109\n",
      "\n",
      "18.22\tTreeTime.reroot: with method or node: least-squares\n",
      "\n",
      "18.22\tTreeTime.reroot: rerooting will ignore covariance and shared ancestry.\n",
      "18.22\t--TreeTime._find_best_root: searching for the best root position...\n",
      "18.84\t--TreeTime.reroot: Tree was re-rooted to node NODE_0000063\n",
      "18.98\t--ClockTree.date2dist: Setting new molecular clock. rate=7.432e-04,\n",
      "     \t  R^2=0.6064\n",
      "\n",
      "18.98\t-TreeAnc.optimize_tree: sequences...\n",
      "\n",
      "18.98\t-TreeAnc.infer_ancestral_sequences with method: probabilistic, joint\n",
      "18.98\t--TreeAnc._ml_anc_joint: type of reconstruction: Joint\n",
      "\n",
      "21.68\t-TreeAnc.optimize_branch_length: running branch length optimization using\n",
      "     \t jointML ancestral sequences\n",
      "\n",
      "23.20\t-TreeAnc.infer_ancestral_sequences with method: probabilistic, joint\n",
      "23.20\t--TreeAnc._ml_anc_joint: type of reconstruction: Joint\n",
      "25.89\t--TreeAnc.optimize_tree: Iteration 1. #Nuc changed since prev\n",
      "     \t  reconstructions: 150\n",
      "\n",
      "25.89\t-TreeAnc.optimize_branch_length: running branch length optimization using\n",
      "     \t jointML ancestral sequences\n",
      "27.42\t--TreeAnc.optimize_tree: Unconstrained sequence LH:-39160.127830\n",
      "\n",
      "27.43\t###TreeTime.run: INITIAL ROUND\n",
      "\n",
      "27.43\t-ClockTree: Maximum likelihood tree optimization with temporal constraints\n",
      "27.43\t--ClockTree.init_date_constraints...\n",
      "34.34\t--ClockTree.date2dist: Setting new molecular clock. rate=7.290e-04,\n",
      "     \t  R^2=0.5957\n",
      "34.35\t--ClockTree - Joint reconstruction:  Propagating leaves -> root...\n",
      "44.47\t--ClockTree - Joint reconstruction:  Propagating root -> leaves...\n"
     ]
    },
    {
     "data": {
      "text/plain": [
       "'success'"
      ]
     },
     "execution_count": 11,
     "metadata": {},
     "output_type": "execute_result"
    }
   ],
   "source": [
    "from treetime import TreeTime\n",
    "from treetime.utils import parse_dates\n",
    "\n",
    "dates=parse_dates('ebola/metadata.csv')\n",
    "tt=TreeTime(tree='ebola/ebola.nwk', aln='ebola/ebola.fasta', dates=dates)\n",
    "tt.run(root='best')"
   ]
  },
  {
   "cell_type": "code",
   "execution_count": 12,
   "metadata": {},
   "outputs": [
    {
     "data": {
      "image/png": "[encoded data removed]",
      "text/plain": [
       "<Figure size 432x288 with 1 Axes>"
      ]
     },
     "metadata": {
      "needs_background": "light"
     },
     "output_type": "display_data"
    }
   ],
   "source": [
    " tt.plot_root_to_tip(add_internal=True)"
   ]
  },
  {
   "cell_type": "code",
   "execution_count": 13,
   "metadata": {},
   "outputs": [
    {
     "name": "stdout",
     "output_type": "stream",
     "text": [
      "\n",
      "391.85\t-TreeAnc.infer_ancestral_sequences with method: probabilistic, joint\n",
      "391.85\t--TreeAnc.infer_gtr: counting mutations...\n",
      "\n",
      "392.60\t-GTR: with alphabet: ['A', 'C', 'G', 'T', '-']\n",
      "392.60\t--GTR: ambiguous character: N\n",
      "\n",
      "392.60\t-GTR: model inference\n",
      "392.60\t--The model allows for gaps which are estimated to occur at a low\n",
      "      \t  fraction of 7.593e-03 this can potentially result in artificats. gap\n",
      "      \t  fraction will be set to 0.0100\n",
      "392.60\t--TreeAnc.infer_gtr: setting overall rate to 1.0...\n",
      "392.61\t--TreeAnc._ml_anc_joint: type of reconstruction: Joint\n",
      "\n",
      "395.46\t-TreeAnc.prune_short_branches: pruning short branches (max prob at\n",
      "      \t zero)...\n",
      "\n",
      "395.47\tTreeTime.reroot: with method or node: least-squares\n",
      "\n",
      "395.47\tTreeTime.reroot: rerooting will ignore covariance and shared ancestry.\n",
      "395.47\t--TreeTime._find_best_root: searching for the best root position...\n",
      "396.16\t--TreeTime.reroot: Tree was re-rooted to node NODE_0000063\n",
      "396.32\t--ClockTree.date2dist: Setting new molecular clock. rate=7.795e-04,\n",
      "      \t  R^2=0.6064\n",
      "396.32\t---TreeTime.ClockFilter: marking EM_NG_2016_029366 as outlier, residual\n",
      "      \t   -4.524315 interquartile distances\n",
      "396.32\t---TreeTime.ClockFilter: marking EM_NG_2016_029364 as outlier, residual\n",
      "      \t   -4.524315 interquartile distances\n",
      "396.32\t---TreeTime.ClockFilter: marking EM_NG_2016_029417 as outlier, residual\n",
      "      \t   -4.563792 interquartile distances\n",
      "396.32\t---TreeTime.ClockFilter: marking NZG_0381 as outlier, residual -4.603268\n",
      "      \t   interquartile distances\n",
      "396.32\t---TreeTime.ClockFilter: marking NZG_0393 as outlier, residual -4.375423\n",
      "      \t   interquartile distances\n",
      "396.32\t---TreeTime.ClockFilter: marking NZG_0422 as outlier, residual -4.414899\n",
      "      \t   interquartile distances\n",
      "396.32\t---TreeTime.ClockFilter: marking NZG_0358 as outlier, residual -4.296471\n",
      "      \t   interquartile distances\n",
      "396.32\t---TreeTime.ClockFilter: marking J0169 as outlier, residual 3.522433\n",
      "      \t   interquartile distances\n",
      "396.32\t---TreeTime.ClockFilter: marking 2607_C2_12916_EMLH as outlier, residual\n",
      "      \t   4.075704 interquartile distances\n",
      "396.32\t---TreeTime.ClockFilter: marking 2607_C2_12855_EMLH as outlier, residual\n",
      "      \t   4.233609 interquartile distances\n",
      "396.32\t---TreeTime.ClockFilter: marking 1708_C1_13031_EMLH as outlier, residual\n",
      "      \t   4.374592 interquartile distances\n",
      "396.32\t---TreeTime.ClockFilter: marking 1507_C1_18660_EMLH as outlier, residual\n",
      "      \t   5.428728 interquartile distances\n",
      "396.32\t---TreeTime.ClockFilter: marking 1507_C1_18650_EMLH as outlier, residual\n",
      "      \t   5.158977 interquartile distances\n",
      "396.32\t---TreeTime.ClockFilter: marking 1507_C1_13268_EMLH as outlier, residual\n",
      "      \t   5.626761 interquartile distances\n",
      "396.32\t---TreeTime.ClockFilter: marking 1507_C1_18647_EMLH as outlier, residual\n",
      "      \t   4.891039 interquartile distances\n",
      "396.32\t---TreeTime.ClockFilter: marking 0208_C1_MK10173 as outlier, residual\n",
      "      \t   4.922036 interquartile distances\n",
      "396.32\t---TreeTime.ClockFilter: marking 1507_C1_18706_EMLH as outlier, residual\n",
      "      \t   5.119419 interquartile distances\n",
      "396.32\t---TreeTime.ClockFilter: marking 2208_C2_18659R_EMLH as outlier, residual\n",
      "      \t   5.695691 interquartile distances\n",
      "396.32\t---TreeTime.ClockFilter: marking 2208_C2_18642R_EMLH as outlier, residual\n",
      "      \t   5.465356 interquartile distances\n",
      "396.32\t---TreeTime.ClockFilter: marking 1507_C1_18636_EMLH as outlier, residual\n",
      "      \t   5.733319 interquartile distances\n",
      "396.32\t---TreeTime.ClockFilter: marking 2208_C2_18687R_EMLH as outlier, residual\n",
      "      \t   5.654344 interquartile distances\n",
      "\n",
      "396.35\tTreeTime.reroot: with method or node: least-squares\n",
      "\n",
      "396.36\tTreeTime.reroot: rerooting will account for covariance and shared\n",
      "      \tancestry.\n",
      "396.36\t--TreeTime._find_best_root: searching for the best root position...\n",
      "397.05\t--TreeTime.reroot: Tree was re-rooted to node NODE_0000063\n",
      "397.20\t--ClockTree.date2dist: Setting new molecular clock. rate=7.901e-04,\n",
      "      \t  R^2=0.8108\n",
      "\n",
      "397.20\t-TreeAnc.infer_ancestral_sequences with method: probabilistic, joint\n",
      "397.20\t--TreeAnc._ml_anc_joint: type of reconstruction: Joint\n",
      "\n",
      "400.03\t###TreeTime.run: INITIAL ROUND\n",
      "\n",
      "400.03\t-ClockTree: Maximum likelihood tree optimization with temporal\n",
      "      \t constraints\n",
      "400.03\t--ClockTree.init_date_constraints...\n",
      "400.83\t--ClockTree.date2dist: Setting new molecular clock. rate=7.901e-04,\n",
      "      \t  R^2=0.8108\n",
      "400.84\t--ClockTree - Joint reconstruction:  Propagating leaves -> root...\n",
      "410.83\t--ClockTree - Joint reconstruction:  Propagating root -> leaves...\n",
      "\n",
      "410.87\tTreeTime.reroot: with method or node: least-squares\n",
      "\n",
      "410.87\tTreeTime.reroot: rerooting will account for covariance and shared\n",
      "      \tancestry.\n",
      "410.87\t--TreeTime._find_best_root: searching for the best root position...\n",
      "411.46\t--TreeTime.reroot: Tree was re-rooted to node NODE_0000063\n",
      "411.60\t--ClockTree.date2dist: Setting new molecular clock. rate=7.904e-04,\n",
      "      \t  R^2=0.8110\n",
      "\n",
      "411.60\t###TreeTime.run: rerunning timetree after rerooting\n",
      "\n",
      "411.60\t-ClockTree: Maximum likelihood tree optimization with temporal\n",
      "      \t constraints\n",
      "411.60\t--ClockTree.init_date_constraints...\n",
      "\n",
      "411.60\t-TreeAnc.infer_ancestral_sequences with method: probabilistic, joint\n",
      "411.60\t--TreeAnc._ml_anc_joint: type of reconstruction: Joint\n",
      "415.09\t--ClockTree.date2dist: Setting new molecular clock. rate=7.904e-04,\n",
      "      \t  R^2=0.8110\n",
      "415.10\t--ClockTree - Joint reconstruction:  Propagating leaves -> root...\n",
      "425.31\t--ClockTree - Joint reconstruction:  Propagating root -> leaves...\n",
      "\n",
      "425.35\t###TreeTime.run: ITERATION 1 out of 2 iterations\n",
      "\n",
      "425.35\t-TreeTime.run: adding coalescent prior with Tc=const\n",
      "427.31\t--optimized Tc to 0.005552\n",
      "\n",
      "427.52\t-TreeTime.resolve_polytomies: resolving multiple mergers...\n",
      "427.60\t---TreeTime._poly.cost_gain: optimization of gain failed\n",
      "427.61\t---TreeTime._poly.cost_gain: optimization of gain failed\n",
      "427.61\t---TreeTime._poly.cost_gain: optimization of gain failed\n",
      "428.28\t---TreeTime._poly.cost_gain: optimization of gain failed\n",
      "428.28\t---TreeTime._poly.cost_gain: optimization of gain failed\n",
      "428.28\t---TreeTime._poly.cost_gain: optimization of gain failed\n",
      "428.28\t---TreeTime._poly.cost_gain: optimization of gain failed\n",
      "428.28\t---TreeTime._poly.cost_gain: optimization of gain failed\n",
      "428.28\t---TreeTime._poly.cost_gain: optimization of gain failed\n",
      "428.28\t---TreeTime._poly.cost_gain: optimization of gain failed\n",
      "428.28\t---TreeTime._poly.cost_gain: optimization of gain failed\n",
      "428.28\t---TreeTime._poly.cost_gain: optimization of gain failed\n",
      "428.28\t---TreeTime._poly.cost_gain: optimization of gain failed\n",
      "428.29\t---TreeTime._poly.cost_gain: optimization of gain failed\n",
      "428.29\t---TreeTime._poly.cost_gain: optimization of gain failed\n",
      "428.30\t---TreeTime._poly.cost_gain: optimization of gain failed\n",
      "428.30\t---TreeTime._poly.cost_gain: optimization of gain failed\n",
      "428.30\t---TreeTime._poly.cost_gain: optimization of gain failed\n",
      "428.31\t---TreeTime._poly.cost_gain: optimization of gain failed\n",
      "428.31\t---TreeTime._poly.cost_gain: optimization of gain failed\n",
      "428.31\t---TreeTime._poly.cost_gain: optimization of gain failed\n",
      "428.31\t---TreeTime._poly.cost_gain: optimization of gain failed\n",
      "428.31\t---TreeTime._poly.cost_gain: optimization of gain failed\n",
      "428.31\t---TreeTime._poly.cost_gain: optimization of gain failed\n",
      "428.31\t---TreeTime._poly.cost_gain: optimization of gain failed\n",
      "428.31\t---TreeTime._poly.cost_gain: optimization of gain failed\n",
      "428.32\t---TreeTime._poly.cost_gain: optimization of gain failed\n",
      "428.40\t---TreeTime._poly.cost_gain: optimization of gain failed\n",
      "428.40\t---TreeTime._poly.cost_gain: optimization of gain failed\n",
      "428.40\t---TreeTime._poly.cost_gain: optimization of gain failed\n",
      "428.40\t---TreeTime._poly.cost_gain: optimization of gain failed\n",
      "428.40\t---TreeTime._poly.cost_gain: optimization of gain failed\n",
      "428.40\t---TreeTime._poly.cost_gain: optimization of gain failed\n",
      "428.42\t---TreeTime._poly.cost_gain: optimization of gain failed\n",
      "428.42\t---TreeTime._poly.cost_gain: optimization of gain failed\n",
      "428.42\t---TreeTime._poly.cost_gain: optimization of gain failed\n",
      "428.42\t---TreeTime._poly.cost_gain: optimization of gain failed\n",
      "428.43\t---TreeTime._poly.cost_gain: optimization of gain failed\n",
      "428.43\t---TreeTime._poly.cost_gain: optimization of gain failed\n",
      "428.43\t---TreeTime._poly.cost_gain: optimization of gain failed\n",
      "428.43\t---TreeTime._poly.cost_gain: optimization of gain failed\n",
      "428.43\t---TreeTime._poly.cost_gain: optimization of gain failed\n",
      "428.43\t---TreeTime._poly.cost_gain: optimization of gain failed\n",
      "428.43\t---TreeTime._poly.cost_gain: optimization of gain failed\n",
      "428.43\t---TreeTime._poly.cost_gain: optimization of gain failed\n",
      "428.43\t---TreeTime._poly.cost_gain: optimization of gain failed\n",
      "428.43\t---TreeTime._poly.cost_gain: optimization of gain failed\n",
      "428.43\t---TreeTime._poly.cost_gain: optimization of gain failed\n",
      "428.44\t---TreeTime._poly.cost_gain: optimization of gain failed\n",
      "428.44\t---TreeTime._poly.cost_gain: optimization of gain failed\n",
      "428.44\t---TreeTime._poly.cost_gain: optimization of gain failed\n",
      "428.44\t---TreeTime._poly.cost_gain: optimization of gain failed\n",
      "428.44\t---TreeTime._poly.cost_gain: optimization of gain failed\n",
      "428.44\t---TreeTime._poly.cost_gain: optimization of gain failed\n",
      "428.44\t---TreeTime._poly.cost_gain: optimization of gain failed\n",
      "428.44\t---TreeTime._poly.cost_gain: optimization of gain failed\n",
      "428.44\t---TreeTime._poly.cost_gain: optimization of gain failed\n",
      "428.44\t---TreeTime._poly.cost_gain: optimization of gain failed\n",
      "428.44\t---TreeTime._poly.cost_gain: optimization of gain failed\n",
      "428.44\t---TreeTime._poly.cost_gain: optimization of gain failed\n",
      "428.45\t---TreeTime._poly.cost_gain: optimization of gain failed\n",
      "428.47\t---TreeTime._poly.cost_gain: optimization of gain failed\n",
      "428.47\t---TreeTime._poly.cost_gain: optimization of gain failed\n",
      "428.47\t---TreeTime._poly.cost_gain: optimization of gain failed\n",
      "428.47\t---TreeTime._poly.cost_gain: optimization of gain failed\n"
     ]
    },
    {
     "name": "stdout",
     "output_type": "stream",
     "text": [
      "428.49\t---TreeTime._poly.cost_gain: optimization of gain failed\n",
      "428.49\t---TreeTime._poly.cost_gain: optimization of gain failed\n",
      "428.49\t---TreeTime._poly.cost_gain: optimization of gain failed\n",
      "428.49\t---TreeTime._poly.cost_gain: optimization of gain failed\n",
      "428.50\t---TreeTime._poly.cost_gain: optimization of gain failed\n",
      "428.50\t---TreeTime._poly.cost_gain: optimization of gain failed\n",
      "428.50\t---TreeTime._poly.cost_gain: optimization of gain failed\n",
      "428.50\t---TreeTime._poly.cost_gain: optimization of gain failed\n",
      "428.52\t---TreeTime._poly.cost_gain: optimization of gain failed\n",
      "428.52\t---TreeTime._poly.cost_gain: optimization of gain failed\n",
      "428.52\t---TreeTime._poly.cost_gain: optimization of gain failed\n",
      "428.52\t---TreeTime._poly.cost_gain: optimization of gain failed\n",
      "428.53\t---TreeTime._poly.cost_gain: optimization of gain failed\n",
      "428.53\t---TreeTime._poly.cost_gain: optimization of gain failed\n",
      "428.53\t---TreeTime._poly.cost_gain: optimization of gain failed\n",
      "428.53\t---TreeTime._poly.cost_gain: optimization of gain failed\n",
      "428.54\t---TreeTime._poly.cost_gain: optimization of gain failed\n",
      "428.54\t---TreeTime._poly.cost_gain: optimization of gain failed\n",
      "428.54\t---TreeTime._poly.cost_gain: optimization of gain failed\n",
      "428.54\t---TreeTime._poly.cost_gain: optimization of gain failed\n",
      "428.55\t---TreeTime._poly.cost_gain: optimization of gain failed\n",
      "428.55\t---TreeTime._poly.cost_gain: optimization of gain failed\n",
      "428.55\t---TreeTime._poly.cost_gain: optimization of gain failed\n",
      "428.55\t---TreeTime._poly.cost_gain: optimization of gain failed\n",
      "428.56\t---TreeTime._poly.cost_gain: optimization of gain failed\n",
      "428.56\t---TreeTime._poly.cost_gain: optimization of gain failed\n",
      "428.56\t---TreeTime._poly.cost_gain: optimization of gain failed\n",
      "428.56\t---TreeTime._poly.cost_gain: optimization of gain failed\n",
      "428.57\t---TreeTime._poly.cost_gain: optimization of gain failed\n",
      "428.57\t---TreeTime._poly.cost_gain: optimization of gain failed\n",
      "428.57\t---TreeTime._poly.cost_gain: optimization of gain failed\n",
      "428.57\t---TreeTime._poly.cost_gain: optimization of gain failed\n",
      "428.57\t---TreeTime._poly.cost_gain: optimization of gain failed\n",
      "428.57\t---TreeTime._poly.cost_gain: optimization of gain failed\n",
      "428.57\t---TreeTime._poly.cost_gain: optimization of gain failed\n",
      "428.57\t---TreeTime._poly.cost_gain: optimization of gain failed\n",
      "428.58\t---TreeTime._poly.cost_gain: optimization of gain failed\n",
      "428.58\t---TreeTime._poly.cost_gain: optimization of gain failed\n",
      "428.58\t---TreeTime._poly.cost_gain: optimization of gain failed\n",
      "428.58\t---TreeTime._poly.cost_gain: optimization of gain failed\n",
      "428.58\t---TreeTime._poly.cost_gain: optimization of gain failed\n",
      "428.58\t---TreeTime._poly.cost_gain: optimization of gain failed\n",
      "428.59\t---TreeTime._poly.cost_gain: optimization of gain failed\n",
      "428.59\t---TreeTime._poly.cost_gain: optimization of gain failed\n",
      "428.59\t---TreeTime._poly.cost_gain: optimization of gain failed\n",
      "428.59\t---TreeTime._poly.cost_gain: optimization of gain failed\n",
      "428.59\t---TreeTime._poly.cost_gain: optimization of gain failed\n",
      "428.59\t---TreeTime._poly.cost_gain: optimization of gain failed\n",
      "428.59\t---TreeTime._poly.cost_gain: optimization of gain failed\n",
      "428.59\t---TreeTime._poly.cost_gain: optimization of gain failed\n",
      "428.59\t---TreeTime._poly.cost_gain: optimization of gain failed\n",
      "428.59\t---TreeTime._poly.cost_gain: optimization of gain failed\n",
      "428.60\t---TreeTime._poly.cost_gain: optimization of gain failed\n",
      "428.60\t---TreeTime._poly.cost_gain: optimization of gain failed\n",
      "428.60\t---TreeTime._poly.cost_gain: optimization of gain failed\n",
      "428.60\t---TreeTime._poly.cost_gain: optimization of gain failed\n",
      "428.60\t---TreeTime._poly.cost_gain: optimization of gain failed\n",
      "428.60\t---TreeTime._poly.cost_gain: optimization of gain failed\n",
      "428.60\t---TreeTime._poly.cost_gain: optimization of gain failed\n",
      "428.60\t---TreeTime._poly.cost_gain: optimization of gain failed\n",
      "428.60\t---TreeTime._poly.cost_gain: optimization of gain failed\n",
      "428.60\t---TreeTime._poly.cost_gain: optimization of gain failed\n",
      "428.60\t---TreeTime._poly.cost_gain: optimization of gain failed\n",
      "428.60\t---TreeTime._poly.cost_gain: optimization of gain failed\n",
      "428.61\t---TreeTime._poly.cost_gain: optimization of gain failed\n",
      "428.61\t---TreeTime._poly.cost_gain: optimization of gain failed\n",
      "428.61\t---TreeTime._poly.cost_gain: optimization of gain failed\n",
      "428.61\t---TreeTime._poly.cost_gain: optimization of gain failed\n",
      "428.61\t---TreeTime._poly.cost_gain: optimization of gain failed\n",
      "428.61\t---TreeTime._poly.cost_gain: optimization of gain failed\n",
      "428.62\t---TreeTime._poly.cost_gain: optimization of gain failed\n",
      "428.62\t---TreeTime._poly.cost_gain: optimization of gain failed\n",
      "428.62\t---TreeTime._poly.cost_gain: optimization of gain failed\n",
      "428.71\t---TreeTime._poly.cost_gain: optimization of gain failed\n",
      "428.71\t---TreeTime._poly.cost_gain: optimization of gain failed\n",
      "428.72\t---TreeTime._poly.cost_gain: optimization of gain failed\n",
      "428.73\t---TreeTime._poly.cost_gain: optimization of gain failed\n",
      "428.74\t---TreeTime._poly.cost_gain: optimization of gain failed\n",
      "428.75\t---TreeTime._poly.cost_gain: optimization of gain failed\n",
      "428.77\t---TreeTime._poly.cost_gain: optimization of gain failed\n",
      "428.79\t---TreeTime._poly.cost_gain: optimization of gain failed\n",
      "428.82\t---TreeTime._poly.cost_gain: optimization of gain failed\n",
      "428.83\t---TreeTime._poly.cost_gain: optimization of gain failed\n",
      "428.85\t---TreeTime._poly.cost_gain: optimization of gain failed\n",
      "428.86\t---TreeTime._poly.cost_gain: optimization of gain failed\n",
      "428.87\t---TreeTime._poly.cost_gain: optimization of gain failed\n",
      "428.88\t---TreeTime._poly.cost_gain: optimization of gain failed\n",
      "428.89\t---TreeTime._poly.cost_gain: optimization of gain failed\n",
      "428.89\t---TreeTime._poly.cost_gain: optimization of gain failed\n",
      "428.90\t---TreeTime._poly.cost_gain: optimization of gain failed\n",
      "428.91\t---TreeTime._poly.cost_gain: optimization of gain failed\n",
      "428.91\t---TreeTime._poly.cost_gain: optimization of gain failed\n",
      "428.92\t---TreeTime._poly.cost_gain: optimization of gain failed\n",
      "428.92\t---TreeTime._poly.cost_gain: optimization of gain failed\n",
      "428.92\t---TreeTime._poly.cost_gain: optimization of gain failed\n",
      "428.92\t---TreeTime._poly.cost_gain: optimization of gain failed\n",
      "428.93\t---TreeTime._poly.cost_gain: optimization of gain failed\n",
      "428.94\t---TreeTime._poly.cost_gain: optimization of gain failed\n",
      "429.04\t---TreeTime._poly.cost_gain: optimization of gain failed\n",
      "429.25\t---TreeTime._poly.cost_gain: optimization of gain failed\n",
      "429.25\t---TreeTime._poly.cost_gain: optimization of gain failed\n",
      "429.25\t---TreeTime._poly.cost_gain: optimization of gain failed\n",
      "429.25\t---TreeTime._poly.cost_gain: optimization of gain failed\n",
      "429.27\t---TreeTime._poly.cost_gain: optimization of gain failed\n",
      "429.29\t---TreeTime._poly.cost_gain: optimization of gain failed\n",
      "429.30\t---TreeTime._poly.cost_gain: optimization of gain failed\n",
      "429.33\t---TreeTime._poly.cost_gain: optimization of gain failed\n",
      "429.36\t---TreeTime._poly.cost_gain: optimization of gain failed\n",
      "429.39\t---TreeTime._poly.cost_gain: optimization of gain failed\n",
      "429.42\t---TreeTime._poly.cost_gain: optimization of gain failed\n",
      "429.43\t---TreeTime._poly.cost_gain: optimization of gain failed\n",
      "429.44\t---TreeTime._poly.cost_gain: optimization of gain failed\n",
      "429.45\t---TreeTime._poly.cost_gain: optimization of gain failed\n",
      "429.46\t---TreeTime._poly.cost_gain: optimization of gain failed\n",
      "429.47\t---TreeTime._poly.cost_gain: optimization of gain failed\n",
      "429.48\t---TreeTime._poly.cost_gain: optimization of gain failed\n",
      "429.48\t---TreeTime._poly.cost_gain: optimization of gain failed\n",
      "429.49\t---TreeTime._poly.cost_gain: optimization of gain failed\n",
      "429.50\t---TreeTime._poly.cost_gain: optimization of gain failed\n",
      "429.50\t---TreeTime._poly.cost_gain: optimization of gain failed\n",
      "429.51\t---TreeTime._poly.cost_gain: optimization of gain failed\n",
      "429.51\t---TreeTime._poly.cost_gain: optimization of gain failed\n",
      "429.51\t---TreeTime._poly.cost_gain: optimization of gain failed\n",
      "429.52\t---TreeTime._poly.cost_gain: optimization of gain failed\n",
      "429.52\t---TreeTime._poly.cost_gain: optimization of gain failed\n",
      "429.52\t---TreeTime._poly.cost_gain: optimization of gain failed\n",
      "429.52\t---TreeTime._poly.cost_gain: optimization of gain failed\n",
      "429.52\t---TreeTime._poly.cost_gain: optimization of gain failed\n",
      "429.52\t---TreeTime._poly.cost_gain: optimization of gain failed\n",
      "429.53\t---TreeTime._poly.cost_gain: optimization of gain failed\n",
      "429.53\t---TreeTime._poly.cost_gain: optimization of gain failed\n",
      "429.53\t---TreeTime._poly.cost_gain: optimization of gain failed\n"
     ]
    },
    {
     "name": "stdout",
     "output_type": "stream",
     "text": [
      "429.55\t---TreeTime._poly.cost_gain: optimization of gain failed\n",
      "429.57\t---TreeTime._poly.cost_gain: optimization of gain failed\n",
      "\n",
      "429.75\t-ClockTree: Maximum likelihood tree optimization with temporal\n",
      "      \t constraints\n",
      "429.75\t--ClockTree.init_date_constraints...\n",
      "\n",
      "429.75\t-TreeAnc.infer_ancestral_sequences with method: probabilistic, joint\n",
      "429.75\t--TreeAnc._ml_anc_joint: type of reconstruction: Joint\n",
      "433.97\t--ClockTree.date2dist: Setting new molecular clock. rate=7.904e-04,\n",
      "      \t  R^2=0.8110\n",
      "433.97\t--ClockTree - Joint reconstruction:  Propagating leaves -> root...\n",
      "460.22\t--ClockTree - Joint reconstruction:  Propagating root -> leaves...\n",
      "\n",
      "460.34\t-TreeAnc.infer_ancestral_sequences with method: ml, joint\n",
      "460.35\t--TreeAnc._ml_anc_joint: type of reconstruction: Joint\n",
      "\n",
      "463.58\t###TreeTime.run: ITERATION 2 out of 2 iterations\n",
      "\n",
      "463.58\t-TreeTime.run: adding coalescent prior with Tc=skyline\n",
      "463.67\t--Coalescent:optimize_skyline:... current LH: 3046.301586\n",
      "492.05\t--Coalescent:optimize_skyline:...done. new LH: 3610.693505\n",
      "492.05\t--optimized a skyline\n",
      "\n",
      "492.32\t-TreeTime.resolve_polytomies: resolving multiple mergers...\n",
      "492.33\t---TreeTime._poly.cost_gain: optimization of gain failed\n",
      "492.34\t---TreeTime._poly.cost_gain: optimization of gain failed\n",
      "492.34\t---TreeTime._poly.cost_gain: optimization of gain failed\n",
      "492.34\t---TreeTime._poly.cost_gain: optimization of gain failed\n",
      "492.34\t---TreeTime._poly.cost_gain: optimization of gain failed\n",
      "492.34\t---TreeTime._poly.cost_gain: optimization of gain failed\n",
      "492.34\t---TreeTime._poly.cost_gain: optimization of gain failed\n",
      "492.34\t---TreeTime._poly.cost_gain: optimization of gain failed\n",
      "492.34\t---TreeTime._poly.cost_gain: optimization of gain failed\n",
      "492.34\t---TreeTime._poly.cost_gain: optimization of gain failed\n",
      "492.35\t---TreeTime._poly.cost_gain: optimization of gain failed\n",
      "492.35\t---TreeTime._poly.cost_gain: optimization of gain failed\n",
      "492.35\t---TreeTime._poly.cost_gain: optimization of gain failed\n",
      "492.35\t---TreeTime._poly.cost_gain: optimization of gain failed\n",
      "492.35\t---TreeTime._poly.cost_gain: optimization of gain failed\n",
      "492.35\t---TreeTime._poly.cost_gain: optimization of gain failed\n",
      "492.35\t---TreeTime._poly.cost_gain: optimization of gain failed\n",
      "492.35\t---TreeTime._poly.cost_gain: optimization of gain failed\n",
      "492.35\t---TreeTime._poly.cost_gain: optimization of gain failed\n",
      "492.35\t---TreeTime._poly.cost_gain: optimization of gain failed\n",
      "492.36\t---TreeTime._poly.cost_gain: optimization of gain failed\n",
      "492.36\t---TreeTime._poly.cost_gain: optimization of gain failed\n",
      "492.36\t---TreeTime._poly.cost_gain: optimization of gain failed\n",
      "492.36\t---TreeTime._poly.cost_gain: optimization of gain failed\n",
      "492.36\t---TreeTime._poly.cost_gain: optimization of gain failed\n",
      "492.36\t---TreeTime._poly.cost_gain: optimization of gain failed\n",
      "492.36\t---TreeTime._poly.cost_gain: optimization of gain failed\n",
      "492.36\t---TreeTime._poly.cost_gain: optimization of gain failed\n",
      "492.37\t---TreeTime._poly.cost_gain: optimization of gain failed\n",
      "492.37\t---TreeTime._poly.cost_gain: optimization of gain failed\n",
      "492.37\t---TreeTime._poly.cost_gain: optimization of gain failed\n",
      "492.38\t---TreeTime._poly.cost_gain: optimization of gain failed\n",
      "492.38\t---TreeTime._poly.cost_gain: optimization of gain failed\n",
      "492.38\t---TreeTime._poly.cost_gain: optimization of gain failed\n",
      "492.39\t---TreeTime._poly.cost_gain: optimization of gain failed\n",
      "492.39\t---TreeTime._poly.cost_gain: optimization of gain failed\n",
      "492.40\t---TreeTime._poly.cost_gain: optimization of gain failed\n",
      "492.40\t---TreeTime._poly.cost_gain: optimization of gain failed\n",
      "492.40\t---TreeTime._poly.cost_gain: optimization of gain failed\n",
      "492.41\t---TreeTime._poly.cost_gain: optimization of gain failed\n",
      "492.41\t---TreeTime._poly.cost_gain: optimization of gain failed\n",
      "492.41\t---TreeTime._poly.cost_gain: optimization of gain failed\n",
      "492.41\t---TreeTime._poly.cost_gain: optimization of gain failed\n",
      "492.41\t---TreeTime._poly.cost_gain: optimization of gain failed\n",
      "492.41\t---TreeTime._poly.cost_gain: optimization of gain failed\n",
      "492.43\t---TreeTime._poly.cost_gain: optimization of gain failed\n",
      "492.43\t---TreeTime._poly.cost_gain: optimization of gain failed\n",
      "492.43\t---TreeTime._poly.cost_gain: optimization of gain failed\n",
      "492.43\t---TreeTime._poly.cost_gain: optimization of gain failed\n",
      "492.48\t---TreeTime._poly.cost_gain: optimization of gain failed\n",
      "492.48\t---TreeTime._poly.cost_gain: optimization of gain failed\n",
      "492.49\t---TreeTime._poly.cost_gain: optimization of gain failed\n",
      "492.50\t---TreeTime._poly.cost_gain: optimization of gain failed\n",
      "492.50\t---TreeTime._poly.cost_gain: optimization of gain failed\n",
      "492.50\t---TreeTime._poly.cost_gain: optimization of gain failed\n",
      "492.51\t---TreeTime._poly.cost_gain: optimization of gain failed\n",
      "492.51\t---TreeTime._poly.cost_gain: optimization of gain failed\n",
      "492.51\t---TreeTime._poly.cost_gain: optimization of gain failed\n",
      "492.52\t---TreeTime._poly.cost_gain: optimization of gain failed\n",
      "492.52\t---TreeTime._poly.cost_gain: optimization of gain failed\n",
      "\n",
      "492.57\t-ClockTree: Maximum likelihood tree optimization with temporal\n",
      "      \t constraints\n",
      "492.57\t--ClockTree.init_date_constraints...\n",
      "\n",
      "492.57\t-TreeAnc.infer_ancestral_sequences with method: probabilistic, joint\n",
      "492.57\t--TreeAnc._ml_anc_joint: type of reconstruction: Joint\n",
      "496.97\t--ClockTree.date2dist: Setting new molecular clock. rate=7.956e-04,\n",
      "      \t  R^2=0.8110\n",
      "496.97\t--ClockTree - Joint reconstruction:  Propagating leaves -> root...\n",
      "529.27\t--ClockTree - Joint reconstruction:  Propagating root -> leaves...\n",
      "\n",
      "529.41\t-TreeAnc.infer_ancestral_sequences with method: ml, joint\n",
      "529.41\t--TreeAnc._ml_anc_joint: type of reconstruction: Joint\n",
      "\n",
      "532.85\t-###ClockTree.calc_rate_susceptibility: run with upper bound of rate\n",
      "      \t estimate\n",
      "\n",
      "532.85\t-ClockTree: Maximum likelihood tree optimization with temporal\n",
      "      \t constraints\n",
      "532.85\t--ClockTree.init_date_constraints...\n",
      "534.00\t--ClockTree.date2dist: Setting new molecular clock. rate=7.962e-04,\n",
      "      \t  R^2=0.8110\n",
      "534.01\t--ClockTree - Joint reconstruction:  Propagating leaves -> root...\n",
      "565.75\t--ClockTree - Joint reconstruction:  Propagating root -> leaves...\n",
      "565.88\t--###ClockTree.calc_rate_susceptibility: rate: 0.000898,\n",
      "      \t  LH:-600000022207.678589\n",
      "\n",
      "565.88\t-###ClockTree.calc_rate_susceptibility: run with lower bound of rate\n",
      "      \t estimate\n",
      "\n",
      "565.88\t-ClockTree: Maximum likelihood tree optimization with temporal\n",
      "      \t constraints\n",
      "565.88\t--ClockTree.init_date_constraints...\n",
      "567.07\t--ClockTree.date2dist: Setting new molecular clock. rate=7.919e-04,\n",
      "      \t  R^2=0.8110\n",
      "567.08\t--ClockTree - Joint reconstruction:  Propagating leaves -> root...\n",
      "599.64\t--ClockTree - Joint reconstruction:  Propagating root -> leaves...\n",
      "599.78\t--###ClockTree.calc_rate_susceptibility: rate: 0.000693,\n",
      "      \t  LH:-470000022337.831848\n",
      "\n",
      "599.78\t-###ClockTree.calc_rate_susceptibility: run with central rate estimate\n",
      "\n",
      "599.78\t-ClockTree: Maximum likelihood tree optimization with temporal\n",
      "      \t constraints\n",
      "599.78\t--ClockTree.init_date_constraints...\n",
      "600.93\t--ClockTree.date2dist: Setting new molecular clock. rate=7.953e-04,\n",
      "      \t  R^2=0.8110\n",
      "600.94\t--ClockTree - Joint reconstruction:  Propagating leaves -> root...\n",
      "632.57\t--ClockTree - Joint reconstruction:  Propagating root -> leaves...\n",
      "632.71\t--###ClockTree.calc_rate_susceptibility: rate: 0.000796,\n",
      "      \t  LH:-610000022241.857422\n",
      "\n",
      "632.72\t###TreeTime.run: FINAL ROUND - confidence estimation via marginal\n",
      "      \treconstruction\n",
      "\n",
      "632.72\t-ClockTree: Maximum likelihood tree optimization with temporal\n",
      "      \t constraints\n",
      "632.72\t--ClockTree.init_date_constraints...\n",
      "633.86\t--ClockTree.date2dist: Setting new molecular clock. rate=7.990e-04,\n",
      "      \t  R^2=0.8110\n",
      "633.86\t--ClockTree - Marginal reconstruction:  Propagating leaves -> root...\n",
      "686.19\t--ClockTree - Marginal reconstruction:  Propagating root -> leaves...\n",
      "\n",
      "751.78\tTreeTime: The following tips don't fit the clock model, please remove\n",
      "      \tthem from the tree. Their dates have been reset:\n",
      "\n",
      "751.78\tNZG_0358, input date: 2016.22, apparent date: 2016.22\n",
      "\n",
      "751.78\tNZG_0422, input date: 2016.25, apparent date: 2016.25\n",
      "\n",
      "751.78\tNZG_0393, input date: 2016.24, apparent date: 2016.24\n",
      "\n",
      "751.78\tNZG_0381, input date: 2016.23, apparent date: 2016.23\n",
      "\n",
      "751.78\tEM_NG_2016_029417, input date: 2016.22, apparent date: 2016.22\n",
      "\n",
      "751.78\tEM_NG_2016_029364, input date: 2016.21, apparent date: 2016.21\n",
      "\n",
      "751.79\tEM_NG_2016_029366, input date: 2016.21, apparent date: 2016.21\n",
      "\n",
      "751.79\tJ0169, input date: 2014.85, apparent date: 2014.85\n",
      "\n",
      "751.79\t2607_C2_12916_EMLH, input date: 2015.32, apparent date: 2015.32\n",
      "\n",
      "751.79\t2607_C2_12855_EMLH, input date: 2015.28, apparent date: 2015.28\n",
      "\n",
      "751.79\t1708_C1_13031_EMLH, input date: 2015.38, apparent date: 2015.38\n",
      "\n",
      "751.79\t1507_C1_18660_EMLH, input date: 2015.52, apparent date: 2015.52\n",
      "\n",
      "751.79\t1507_C1_18650_EMLH, input date: 2015.52, apparent date: 2015.52\n",
      "\n",
      "751.79\t1507_C1_13268_EMLH, input date: 2015.47, apparent date: 2015.47\n",
      "\n",
      "751.79\t1507_C1_18647_EMLH, input date: 2015.52, apparent date: 2015.52\n",
      "\n",
      "751.79\t0208_C1_MK10173, input date: 2015.58, apparent date: 2015.58\n",
      "\n",
      "751.79\t1507_C1_18706_EMLH, input date: 2015.53, apparent date: 2015.53\n",
      "\n",
      "751.79\t2208_C2_18659R_EMLH, input date: 2015.52, apparent date: 2015.52\n",
      "\n",
      "751.79\t2208_C2_18642R_EMLH, input date: 2015.51, apparent date: 2015.51\n",
      "\n",
      "751.79\t1507_C1_18636_EMLH, input date: 2015.51, apparent date: 2015.51\n",
      "\n",
      "751.79\t2208_C2_18687R_EMLH, input date: 2015.53, apparent date: 2015.53\n"
     ]
    }
   ],
   "source": [
    "res = tt.run(root='best', infer_gtr=True, relaxed_clock=False, max_iter=2,\n",
    "                    branch_length_mode='input', n_iqd=3, resolve_polytomies=True,\n",
    "                    Tc='skyline', time_marginal=\"assign\", vary_rate=True)"
   ]
  },
  {
   "cell_type": "code",
   "execution_count": 47,
   "metadata": {},
   "outputs": [
    {
     "name": "stdout",
     "output_type": "stream",
     "text": [
      "5434.30\t--ClockTree.branch_length_to_years: setting node positions in units of\n",
      "       \t  years\n"
     ]
    },
    {
     "data": {
      "image/png": "[encoded data removed]",
      "text/plain": [
       "<Figure size 864x576 with 2 Axes>"
      ]
     },
     "metadata": {
      "needs_background": "light"
     },
     "output_type": "display_data"
    },
    {
     "name": "stdout",
     "output_type": "stream",
     "text": [
      "Substitution rate (mu): 1.0\n",
      "\n",
      "Equilibrium frequencies (pi_i):\n",
      "  A: 0.3137\n",
      "  C: 0.2146\n",
      "  G: 0.1984\n",
      "  T: 0.2633\n",
      "  -: 0.0099\n",
      "\n",
      "Symmetrized rates from j->i (W_ij):\n",
      "\tA\tC\tG\tT\t-\n",
      "  A\t0\t0.3199\t1.9135\t0.1997\t16.1161\n",
      "  C\t0.3199\t0\t0.1776\t2.6889\t34.0565\n",
      "  G\t1.9135\t0.1776\t0\t0.3248\t18.6778\n",
      "  T\t0.1997\t2.6889\t0.3248\t0\t62.4344\n",
      "  -\t16.1161\t34.0565\t18.6778\t62.4344\t0\n",
      "\n",
      "Actual rates from j->i (Q_ij):\n",
      "\tA\tC\tG\tT\t-\n",
      "  A\t0\t0.1004\t0.6003\t0.0626\t5.0563\n",
      "  C\t0.0686\t0\t0.0381\t0.5769\t7.3073\n",
      "  G\t0.3797\t0.0352\t0\t0.0644\t3.706\n",
      "  T\t0.0526\t0.7081\t0.0855\t0\t16.4418\n",
      "  -\t0.16\t0.3382\t0.1855\t0.62\t0\n",
      "\n"
     ]
    },
    {
     "data": {
      "text/plain": [
       "<Figure size 432x288 with 0 Axes>"
      ]
     },
     "metadata": {},
     "output_type": "display_data"
    },
    {
     "data": {
      "image/png": "[encoded data removed]",
      "text/plain": [
       "<Figure size 432x288 with 1 Axes>"
      ]
     },
     "metadata": {
      "needs_background": "light"
     },
     "output_type": "display_data"
    }
   ],
   "source": [
    "ebola=tt\n",
    "from treetime import TreeTime\n",
    "from treetime.utils import parse_dates\n",
    "import treetime.config as ttconf\n",
    "\n",
    "from treetime.treetime import plot_vs_years\n",
    "fig, axs = plt.subplots(1,2, sharey=True, figsize=(12,8))\n",
    "plot_vs_years(tt, step=1, ax=axs[1], confidence=(0.05,0.95), label_func = lambda x:\"\")\n",
    "axs[1].set_xlim(0, 2.5)\n",
    "axs[1].set_title(\"time tree\")\n",
    "\n",
    "axs[0].set_title(\"mutation tree\")\n",
    "for n in ebola.tree.find_clades():\n",
    "    n.branch_length=n.mutation_length\n",
    "Phylo.draw(ebola.tree, label_func=lambda x:\"\", axes=axs[0])\n",
    "plt.tight_layout()\n",
    "\n",
    "    # reset branch length to time (in substitution rate units)\n",
    "for n in ebola.tree.find_clades():\n",
    "    n.branch_length=n.clock_length\n",
    "\n",
    "    # OUTPUT the GTR model\n",
    "print(ebola.gtr)\n",
    "\n",
    "    # plot Skyline\n",
    "skyline, confidence = ebola.merger_model.skyline_inferred(gen=50, confidence=2.0)\n",
    "skyline_empirical = ebola.merger_model.skyline_empirical(gen=50)\n",
    "plt.figure()\n",
    "plt.fill_between(skyline.x, confidence[0], confidence[1], color=(0.8, 0.8, 0.8))\n",
    "plt.plot(skyline.x, skyline.y, label='maximum likelihood skyline')\n",
    "plt.plot(skyline_empirical.x, skyline_empirical.y, label='empirical skyline')\n",
    "plt.yscale('log')\n",
    "plt.legend()\n",
    "plt.ticklabel_format(axis='x',useOffset=False)"
   ]
  },
  {
   "cell_type": "code",
   "execution_count": null,
   "metadata": {},
   "outputs": [],
   "source": [
    "#preferred formats are are “%Y-%m-%s” or numerical as in 2016.45"
   ]
  }
 ],
 "metadata": {
  "kernelspec": {
   "display_name": "simenv",
   "language": "python",
   "name": "simenv"
  },
  "language_info": {
   "codemirror_mode": {
    "name": "ipython",
    "version": 3
   },
   "file_extension": ".py",
   "mimetype": "text/x-python",
   "name": "python",
   "nbconvert_exporter": "python",
   "pygments_lexer": "ipython3",
   "version": "3.7.7"
  }
 },
 "nbformat": 4,
 "nbformat_minor": 4
}
